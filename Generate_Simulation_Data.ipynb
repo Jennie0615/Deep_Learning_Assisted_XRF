{
 "cells": [
  {
   "cell_type": "markdown",
   "metadata": {},
   "source": [
    "# Generate Simulation Data"
   ]
  },
  {
   "cell_type": "code",
   "execution_count": null,
   "metadata": {},
   "outputs": [],
   "source": [
    "import numpy as np\n",
    "import matplotlib.pyplot as plt\n",
    "from PyMca5.PyMca import ConfigDict\n",
    "from PyMca5.PyMca import ClassMcaTheory\n",
    "from PyMca5.PyMca import ConcentrationsTool\n",
    "import pandas as pd\n",
    "import h5py\n",
    "import time"
   ]
  },
  {
   "cell_type": "code",
   "execution_count": null,
   "metadata": {},
   "outputs": [],
   "source": [
    "channels = list(range(4096))\n",
    "spectra = np.loadtxt(\"Book1.csv\", delimiter=',') # load one example spectra with channel for PyMca initialization\n",
    "plt.plot(channels, spectra)\n",
    "plt.ylabel('Intensity')\n",
    "plt.xlabel('Energy Level')"
   ]
  },
  {
   "cell_type": "code",
   "execution_count": null,
   "metadata": {},
   "outputs": [],
   "source": [
    "Pigment_list = ['CaCO3',\n",
    "                'Cadmium yellow',\n",
    "                'Chromate yellow',\n",
    "                'Chromate green',\n",
    "                'Cobalt blue',\n",
    "                'Emerald green',\n",
    "                'Iron oxide',  \n",
    "                'Lead White',\n",
    "                'Prussian blue',\n",
    "                'Red lead',\n",
    "                'SnO2',\n",
    "                'Ultramarine blue',\n",
    "                'Vermilion',\n",
    "                'ZnO']\n",
    "\n",
    "Top_Pigment_list = ['Cadmium yellow',\n",
    "                    'Cobalt blue',\n",
    "                    'Emerald green',\n",
    "                    'Iron oxide', \n",
    "                    'Lead White', \n",
    "                    'Prussian blue', \n",
    "                    'SnO2', \n",
    "                    'Ultramarine blue',\n",
    "                    'Vermilion']\n",
    "\n",
    "Bottom_Pigment_list = ['Chromate green',\n",
    "                       'Chromate yellow',\n",
    "                       'Cobalt blue',\n",
    "                       'Emerald green',\n",
    "                       'Lead White', \n",
    "                       'Red lead',\n",
    "                       'Ultramarine blue',\n",
    "                       'Vermilion',\n",
    "                       'ZnO']"
   ]
  },
  {
   "cell_type": "code",
   "execution_count": null,
   "metadata": {},
   "outputs": [],
   "source": [
    "config_multilayer = ConfigDict.ConfigDict()\n",
    "config_multilayer.read(\"GauguinPainting1.cfg\")# cfg file path"
   ]
  },
  {
   "cell_type": "code",
   "execution_count": null,
   "metadata": {},
   "outputs": [],
   "source": [
    "config_multilayer['multilayer']"
   ]
  },
  {
   "cell_type": "markdown",
   "metadata": {},
   "source": [
    "Groud layer: CaCO3 450 um 2g/cm3"
   ]
  },
  {
   "cell_type": "code",
   "execution_count": null,
   "metadata": {},
   "outputs": [],
   "source": [
    "config_multilayer['multilayer']['Layer2'] = [1, 'CaCO3', 2, 0.45] # add the fixed ground layer"
   ]
  },
  {
   "cell_type": "code",
   "execution_count": null,
   "metadata": {},
   "outputs": [],
   "source": [
    "spectra_sheet = pd.DataFrame(columns = list(range(4096)))\n",
    "\n",
    "classifiers = []\n",
    "for i in Pigment_list:\n",
    "    classifiers.append(i + '_top')\n",
    "    classifiers.append(i + '_bottom')\n",
    "groudtruth_sheet = pd.DataFrame(columns = classifiers)"
   ]
  },
  {
   "cell_type": "markdown",
   "metadata": {},
   "source": [
    "## One pigment in one layer\n",
    "Thickness: 50-200 um for the first layer, 100-150 um for the second layer"
   ]
  },
  {
   "cell_type": "code",
   "execution_count": null,
   "metadata": {},
   "outputs": [],
   "source": [
    "%%time\n",
    "\n",
    "start = time.time()\n",
    "\n",
    "classifier_list = np.zeros((1, 28))\n",
    "mcaFit_multilayer = ClassMcaTheory.McaTheory()\n",
    "mcaFit_multilayer.setData(channels, spectra)\n",
    "\n",
    "\n",
    "for i in range(1, 14): # for top-pigment\n",
    "    top_pigment = Pigment_list[i]\n",
    "    classifier_list[0, 2*i] = 1\n",
    "    top_density = 4 # density for all layer is same\n",
    "    \n",
    "    for j in range(1, 14): # for bottom-pigment\n",
    "        bottom_pigment = Pigment_list[j]        \n",
    "        if (top_pigment in Top_Pigment_list) and (bottom_pigment in Bottom_Pigment_list):\n",
    "            continue\n",
    "        bottom_density = 4 # density for all layer is same\n",
    "        classifier_list[0, 2*j + 1] = 1\n",
    "            \n",
    "        for top_thickness in np.arange(0.005, 0.021, 0.001): #top layer thickness: 50 - 200 um\n",
    "            config_multilayer['multilayer']['Layer0'] = [1, top_pigment, top_density, top_thickness]    \n",
    "\n",
    "            for bottom_thickness in np.arange(0.01, 0.016, 0.001):  #bottom layer thickness: 100 - 150 um\n",
    "                gt = pd.DataFrame(classifier_list, columns = classifiers)\n",
    "                groudtruth_sheet = groudtruth_sheet.append(gt, ignore_index=True)         \n",
    "\n",
    "                config_multilayer['multilayer']['Layer1'] = [1, bottom_pigment, bottom_density, bottom_thickness]\n",
    "\n",
    "                mcaFit_multilayer.configure(config_multilayer)\n",
    "                mcaFit_multilayer.estimate()\n",
    "                fitresult_multilayer = mcaFit_multilayer.startFit(digest=1)\n",
    "                fitResult_multilayer = {}\n",
    "                fitResult_multilayer['result'] = fitresult_multilayer[1]\n",
    "\n",
    "                tool = ConcentrationsTool.ConcentrationsTool()\n",
    "                tool.configure()\n",
    "                ddict = {}\n",
    "                ddict.update(config_multilayer['concentrations'])\n",
    "                tool.configure(ddict)\n",
    "                ddict, info = tool.processFitResult(fitresult=fitResult_multilayer,\n",
    "                                                        elementsfrommatrix=True,\n",
    "                                                        addinfo=True)\n",
    "                #self._concentrationsInfo = info\n",
    "                groupsList = fitResult_multilayer['result']['groups']\n",
    "                areas = []\n",
    "                for group in groupsList:\n",
    "                    item = group.split()\n",
    "                    element = item[0]\n",
    "                    if len(element) >2:\n",
    "                        areas.append(0.0)\n",
    "                    else:\n",
    "                        area = ddict['area'][group]\n",
    "                        areas.append(area)\n",
    "\n",
    "                nglobal    = len(fitResult_multilayer['result']['parameters']) - len(groupsList)\n",
    "                parameters = []\n",
    "                for k in range(len(fitResult_multilayer['result']['parameters'])):\n",
    "                    if k < nglobal:\n",
    "                        parameters.append(fitResult_multilayer['result']['fittedpar'][k])\n",
    "                    else:\n",
    "                        parameters.append(areas[k-nglobal])\n",
    "\n",
    "                xmatrix = fitResult_multilayer['result']['xdata']\n",
    "                ymatrix = mcaFit_multilayer.mcatheory(parameters,xmatrix)\n",
    "                ymatrix.shape =  [len(ymatrix),1]\n",
    "\n",
    "                s = pd.DataFrame(np.transpose(ymatrix), columns = list(range(4096)))\n",
    "                spectra_sheet = spectra_sheet.append(s, ignore_index=True)\n",
    "                print(top_thickness*10000, 'um', top_pigment, 'on', bottom_thickness*10000, 'um', bottom_pigment, 'done!')\n",
    "        classifier_list[0, 2*j + 1] = 0\n",
    "        end = time.time()\n",
    "        print(top_pigment, 'on', bottom_pigment, 'done!')\n",
    "        print('It has been', end - start, 's!')\n",
    "        spectra_sheet.to_csv(r'spectra_sheet.csv')\n",
    "        groudtruth_sheet.to_csv(r'groudtruth_sheet.csv')\n",
    "    classifier_list[0, 2*i] = 0"
   ]
  },
  {
   "cell_type": "code",
   "execution_count": null,
   "metadata": {},
   "outputs": [],
   "source": [
    "spectra_sheet.to_csv(r'spectra_sheet.csv')\n",
    "groudtruth_sheet.to_csv(r'groudtruth_sheet.csv')"
   ]
  },
  {
   "cell_type": "code",
   "execution_count": null,
   "metadata": {},
   "outputs": [],
   "source": [
    "spectra_sheet"
   ]
  },
  {
   "cell_type": "code",
   "execution_count": null,
   "metadata": {},
   "outputs": [],
   "source": [
    "groudtruth_sheet"
   ]
  },
  {
   "cell_type": "code",
   "execution_count": null,
   "metadata": {},
   "outputs": [],
   "source": []
  }
 ],
 "metadata": {
  "kernelspec": {
   "display_name": "Python 3",
   "language": "python",
   "name": "python3"
  },
  "language_info": {
   "codemirror_mode": {
    "name": "ipython",
    "version": 3
   },
   "file_extension": ".py",
   "mimetype": "text/x-python",
   "name": "python",
   "nbconvert_exporter": "python",
   "pygments_lexer": "ipython3",
   "version": "3.9.0"
  }
 },
 "nbformat": 4,
 "nbformat_minor": 4
}

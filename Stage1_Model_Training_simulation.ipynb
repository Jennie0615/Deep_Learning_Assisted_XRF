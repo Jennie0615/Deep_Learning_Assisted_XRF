{
 "cells": [
  {
   "cell_type": "markdown",
   "metadata": {
    "id": "tHAdRMEqus83"
   },
   "source": [
    "# Model Training"
   ]
  },
  {
   "cell_type": "code",
   "execution_count": null,
   "metadata": {
    "id": "ibrc0MArrzH7"
   },
   "outputs": [],
   "source": [
    "import numpy as np\n",
    "import pandas as pd\n",
    "import os\n",
    "import matplotlib.pyplot as plt\n",
    "\n",
    "import tensorflow.keras as keras\n",
    "from tensorflow.keras.utils import to_categorical\n",
    "from tensorflow.keras.models import Model\n",
    "from tensorflow.keras.layers import Input\n",
    "from tensorflow.keras.layers import Dense, BatchNormalization\n",
    "from tensorflow.keras.layers import Flatten, Add, ReLU\n",
    "from tensorflow.keras.layers import Dropout\n",
    "from tensorflow.keras.layers import Conv1D\n",
    "from tensorflow.keras.layers import MaxPooling1D\n",
    "from tensorflow.keras.layers import concatenate\n",
    "from tensorflow.python.keras.utils.data_utils import Sequence"
   ]
  },
  {
   "cell_type": "code",
   "execution_count": null,
   "metadata": {
    "id": "47qpTgQ4rzH9",
    "outputId": "7a4350fb-2a50-4d46-aace-963dd2b50591"
   },
   "outputs": [
    {
     "name": "stdout",
     "output_type": "stream",
     "text": [
      "(16224, 3815)\n"
     ]
    },
    {
     "data": {
      "text/plain": [
       "(16224, 3815)"
      ]
     },
     "execution_count": 2,
     "metadata": {},
     "output_type": "execute_result"
    }
   ],
   "source": [
    "# Path for the simulation data and noisy data with background\n",
    "feature_path='.../spectra_sheet_crop_2.8kev_with_BG.csv'\n",
    "feature_path2='.../spectra_sim_1_with_BG.csv'\n",
    "tbl = pd.read_csv(feature_path)\n",
    "tbl = tbl.set_index('ID')\n",
    "print(tbl.shape)\n",
    "\n",
    "tbl2 = pd.read_csv(feature_path2)\n",
    "tbl2 = tbl2.set_index('ID')\n",
    "tbl2.shape"
   ]
  },
  {
   "cell_type": "code",
   "execution_count": null,
   "metadata": {
    "id": "E_cB8OV2rzH-",
    "outputId": "6b47d99e-1344-4203-d3bd-5a151e78036b"
   },
   "outputs": [
    {
     "data": {
      "text/html": [
       "<div>\n",
       "<style scoped>\n",
       "    .dataframe tbody tr th:only-of-type {\n",
       "        vertical-align: middle;\n",
       "    }\n",
       "\n",
       "    .dataframe tbody tr th {\n",
       "        vertical-align: top;\n",
       "    }\n",
       "\n",
       "    .dataframe thead th {\n",
       "        text-align: right;\n",
       "    }\n",
       "</style>\n",
       "<table border=\"1\" class=\"dataframe\">\n",
       "  <thead>\n",
       "    <tr style=\"text-align: right;\">\n",
       "      <th></th>\n",
       "      <th>feature_281</th>\n",
       "      <th>feature_282</th>\n",
       "      <th>feature_283</th>\n",
       "      <th>feature_284</th>\n",
       "      <th>feature_285</th>\n",
       "      <th>feature_286</th>\n",
       "      <th>feature_287</th>\n",
       "      <th>feature_288</th>\n",
       "      <th>feature_289</th>\n",
       "      <th>feature_290</th>\n",
       "      <th>...</th>\n",
       "      <th>feature_4086</th>\n",
       "      <th>feature_4087</th>\n",
       "      <th>feature_4088</th>\n",
       "      <th>feature_4089</th>\n",
       "      <th>feature_4090</th>\n",
       "      <th>feature_4091</th>\n",
       "      <th>feature_4092</th>\n",
       "      <th>feature_4093</th>\n",
       "      <th>feature_4094</th>\n",
       "      <th>feature_4095</th>\n",
       "    </tr>\n",
       "    <tr>\n",
       "      <th>ID</th>\n",
       "      <th></th>\n",
       "      <th></th>\n",
       "      <th></th>\n",
       "      <th></th>\n",
       "      <th></th>\n",
       "      <th></th>\n",
       "      <th></th>\n",
       "      <th></th>\n",
       "      <th></th>\n",
       "      <th></th>\n",
       "      <th></th>\n",
       "      <th></th>\n",
       "      <th></th>\n",
       "      <th></th>\n",
       "      <th></th>\n",
       "      <th></th>\n",
       "      <th></th>\n",
       "      <th></th>\n",
       "      <th></th>\n",
       "      <th></th>\n",
       "      <th></th>\n",
       "    </tr>\n",
       "  </thead>\n",
       "  <tbody>\n",
       "    <tr>\n",
       "      <th>0</th>\n",
       "      <td>0.336296</td>\n",
       "      <td>0.362685</td>\n",
       "      <td>0.410058</td>\n",
       "      <td>0.468601</td>\n",
       "      <td>0.547840</td>\n",
       "      <td>0.662325</td>\n",
       "      <td>0.788900</td>\n",
       "      <td>0.920894</td>\n",
       "      <td>1.049247</td>\n",
       "      <td>1.160625</td>\n",
       "      <td>...</td>\n",
       "      <td>-9.490000e-07</td>\n",
       "      <td>-9.510000e-07</td>\n",
       "      <td>-9.530000e-07</td>\n",
       "      <td>-9.550000e-07</td>\n",
       "      <td>-9.570000e-07</td>\n",
       "      <td>-9.590000e-07</td>\n",
       "      <td>-9.610000e-07</td>\n",
       "      <td>-9.630000e-07</td>\n",
       "      <td>-9.650000e-07</td>\n",
       "      <td>-9.670000e-07</td>\n",
       "    </tr>\n",
       "    <tr>\n",
       "      <th>1</th>\n",
       "      <td>0.341021</td>\n",
       "      <td>0.371070</td>\n",
       "      <td>0.423037</td>\n",
       "      <td>0.486664</td>\n",
       "      <td>0.570651</td>\n",
       "      <td>0.688407</td>\n",
       "      <td>0.815564</td>\n",
       "      <td>0.944555</td>\n",
       "      <td>1.066089</td>\n",
       "      <td>1.167499</td>\n",
       "      <td>...</td>\n",
       "      <td>8.200000e-07</td>\n",
       "      <td>8.210000e-07</td>\n",
       "      <td>8.220000e-07</td>\n",
       "      <td>8.230000e-07</td>\n",
       "      <td>8.240000e-07</td>\n",
       "      <td>8.250000e-07</td>\n",
       "      <td>8.260000e-07</td>\n",
       "      <td>8.270000e-07</td>\n",
       "      <td>8.280000e-07</td>\n",
       "      <td>8.290000e-07</td>\n",
       "    </tr>\n",
       "    <tr>\n",
       "      <th>2</th>\n",
       "      <td>0.444545</td>\n",
       "      <td>0.489398</td>\n",
       "      <td>0.549174</td>\n",
       "      <td>0.608149</td>\n",
       "      <td>0.670369</td>\n",
       "      <td>0.746924</td>\n",
       "      <td>0.815075</td>\n",
       "      <td>0.873504</td>\n",
       "      <td>0.923369</td>\n",
       "      <td>0.964493</td>\n",
       "      <td>...</td>\n",
       "      <td>1.050000e-06</td>\n",
       "      <td>1.050000e-06</td>\n",
       "      <td>1.050000e-06</td>\n",
       "      <td>1.050000e-06</td>\n",
       "      <td>1.050000e-06</td>\n",
       "      <td>1.050000e-06</td>\n",
       "      <td>1.060000e-06</td>\n",
       "      <td>1.060000e-06</td>\n",
       "      <td>1.060000e-06</td>\n",
       "      <td>1.060000e-06</td>\n",
       "    </tr>\n",
       "  </tbody>\n",
       "</table>\n",
       "<p>3 rows × 3815 columns</p>\n",
       "</div>"
      ],
      "text/plain": [
       "    feature_281  feature_282  feature_283  feature_284  feature_285  \\\n",
       "ID                                                                    \n",
       "0      0.336296     0.362685     0.410058     0.468601     0.547840   \n",
       "1      0.341021     0.371070     0.423037     0.486664     0.570651   \n",
       "2      0.444545     0.489398     0.549174     0.608149     0.670369   \n",
       "\n",
       "    feature_286  feature_287  feature_288  feature_289  feature_290  ...  \\\n",
       "ID                                                                   ...   \n",
       "0      0.662325     0.788900     0.920894     1.049247     1.160625  ...   \n",
       "1      0.688407     0.815564     0.944555     1.066089     1.167499  ...   \n",
       "2      0.746924     0.815075     0.873504     0.923369     0.964493  ...   \n",
       "\n",
       "    feature_4086  feature_4087  feature_4088  feature_4089  feature_4090  \\\n",
       "ID                                                                         \n",
       "0  -9.490000e-07 -9.510000e-07 -9.530000e-07 -9.550000e-07 -9.570000e-07   \n",
       "1   8.200000e-07  8.210000e-07  8.220000e-07  8.230000e-07  8.240000e-07   \n",
       "2   1.050000e-06  1.050000e-06  1.050000e-06  1.050000e-06  1.050000e-06   \n",
       "\n",
       "    feature_4091  feature_4092  feature_4093  feature_4094  feature_4095  \n",
       "ID                                                                        \n",
       "0  -9.590000e-07 -9.610000e-07 -9.630000e-07 -9.650000e-07 -9.670000e-07  \n",
       "1   8.250000e-07  8.260000e-07  8.270000e-07  8.280000e-07  8.290000e-07  \n",
       "2   1.050000e-06  1.060000e-06  1.060000e-06  1.060000e-06  1.060000e-06  \n",
       "\n",
       "[3 rows x 3815 columns]"
      ]
     },
     "execution_count": 3,
     "metadata": {},
     "output_type": "execute_result"
    }
   ],
   "source": [
    "tbl.head(3)"
   ]
  },
  {
   "cell_type": "code",
   "execution_count": null,
   "metadata": {
    "id": "cpU33ZKdrzH_",
    "outputId": "d87e0106-4888-4446-a1da-1e7d71f35326"
   },
   "outputs": [
    {
     "data": {
      "text/plain": [
       "True"
      ]
     },
     "execution_count": 4,
     "metadata": {},
     "output_type": "execute_result"
    }
   ],
   "source": [
    "import tensorflow as tf\n",
    "tf.test.is_gpu_available()"
   ]
  },
  {
   "cell_type": "code",
   "execution_count": null,
   "metadata": {
    "id": "zDqvbE95rzH_",
    "outputId": "83be7e3a-9715-4774-db2a-6709a4620209"
   },
   "outputs": [
    {
     "data": {
      "text/plain": [
       "[<matplotlib.lines.Line2D at 0x7f1e2a2c29e8>]"
      ]
     },
     "execution_count": 5,
     "metadata": {},
     "output_type": "execute_result"
    },
    {
     "data": {
      "image/png": "[encoded data removed]",
      "text/plain": [
       "<Figure size 432x288 with 1 Axes>"
      ]
     },
     "metadata": {
      "needs_background": "light"
     },
     "output_type": "display_data"
    }
   ],
   "source": [
    "def read_features(ID, desired_size = (4096,1), alpha = 0.5):\n",
    "    try:    \n",
    "        if alpha < 0.3:\n",
    "            row = tbl2.loc[ID,:]\n",
    "            row[row < 2] = 0\n",
    "            row = np.log1p(np.log1p(np.sqrt(row)))\n",
    "#             row = np.log1p(row)\n",
    "            row = np.expand_dims(row, axis = -1)            \n",
    "        else:  \n",
    "            row = tbl.loc[ID,:]\n",
    "            row[row < 0] = 0\n",
    "            row = np.log1p(np.log1p(np.sqrt(row)))\n",
    "#             row = np.log1p(row)\n",
    "            row = np.expand_dims(row, axis = -1)\n",
    "    except:\n",
    "        row = np.zeros(desired_size)        \n",
    "    return row\n",
    "\n",
    "a = read_features(400, (200,1), 0.7)\n",
    "a.shape\n",
    "\n",
    "xx = np.linspace(281, 4096, 3815)\n",
    "plt.plot(a)\n",
    "# plt.xlim([281, 4096])\n",
    "# a.shape"
   ]
  },
  {
   "cell_type": "code",
   "execution_count": null,
   "metadata": {
    "id": "Q0f5z-R0rzIA",
    "outputId": "76763d68-1eee-44b3-caad-40d1be9316e4"
   },
   "outputs": [
    {
     "data": {
      "text/plain": [
       "[<matplotlib.lines.Line2D at 0x7f1e2ce81a20>]"
      ]
     },
     "execution_count": 6,
     "metadata": {},
     "output_type": "execute_result"
    },
    {
     "data": {
      "image/png": "[encoded data removed]",
      "text/plain": [
       "<Figure size 432x288 with 1 Axes>"
      ]
     },
     "metadata": {
      "needs_background": "light"
     },
     "output_type": "display_data"
    }
   ],
   "source": [
    "row = tbl2.loc[400,:]\n",
    "row = np.expand_dims(row, axis = -1)     \n",
    "xx = np.linspace(281, 4096, 3815)\n",
    "plt.plot(xx, row)"
   ]
  },
  {
   "cell_type": "code",
   "execution_count": null,
   "metadata": {
    "id": "eDDohiRRrzIB",
    "outputId": "f76d9a9a-45ad-451a-bbbd-a7d349ab57c9"
   },
   "outputs": [
    {
     "data": {
      "text/plain": [
       "(16224, 13)"
      ]
     },
     "execution_count": 7,
     "metadata": {},
     "output_type": "execute_result"
    }
   ],
   "source": [
    "# read labels (groundtruth)\n",
    "gt_path='.../large_label_13.csv'\n",
    "gt = pd.read_csv(gt_path)\n",
    "gt = gt.set_index('ID')\n",
    "gt.shape"
   ]
  },
  {
   "cell_type": "code",
   "execution_count": null,
   "metadata": {
    "id": "JctWLBTNrzIC",
    "outputId": "a051855b-0a70-4bad-92cc-a54f74151061"
   },
   "outputs": [
    {
     "data": {
      "text/plain": [
       "(13,)"
      ]
     },
     "execution_count": 8,
     "metadata": {},
     "output_type": "execute_result"
    }
   ],
   "source": [
    "def read_gt(ID, desired_size = (13,1)):\n",
    "    try:\n",
    "        row = gt.loc[ID,:]\n",
    "#         row = np.expand_dim(row, axis = -1)\n",
    "    except:\n",
    "        row = np.zeros(desired_size)  \n",
    "    \n",
    "    return row\n",
    "a = read_gt(400, (13,1))\n",
    "a.shape"
   ]
  },
  {
   "cell_type": "code",
   "execution_count": null,
   "metadata": {
    "id": "YWCqPYgZrzIC",
    "outputId": "a37883a8-3cf9-430e-fca3-b6477a7c989c"
   },
   "outputs": [
    {
     "data": {
      "text/plain": [
       "Cadmium yellow      1\n",
       "Chromate yellow     0\n",
       "Chromate green      0\n",
       "Cobalt blue         0\n",
       "Emerald green       0\n",
       "Iron oxide          0\n",
       "Lead White          1\n",
       "Prussian blue       0\n",
       "Red lead            0\n",
       "SnO2                0\n",
       "Ultramarine blue    0\n",
       "Vermilion           0\n",
       "ZnO                 0\n",
       "Name: 400, dtype: int64"
      ]
     },
     "execution_count": 9,
     "metadata": {},
     "output_type": "execute_result"
    }
   ],
   "source": [
    "a"
   ]
  },
  {
   "cell_type": "code",
   "execution_count": null,
   "metadata": {
    "id": "eDi4mc0crzIE"
   },
   "outputs": [],
   "source": [
    "class DataGenerator(Sequence):\n",
    "    'Generates data for Keras'\n",
    "    def __init__(self, list_IDs, batch_size=64, dim=tbl.shape[1], n_channels=1,\n",
    "                     augment =False, shuffle=True):\n",
    "        'Initialization'\n",
    "        self.dim = dim\n",
    "        self.batch_size = batch_size\n",
    "        self.list_IDs = list_IDs\n",
    "        self.n_channels = n_channels\n",
    "        self.shuffle = shuffle\n",
    "        self.augment = augment\n",
    "        self.on_epoch_end()\n",
    "        \n",
    "    def __len__(self):\n",
    "        'Denotes the number of batches per epoch'\n",
    "        return int(np.floor(len(self.list_IDs) / self.batch_size))\n",
    "    \n",
    "    def __getitem__(self, index):\n",
    "        'Generate one batch of data'\n",
    "        # Generate indexes of the batch\n",
    "        indexes = self.indexes[index*self.batch_size:(index+1)*self.batch_size]\n",
    "\n",
    "        # Find list of IDs\n",
    "        list_IDs_temp = [self.list_IDs[k] for k in indexes]\n",
    "\n",
    "        # Generate data\n",
    "        X, y = self.__data_generation(list_IDs_temp)\n",
    "\n",
    "        return X, y   \n",
    "    \n",
    "    def on_epoch_end(self):\n",
    "        'Updates indexes after each epoch'\n",
    "        self.indexes = np.arange(len(self.list_IDs))\n",
    "        if self.shuffle == True:\n",
    "            np.random.shuffle(self.indexes)\n",
    "            \n",
    "    def __data_generation(self, list_IDs_temp):\n",
    "        'Generates data containing batch_size samples' # X : (n_samples, *dim, n_channels)\n",
    "        # Initialization\n",
    "        X = np.empty((self.batch_size, self.dim, self.n_channels))\n",
    "        y = np.empty((self.batch_size, 13), dtype=np.float32)\n",
    "\n",
    "        # Generate data\n",
    "        for i, ID in enumerate(list_IDs_temp):\n",
    "            # Store sample\n",
    "            if self.augment:\n",
    "                alpha = np.random.uniform(0,1)\n",
    "            else:\n",
    "                alpha = 0.8\n",
    "            XXX = read_features(ID, alpha=alpha)\n",
    "            X[i,] = XXX\n",
    "\n",
    "            y[i,] = read_gt(ID)\n",
    "\n",
    "        return X, y"
   ]
  },
  {
   "cell_type": "code",
   "execution_count": null,
   "metadata": {
    "id": "YhGfta2brzIF"
   },
   "outputs": [],
   "source": [
    "from sklearn.model_selection import train_test_split\n",
    "X_train, X_test, y_train, y_test = train_test_split(tbl, gt, test_size=0.20, random_state=42)"
   ]
  },
  {
   "cell_type": "code",
   "execution_count": null,
   "metadata": {
    "id": "vKk7K_b_rzIF"
   },
   "outputs": [],
   "source": [
    "train_generator  = DataGenerator(X_train.index, 64, X_train.shape[1], 1, augment =True, shuffle=True)\n",
    "valid_generator = DataGenerator(X_test.index, 64, X_test.shape[1], 1, shuffle=False)"
   ]
  },
  {
   "cell_type": "code",
   "execution_count": null,
   "metadata": {
    "id": "CEalShGprzIG",
    "outputId": "2fd39ddb-2011-47ef-b556-24a4068c2964"
   },
   "outputs": [
    {
     "name": "stdout",
     "output_type": "stream",
     "text": [
      "Model: \"sequential\"\n",
      "_________________________________________________________________\n",
      "Layer (type)                 Output Shape              Param #   \n",
      "=================================================================\n",
      "conv1d (Conv1D)              (None, 3811, 64)          384       \n",
      "_________________________________________________________________\n",
      "batch_normalization (BatchNo (None, 3811, 64)          256       \n",
      "_________________________________________________________________\n",
      "max_pooling1d (MaxPooling1D) (None, 1905, 64)          0         \n",
      "_________________________________________________________________\n",
      "conv1d_1 (Conv1D)            (None, 1903, 64)          12352     \n",
      "_________________________________________________________________\n",
      "batch_normalization_1 (Batch (None, 1903, 64)          256       \n",
      "_________________________________________________________________\n",
      "max_pooling1d_1 (MaxPooling1 (None, 951, 64)           0         \n",
      "_________________________________________________________________\n",
      "conv1d_2 (Conv1D)            (None, 949, 64)           12352     \n",
      "_________________________________________________________________\n",
      "batch_normalization_2 (Batch (None, 949, 64)           256       \n",
      "_________________________________________________________________\n",
      "max_pooling1d_2 (MaxPooling1 (None, 474, 64)           0         \n",
      "_________________________________________________________________\n",
      "conv1d_3 (Conv1D)            (None, 472, 64)           12352     \n",
      "_________________________________________________________________\n",
      "batch_normalization_3 (Batch (None, 472, 64)           256       \n",
      "_________________________________________________________________\n",
      "max_pooling1d_3 (MaxPooling1 (None, 236, 64)           0         \n",
      "_________________________________________________________________\n",
      "conv1d_4 (Conv1D)            (None, 234, 128)          24704     \n",
      "_________________________________________________________________\n",
      "batch_normalization_4 (Batch (None, 234, 128)          512       \n",
      "_________________________________________________________________\n",
      "max_pooling1d_4 (MaxPooling1 (None, 117, 128)          0         \n",
      "_________________________________________________________________\n",
      "conv1d_5 (Conv1D)            (None, 115, 128)          49280     \n",
      "_________________________________________________________________\n",
      "batch_normalization_5 (Batch (None, 115, 128)          512       \n",
      "_________________________________________________________________\n",
      "flatten (Flatten)            (None, 14720)             0         \n",
      "_________________________________________________________________\n",
      "dropout (Dropout)            (None, 14720)             0         \n",
      "_________________________________________________________________\n",
      "dense_output (Dense)         (None, 13)                191373    \n",
      "=================================================================\n",
      "Total params: 304,845\n",
      "Trainable params: 303,821\n",
      "Non-trainable params: 1,024\n",
      "_________________________________________________________________\n"
     ]
    }
   ],
   "source": [
    "model = keras.Sequential()\n",
    "model.add(Conv1D(filters=64, kernel_size=5, activation = 'relu',input_shape=(tbl.shape[1], 1)))\n",
    "model.add(BatchNormalization())\n",
    "model.add(MaxPooling1D(pool_size=2 ))\n",
    "model.add(Conv1D(filters=64, kernel_size=3, activation='relu'))\n",
    "model.add(BatchNormalization())\n",
    "model.add(MaxPooling1D(pool_size=2 ))\n",
    "model.add(Conv1D(filters=64, kernel_size=3, activation='relu'))\n",
    "model.add(BatchNormalization())\n",
    "model.add(MaxPooling1D(pool_size=2 ))\n",
    "model.add(Conv1D(filters=64, kernel_size=3, activation='relu'))\n",
    "model.add(BatchNormalization())\n",
    "model.add(MaxPooling1D(pool_size=2 ))\n",
    "model.add(Conv1D(filters=128, kernel_size=3, activation='relu'))\n",
    "model.add(BatchNormalization())\n",
    "model.add(MaxPooling1D(pool_size=2 ))\n",
    "model.add(Conv1D(filters=128, kernel_size=3, activation='relu'))\n",
    "model.add(BatchNormalization())\n",
    "model.add(Flatten())\n",
    "model.add(Dropout(0.25))\n",
    "# model.add(Dense(256, activation='relu'))\n",
    "model.add(Dense(13, activation=\"sigmoid\", name='dense_output'))\n",
    "\n",
    "model.summary()"
   ]
  },
  {
   "cell_type": "code",
   "execution_count": null,
   "metadata": {
    "id": "PU-se-FKrzIG"
   },
   "outputs": [],
   "source": [
    "from tensorflow.keras.callbacks import EarlyStopping, ModelCheckpoint, ReduceLROnPlateau\n",
    "es = EarlyStopping(monitor='val_accuracy', \n",
    "                   verbose=1, \n",
    "                   patience=10, \n",
    "                   min_delta=0.00001, \n",
    "                   mode='max')\n",
    "mc = ModelCheckpoint('.../model/model_deeper_bg_13.hdf5', \n",
    "                     monitor='val_accuracy', \n",
    "                     verbose=1, \n",
    "                     save_best_only=True, \n",
    "                     mode='max')\n",
    "rlr = ReduceLROnPlateau(monitor='val_accuracy',\n",
    "                        mode='max',\n",
    "                        factor=0.1,\n",
    "                        patience=10)"
   ]
  },
  {
   "cell_type": "code",
   "execution_count": null,
   "metadata": {
    "id": "8zcuNKDmrzIH"
   },
   "outputs": [],
   "source": [
    "model.compile(loss=keras.losses.binary_crossentropy,\n",
    "              optimizer=keras.optimizers.Adam(lr=0.0001),\n",
    "              metrics=['accuracy'])"
   ]
  },
  {
   "cell_type": "code",
   "execution_count": null,
   "metadata": {
    "id": "FBWgZ9CPrzIH",
    "outputId": "33bb70ef-21a2-4453-b4ef-beb1f5e635f1"
   },
   "outputs": [
    {
     "name": "stdout",
     "output_type": "stream",
     "text": [
      "Epoch 1/100\n",
      "201/202 [============================>.] - ETA: 0s - loss: 0.3366 - accuracy: 0.8847\n",
      "Epoch 00001: val_accuracy improved from -inf to 0.58863, saving model to /home/yunan/Pigment/model/model_deeper_bg_13.hdf5\n",
      "202/202 [==============================] - 81s 399ms/step - loss: 0.3363 - accuracy: 0.8848 - val_loss: 0.6750 - val_accuracy: 0.5886\n",
      "Epoch 2/100\n",
      "201/202 [============================>.] - ETA: 0s - loss: 0.2630 - accuracy: 0.9107\n",
      "Epoch 00002: val_accuracy improved from 0.58863 to 0.73990, saving model to /home/yunan/Pigment/model/model_deeper_bg_13.hdf5\n",
      "202/202 [==============================] - 75s 372ms/step - loss: 0.2630 - accuracy: 0.9108 - val_loss: 0.5640 - val_accuracy: 0.7399\n",
      "Epoch 3/100\n",
      "201/202 [============================>.] - ETA: 0s - loss: 0.2469 - accuracy: 0.9151\n",
      "Epoch 00003: val_accuracy improved from 0.73990 to 0.86192, saving model to /home/yunan/Pigment/model/model_deeper_bg_13.hdf5\n",
      "202/202 [==============================] - 78s 386ms/step - loss: 0.2471 - accuracy: 0.9151 - val_loss: 0.3131 - val_accuracy: 0.8619\n",
      "Epoch 4/100\n",
      "201/202 [============================>.] - ETA: 0s - loss: 0.2351 - accuracy: 0.9176\n",
      "Epoch 00004: val_accuracy improved from 0.86192 to 0.92421, saving model to /home/yunan/Pigment/model/model_deeper_bg_13.hdf5\n",
      "202/202 [==============================] - 73s 359ms/step - loss: 0.2352 - accuracy: 0.9175 - val_loss: 0.2047 - val_accuracy: 0.9242\n",
      "Epoch 5/100\n",
      "201/202 [============================>.] - ETA: 0s - loss: 0.2289 - accuracy: 0.9190\n",
      "Epoch 00005: val_accuracy improved from 0.92421 to 0.92608, saving model to /home/yunan/Pigment/model/model_deeper_bg_13.hdf5\n",
      "202/202 [==============================] - 75s 369ms/step - loss: 0.2291 - accuracy: 0.9189 - val_loss: 0.1969 - val_accuracy: 0.9261\n",
      "Epoch 6/100\n",
      "201/202 [============================>.] - ETA: 0s - loss: 0.2222 - accuracy: 0.9197\n",
      "Epoch 00006: val_accuracy improved from 0.92608 to 0.92663, saving model to /home/yunan/Pigment/model/model_deeper_bg_13.hdf5\n",
      "202/202 [==============================] - 77s 382ms/step - loss: 0.2222 - accuracy: 0.9197 - val_loss: 0.1946 - val_accuracy: 0.9266\n",
      "Epoch 7/100\n",
      "201/202 [============================>.] - ETA: 0s - loss: 0.2175 - accuracy: 0.9216\n",
      "Epoch 00007: val_accuracy improved from 0.92663 to 0.92731, saving model to /home/yunan/Pigment/model/model_deeper_bg_13.hdf5\n",
      "202/202 [==============================] - 76s 376ms/step - loss: 0.2173 - accuracy: 0.9217 - val_loss: 0.1854 - val_accuracy: 0.9273\n",
      "Epoch 8/100\n",
      "201/202 [============================>.] - ETA: 0s - loss: 0.2129 - accuracy: 0.9223\n",
      "Epoch 00008: val_accuracy improved from 0.92731 to 0.92784, saving model to /home/yunan/Pigment/model/model_deeper_bg_13.hdf5\n",
      "202/202 [==============================] - 74s 368ms/step - loss: 0.2128 - accuracy: 0.9224 - val_loss: 0.1890 - val_accuracy: 0.9278\n",
      "Epoch 9/100\n",
      "201/202 [============================>.] - ETA: 0s - loss: 0.2107 - accuracy: 0.9227\n",
      "Epoch 00009: val_accuracy did not improve from 0.92784\n",
      "202/202 [==============================] - 73s 361ms/step - loss: 0.2107 - accuracy: 0.9227 - val_loss: 0.1961 - val_accuracy: 0.9261\n",
      "Epoch 10/100\n",
      "201/202 [============================>.] - ETA: 0s - loss: 0.2070 - accuracy: 0.9237\n",
      "Epoch 00010: val_accuracy improved from 0.92784 to 0.92945, saving model to /home/yunan/Pigment/model/model_deeper_bg_13.hdf5\n",
      "202/202 [==============================] - 76s 375ms/step - loss: 0.2073 - accuracy: 0.9236 - val_loss: 0.1779 - val_accuracy: 0.9294\n",
      "Epoch 11/100\n",
      "201/202 [============================>.] - ETA: 0s - loss: 0.2036 - accuracy: 0.9241\n",
      "Epoch 00011: val_accuracy improved from 0.92945 to 0.93043, saving model to /home/yunan/Pigment/model/model_deeper_bg_13.hdf5\n",
      "202/202 [==============================] - 79s 392ms/step - loss: 0.2035 - accuracy: 0.9241 - val_loss: 0.1811 - val_accuracy: 0.9304\n",
      "Epoch 12/100\n",
      "201/202 [============================>.] - ETA: 0s - loss: 0.2012 - accuracy: 0.9244\n",
      "Epoch 00012: val_accuracy did not improve from 0.93043\n",
      "202/202 [==============================] - 83s 413ms/step - loss: 0.2011 - accuracy: 0.9244 - val_loss: 0.1775 - val_accuracy: 0.9304\n",
      "Epoch 13/100\n",
      "201/202 [============================>.] - ETA: 0s - loss: 0.1984 - accuracy: 0.9248\n",
      "Epoch 00013: val_accuracy improved from 0.93043 to 0.93060, saving model to /home/yunan/Pigment/model/model_deeper_bg_13.hdf5\n",
      "202/202 [==============================] - 73s 363ms/step - loss: 0.1985 - accuracy: 0.9247 - val_loss: 0.1780 - val_accuracy: 0.9306\n",
      "Epoch 14/100\n",
      "201/202 [============================>.] - ETA: 0s - loss: 0.1960 - accuracy: 0.9255\n",
      "Epoch 00014: val_accuracy did not improve from 0.93060\n",
      "202/202 [==============================] - 80s 398ms/step - loss: 0.1961 - accuracy: 0.9255 - val_loss: 0.1821 - val_accuracy: 0.9295\n",
      "Epoch 15/100\n",
      "201/202 [============================>.] - ETA: 0s - loss: 0.1944 - accuracy: 0.9258\n",
      "Epoch 00015: val_accuracy improved from 0.93060 to 0.93293, saving model to /home/yunan/Pigment/model/model_deeper_bg_13.hdf5\n",
      "202/202 [==============================] - 78s 387ms/step - loss: 0.1943 - accuracy: 0.9258 - val_loss: 0.1663 - val_accuracy: 0.9329\n",
      "Epoch 16/100\n",
      "201/202 [============================>.] - ETA: 0s - loss: 0.1912 - accuracy: 0.9264\n",
      "Epoch 00016: val_accuracy did not improve from 0.93293\n",
      "202/202 [==============================] - 76s 378ms/step - loss: 0.1912 - accuracy: 0.9264 - val_loss: 0.1697 - val_accuracy: 0.9312\n",
      "Epoch 17/100\n",
      "201/202 [============================>.] - ETA: 0s - loss: 0.1894 - accuracy: 0.9264\n",
      "Epoch 00017: val_accuracy did not improve from 0.93293\n",
      "202/202 [==============================] - 77s 382ms/step - loss: 0.1893 - accuracy: 0.9264 - val_loss: 0.1797 - val_accuracy: 0.9278\n",
      "Epoch 18/100\n",
      "201/202 [============================>.] - ETA: 0s - loss: 0.1879 - accuracy: 0.9271\n",
      "Epoch 00018: val_accuracy did not improve from 0.93293\n",
      "202/202 [==============================] - 73s 359ms/step - loss: 0.1880 - accuracy: 0.9271 - val_loss: 0.1707 - val_accuracy: 0.9310\n",
      "Epoch 19/100\n",
      "201/202 [============================>.] - ETA: 0s - loss: 0.1860 - accuracy: 0.9279\n",
      "Epoch 00019: val_accuracy did not improve from 0.93293\n",
      "202/202 [==============================] - 72s 356ms/step - loss: 0.1860 - accuracy: 0.9278 - val_loss: 0.1678 - val_accuracy: 0.9314\n",
      "Epoch 20/100\n",
      "201/202 [============================>.] - ETA: 0s - loss: 0.1825 - accuracy: 0.9281\n",
      "Epoch 00020: val_accuracy improved from 0.93293 to 0.93373, saving model to /home/yunan/Pigment/model/model_deeper_bg_13.hdf5\n",
      "202/202 [==============================] - 79s 392ms/step - loss: 0.1825 - accuracy: 0.9280 - val_loss: 0.1597 - val_accuracy: 0.9337\n",
      "Epoch 21/100\n",
      "201/202 [============================>.] - ETA: 0s - loss: 0.1824 - accuracy: 0.9278\n",
      "Epoch 00021: val_accuracy did not improve from 0.93373\n",
      "202/202 [==============================] - 74s 368ms/step - loss: 0.1824 - accuracy: 0.9278 - val_loss: 0.1623 - val_accuracy: 0.9330\n",
      "Epoch 22/100\n",
      "201/202 [============================>.] - ETA: 0s - loss: 0.1806 - accuracy: 0.9282\n",
      "Epoch 00022: val_accuracy did not improve from 0.93373\n",
      "202/202 [==============================] - 73s 363ms/step - loss: 0.1807 - accuracy: 0.9282 - val_loss: 0.1690 - val_accuracy: 0.9322\n",
      "Epoch 23/100\n",
      "201/202 [============================>.] - ETA: 0s - loss: 0.1795 - accuracy: 0.9287\n",
      "Epoch 00023: val_accuracy did not improve from 0.93373\n",
      "202/202 [==============================] - 78s 388ms/step - loss: 0.1795 - accuracy: 0.9287 - val_loss: 0.1637 - val_accuracy: 0.9323\n",
      "Epoch 24/100\n",
      "199/202 [============================>.] - ETA: 0s - loss: 0.1771 - accuracy: 0.9296"
     ]
    }
   ],
   "source": [
    "history =model.fit_generator(train_generator, epochs=100,verbose=1, max_queue_size=1, \n",
    "                               workers=1, validation_data=valid_generator,\n",
    "                                callbacks = [es, mc,rlr],use_multiprocessing=False)"
   ]
  },
  {
   "cell_type": "code",
   "execution_count": null,
   "metadata": {
    "id": "eXb4tjkerzIH",
    "outputId": "5da64a8f-00b1-4701-e7e3-740d4ac3d858"
   },
   "outputs": [
    {
     "data": {
      "image/png": "[encoded data removed]",
      "text/plain": [
       "<Figure size 432x288 with 1 Axes>"
      ]
     },
     "metadata": {
      "needs_background": "light"
     },
     "output_type": "display_data"
    }
   ],
   "source": [
    "# Plot history: Categorical crossentropy & Accuracy\n",
    "import matplotlib.pyplot as plt\n",
    "plt.plot(history.history['loss'], label=' crossentropy (training data)')\n",
    "plt.plot(history.history['val_loss'], label='crossentropy (validation data)')\n",
    "plt.plot(history.history['accuracy'], label='Accuracy (training data)')\n",
    "plt.plot(history.history['val_accuracy'], label='Accuracy (validation data)')\n",
    "# plt.title('Model performance for 3D MNIST Keras Conv3D example')\n",
    "plt.ylabel('Loss value')\n",
    "plt.xlabel('No. epoch')\n",
    "plt.legend(loc=\"upper left\")\n",
    "\n",
    "plt.show()"
   ]
  },
  {
   "cell_type": "code",
   "execution_count": null,
   "metadata": {
    "id": "mEoxnzNjrzII"
   },
   "outputs": [],
   "source": [
    "model.load_weights('.../model/model_deeper_bg_13.hdf5')"
   ]
  },
  {
   "cell_type": "code",
   "execution_count": null,
   "metadata": {
    "id": "AYzfY595rzII"
   },
   "outputs": [],
   "source": [
    "test_generator = DataGenerator(X_test.index, 1, X_test.shape[1], 1, shuffle=False)\n",
    "r = model.predict_generator(test_generator)"
   ]
  },
  {
   "cell_type": "code",
   "execution_count": null,
   "metadata": {
    "id": "kG_G6xUUrzIJ",
    "outputId": "aeac6be8-1f4a-4f0f-e4d9-1b882063d4b8"
   },
   "outputs": [
    {
     "data": {
      "text/plain": [
       "(3245, 13)"
      ]
     },
     "execution_count": 21,
     "metadata": {},
     "output_type": "execute_result"
    }
   ],
   "source": [
    "result = (r>0.5)*1.0                     \n",
    "result.shape"
   ]
  },
  {
   "cell_type": "code",
   "execution_count": 2,
   "metadata": {
    "id": "uZA7BPJwrzIK"
   },
   "outputs": [],
   "source": [
    "from sklearn.metrics import classification_report, confusion_matrix\n",
    "print('Classification Report')\n",
    "print(classification_report(y_test['Chromate yellow'], result[:,-2]))"
   ]
  },
  {
   "cell_type": "code",
   "execution_count": null,
   "metadata": {
    "id": "dAPdPuMPrzIK",
    "outputId": "4c38e201-f80c-42d9-f4e4-97d2c07ab335"
   },
   "outputs": [
    {
     "data": {
      "text/plain": [
       "(13,)"
      ]
     },
     "execution_count": 25,
     "metadata": {},
     "output_type": "execute_result"
    }
   ],
   "source": [
    "classes = y_test.columns\n",
    "classes.shape"
   ]
  },
  {
   "cell_type": "code",
   "execution_count": null,
   "metadata": {
    "id": "GRaHQ-4ArzIK"
   },
   "outputs": [],
   "source": [
    "Acc = []\n",
    "pre = []\n",
    "f1 = []\n",
    "recall = []"
   ]
  },
  {
   "cell_type": "code",
   "execution_count": 3,
   "metadata": {
    "id": "MT-xXPnKrzIL"
   },
   "outputs": [],
   "source": [
    "from sklearn.metrics import accuracy_score, precision_score, f1_score, recall_score\n",
    "\n",
    "for i in range(13):\n",
    "    ex = classes[i]\n",
    "    print('{}_acc: {}'.format(ex, accuracy_score(result[:,i], y_test[classes[i]])))\n",
    "    Acc.append( accuracy_score(result[:,i], y_test[classes[i]]))\n",
    "    print('{}_preci: {}'.format(ex, precision_score(result[:,i], y_test[classes[i]])))\n",
    "    pre.append( precision_score(result[:,i], y_test[classes[i]]))\n",
    "    print('{}_f1: {}'.format(ex, f1_score(result[:,i], y_test[classes[i]])))\n",
    "    f1.append( f1_score(result[:,i], y_test[classes[i]]))\n",
    "    print('{}_recall: {}'.format(ex, recall_score(result[:,i], y_test[classes[i]])))\n",
    "    recall.append( recall_score(result[:,i], y_test[classes[i]]))\n",
    "    print(classification_report(y_test[classes[i]], result[:,i]))\n",
    "    print('************************************')"
   ]
  },
  {
   "cell_type": "code",
   "execution_count": null,
   "metadata": {
    "id": "l2xiPa21rzIL",
    "outputId": "ebff0a59-2c75-4582-cd49-24d3ccb99d6f"
   },
   "outputs": [
    {
     "name": "stdout",
     "output_type": "stream",
     "text": [
      "Cadmium yellow\n",
      "1 0.00012124626260054738\n",
      "0 5.587774063275609e-05\n",
      "Cobalt blue\n",
      "1 0.28986273669934537\n",
      "0 0.03718450840656048\n",
      "Emerald green\n",
      "1 0.14847498182757493\n",
      "0 0.04855873883953597\n",
      "Iron oxide\n",
      "1 0.5406385731673048\n",
      "0 0.09356863596691743\n",
      "Prussian blue\n",
      "1 0.5812939950652214\n",
      "0 0.07947680071769256\n",
      "SnO1\n",
      "1 8.994543806035468e-05\n",
      "0 1.1847115851737358e-05\n",
      "Ultramarine blue\n",
      "1 0.28632419664195496\n",
      "0 0.04287376677407197\n",
      "Vermilion\n",
      "1 0.039209325233595424\n",
      "0 0.003324511843179003\n",
      "ZnO\n",
      "1 0.24480176378260196\n",
      "0 0.03621554003323862\n",
      "Chromate\n",
      "1 0.2519431875575203\n",
      "0 0.04931555718634132\n",
      "Lead\n",
      "1 0.1717772127923826\n",
      "0 0.08162016141204363\n"
     ]
    }
   ],
   "source": [
    "# probability map (uncertainty score mappings)\n",
    "for i in range(11):\n",
    "    ex = classes[i]\n",
    "    error_1 = []\n",
    "    error_0 = []\n",
    "    print(ex)\n",
    "    for j in range(3245):\n",
    "        if y_test.values[j][i] == 1:\n",
    "            error_1.append(1 - r[j][i])\n",
    "        else:\n",
    "            error_0.append(r[j][i])\n",
    "    print('1', sum(error_1)/len(error_1))\n",
    "    print('0', sum(error_0)/len(error_0))\n",
    "            \n",
    "            "
   ]
  },
  {
   "cell_type": "markdown",
   "metadata": {
    "id": "72F082QbrzIM"
   },
   "source": [
    "# Visualizations"
   ]
  },
  {
   "cell_type": "code",
   "execution_count": null,
   "metadata": {
    "id": "_K4pXvpUrzIN",
    "outputId": "5dda8508-8cc9-45fb-b26b-53527b2f4cc3"
   },
   "outputs": [
    {
     "data": {
      "image/png": "[encoded data removed]",
      "text/plain": [
       "<Figure size 432x288 with 1 Axes>"
      ]
     },
     "metadata": {
      "needs_background": "light"
     },
     "output_type": "display_data"
    }
   ],
   "source": [
    "IIDD = 1000\n",
    "\n",
    "a = read_features(IIDD, (4096,1), 0.5)  # 8000\n",
    "plt.plot(a)\n",
    "a.shape\n",
    "a = np.expand_dims(a, axis = 0)"
   ]
  },
  {
   "cell_type": "code",
   "execution_count": null,
   "metadata": {
    "id": "dTAlUnC9rzIO"
   },
   "outputs": [],
   "source": [
    "res_a = model.predict(a)"
   ]
  },
  {
   "cell_type": "code",
   "execution_count": null,
   "metadata": {
    "id": "544qYNOMrzIO",
    "outputId": "fb337c1e-98c8-4e5d-96c9-2c2e4a24d443"
   },
   "outputs": [
    {
     "data": {
      "text/plain": [
       "array([[2.7120113e-06, 9.9713302e-01, 6.7055225e-06, 2.4045765e-02,\n",
       "        1.7833832e-01, 0.0000000e+00, 1.7881393e-07, 5.9604645e-08,\n",
       "        8.1980970e-06, 8.4586167e-01, 2.7057182e-03]], dtype=float32)"
      ]
     },
     "execution_count": 62,
     "metadata": {},
     "output_type": "execute_result"
    }
   ],
   "source": [
    "res_a"
   ]
  },
  {
   "cell_type": "code",
   "execution_count": null,
   "metadata": {
    "id": "DqwLsBpsrzIP",
    "outputId": "b75a7bfe-677e-4b61-a817-6b9d379c1be9"
   },
   "outputs": [
    {
     "data": {
      "text/plain": [
       "Cadmium yellow      0\n",
       "Cobalt blue         1\n",
       "Emerald green       0\n",
       "Iron oxide          0\n",
       "Prussian blue       0\n",
       "SnO1                0\n",
       "Ultramarine blue    0\n",
       "Vermilion           0\n",
       "ZnO                 0\n",
       "Chromate            1\n",
       "Lead                0\n",
       "Name: 1000, dtype: int64"
      ]
     },
     "execution_count": 63,
     "metadata": {},
     "output_type": "execute_result"
    }
   ],
   "source": [
    "gt_a = read_gt(IIDD, (11,1))\n",
    "gt_a"
   ]
  },
  {
   "cell_type": "code",
   "execution_count": null,
   "metadata": {
    "id": "QSVGzHGPrzIP",
    "outputId": "20b64e62-fad7-4ac4-a330-2954bf468953"
   },
   "outputs": [
    {
     "name": "stdout",
     "output_type": "stream",
     "text": [
      "1\n"
     ]
    }
   ],
   "source": [
    "target_class = np.argmax(res_a)\n",
    "# target_class = 8\n",
    "print(target_class)"
   ]
  },
  {
   "cell_type": "code",
   "execution_count": null,
   "metadata": {
    "id": "1DiVfXDhrzIP"
   },
   "outputs": [],
   "source": [
    "last_conv = model.get_layer('conv1d_5') \n",
    "grad_model = tf.keras.models.Model([model.inputs], [last_conv.output, model.output])\n",
    "\n",
    "with tf.GradientTape() as tape:\n",
    "    conv_outputs, predictions = grad_model(a)\n",
    "    #get activations maps + predictions from last conv layer\n",
    "    loss = predictions[:, target_class] \n",
    "    # the variable loss gets the probability of belonging to the defined class (the predicted class on the model output)"
   ]
  },
  {
   "cell_type": "code",
   "execution_count": null,
   "metadata": {
    "id": "ej4hxCUvrzIQ",
    "outputId": "17da24f1-2481-4b35-f57d-b5b975ebc863"
   },
   "outputs": [
    {
     "name": "stdout",
     "output_type": "stream",
     "text": [
      "grads shape: (1, 115, 128)\n",
      "Model output (loss for the target class): (1,)\n",
      "Output froom lat conv layer (1, 115, 128)\n"
     ]
    }
   ],
   "source": [
    "output = conv_outputs[0] #activations maps from last conv layer\n",
    "grads = tape.gradient(loss, conv_outputs) #function to obtain gradients from last conv layer\n",
    "\n",
    "print(\"grads shape:\", grads.shape)\n",
    "print(\"Model output (loss for the target class):\", loss.shape)\n",
    "print(\"Output froom lat conv layer\", conv_outputs.shape)"
   ]
  },
  {
   "cell_type": "code",
   "execution_count": null,
   "metadata": {
    "id": "EU_Yf35xrzIQ",
    "outputId": "e478ffa5-df8f-4f1a-e019-cac416b6c68c"
   },
   "outputs": [
    {
     "name": "stdout",
     "output_type": "stream",
     "text": [
      "(1, 115, 128)\n"
     ]
    },
    {
     "data": {
      "text/plain": [
       "<matplotlib.colorbar.Colorbar at 0x7f9a653fc9e8>"
      ]
     },
     "execution_count": 67,
     "metadata": {},
     "output_type": "execute_result"
    },
    {
     "data": {
      "image/png": "[encoded data removed]",
      "text/plain": [
       "<Figure size 432x288 with 2 Axes>"
      ]
     },
     "metadata": {
      "needs_background": "light"
     },
     "output_type": "display_data"
    }
   ],
   "source": [
    "# Apply guided backpropagation\n",
    "guided_grads = tf.cast(output > 0, 'float32') * tf.cast(grads > 0, 'float32') * grads\n",
    "\n",
    "print(guided_grads.shape)\n",
    "guide_grads_example = guided_grads[:,0,:]\n",
    "# print(guide_grads_example.shape)\n",
    "guide_grads_example = np.squeeze(guide_grads_example, 0)\n",
    "# plt.plot(np.squeeze(guide_grads_example, 0)) \n",
    "plt.show() \n",
    "\n",
    "guided_grads_image = [guide_grads_example,guide_grads_example,guide_grads_example, guide_grads_example,guide_grads_example,\n",
    "                        guide_grads_example,guide_grads_example,guide_grads_example, guide_grads_example,guide_grads_example,\n",
    "                        guide_grads_example,guide_grads_example,guide_grads_example, guide_grads_example,guide_grads_example]\n",
    "plt.imshow(guided_grads_image) # vmin=-1, vmax=1) #cmap='gray\n",
    "plt.colorbar()"
   ]
  },
  {
   "cell_type": "code",
   "execution_count": null,
   "metadata": {
    "id": "Vde0dcMprzIQ",
    "outputId": "434e5f59-8082-495d-cb5c-0fe63c524408"
   },
   "outputs": [
    {
     "name": "stdout",
     "output_type": "stream",
     "text": [
      "min 2.3365192e-06\n",
      "max 3.2166194e-05\n"
     ]
    },
    {
     "data": {
      "text/plain": [
       "<tf.Tensor: id=16814, shape=(128,), dtype=float32, numpy=\n",
       "array([1.00392508e-05, 4.77220874e-06, 1.16232768e-05, 2.60687057e-06,\n",
       "       6.47260822e-06, 6.69180054e-06, 2.96813760e-05, 1.47612054e-05,\n",
       "       7.43313740e-06, 2.47244807e-05, 1.16396677e-05, 1.01700689e-05,\n",
       "       1.55589078e-05, 1.32223577e-05, 5.15588317e-06, 1.65294423e-05,\n",
       "       8.58544718e-06, 1.71307365e-05, 8.21854064e-06, 3.03055413e-06,\n",
       "       7.92404990e-06, 5.08350195e-06, 1.23292002e-05, 4.44932130e-06,\n",
       "       2.04648659e-05, 3.21661937e-05, 1.31016614e-05, 9.93094181e-06,\n",
       "       4.57658734e-06, 1.54273694e-05, 1.43652105e-05, 9.82897200e-06,\n",
       "       2.64447954e-05, 1.47705077e-05, 1.56078331e-05, 2.33008559e-05,\n",
       "       6.68304710e-06, 1.04733408e-05, 2.41842408e-05, 1.28680413e-05,\n",
       "       1.63636032e-05, 2.76912397e-06, 1.20189952e-05, 2.19897229e-05,\n",
       "       1.40853062e-05, 1.69351042e-05, 7.94693733e-06, 1.40069378e-05,\n",
       "       1.03800585e-05, 1.39510312e-05, 1.16245210e-05, 1.10446881e-05,\n",
       "       8.62531033e-06, 1.14586246e-05, 4.55594909e-06, 1.75397818e-05,\n",
       "       2.33295614e-05, 1.66944174e-05, 1.44129217e-05, 2.33651917e-06,\n",
       "       7.84932035e-06, 1.23266273e-05, 1.08525664e-05, 1.19040142e-05,\n",
       "       1.57175618e-05, 9.29655107e-06, 7.51746711e-06, 1.04893170e-05,\n",
       "       2.09550726e-05, 1.00058141e-05, 2.65757571e-05, 3.14378231e-05,\n",
       "       2.03041564e-05, 2.30788137e-05, 2.01551811e-05, 1.05578774e-05,\n",
       "       1.80554816e-05, 1.11782801e-05, 1.03126849e-05, 2.89376894e-05,\n",
       "       2.21899281e-05, 1.57876002e-05, 1.63256209e-05, 1.57548748e-05,\n",
       "       2.62561462e-05, 1.27619705e-05, 6.58115778e-06, 2.06629629e-05,\n",
       "       1.37081370e-05, 1.63573404e-05, 8.68133520e-06, 1.39156300e-05,\n",
       "       1.30483168e-05, 7.54245411e-06, 3.59070805e-06, 1.76193389e-05,\n",
       "       1.10852388e-05, 9.88141528e-06, 5.06395827e-06, 2.59320532e-05,\n",
       "       1.20555942e-05, 5.52123674e-06, 1.35416694e-05, 1.20812301e-05,\n",
       "       2.54610386e-05, 1.02568674e-05, 6.91974583e-06, 7.78442700e-06,\n",
       "       1.25965971e-05, 1.52254097e-05, 6.72711485e-06, 1.96852288e-05,\n",
       "       1.90396477e-05, 8.90548836e-06, 1.75220230e-05, 1.43593261e-05,\n",
       "       1.31127463e-05, 7.96606491e-06, 1.82028016e-05, 3.32414356e-06,\n",
       "       1.72504715e-05, 2.05745837e-05, 2.64783012e-05, 1.79545132e-05,\n",
       "       1.50532051e-05, 1.29092941e-05, 6.07917536e-06, 5.39636630e-06],\n",
       "      dtype=float32)>"
      ]
     },
     "execution_count": 68,
     "metadata": {},
     "output_type": "execute_result"
    }
   ],
   "source": [
    "weights = tf.reduce_mean(guided_grads, axis=(0,1))\n",
    "#print(\"weights shape\", weights.shape) \n",
    "print(\"min\", np.min(weights))\n",
    "print(\"max\", np.max(weights))\n",
    "\n",
    "#plt.plot(weights) \n",
    "#plt.show() \n",
    "\n",
    "#Weight of each filter in the conv layer \n",
    "weights"
   ]
  },
  {
   "cell_type": "code",
   "execution_count": null,
   "metadata": {
    "id": "OxHHZw1HrzIR",
    "outputId": "829d70de-a8b9-4651-8acd-6d06554c9034"
   },
   "outputs": [
    {
     "name": "stdout",
     "output_type": "stream",
     "text": [
      "min 1.0001570610911585\n",
      "max 1.0016368138603866\n"
     ]
    },
    {
     "data": {
      "image/png": "[encoded data removed]",
      "text/plain": [
       "<Figure size 432x288 with 1 Axes>"
      ]
     },
     "metadata": {
      "needs_background": "light"
     },
     "output_type": "display_data"
    },
    {
     "data": {
      "text/plain": [
       "<matplotlib.colorbar.Colorbar at 0x7f9a65310b00>"
      ]
     },
     "execution_count": 69,
     "metadata": {},
     "output_type": "execute_result"
    },
    {
     "data": {
      "image/png": "[encoded data removed]",
      "text/plain": [
       "<Figure size 432x288 with 2 Axes>"
      ]
     },
     "metadata": {
      "needs_background": "light"
     },
     "output_type": "display_data"
    }
   ],
   "source": [
    "cam = np.zeros(output.shape[0], dtype = np.float128)\n",
    "cam\n",
    "# print(cam.shape)\n",
    "for i, w in enumerate(weights):\n",
    "#     print(w)\n",
    "    cam += w * output[:, i]\n",
    "#     print(cam)\n",
    "    \n",
    "print(\"min\", np.min(cam) + 1.0)\n",
    "print(\"max\", np.max(cam) + 1.0)\n",
    "\n",
    "plt.plot(cam) \n",
    "plt.show() \n",
    "\n",
    "cam_image = [cam,cam,cam,cam,cam,\n",
    "            cam,cam,cam,cam,cam,\n",
    "             cam,cam,cam,cam,cam]\n",
    "plt.imshow(cam_image) # vmin=-1, vmax=1) #cmap='gray\n",
    "plt.colorbar()"
   ]
  },
  {
   "cell_type": "code",
   "execution_count": null,
   "metadata": {
    "id": "et0vV5UprzIR",
    "outputId": "0338ac67-406d-4e04-e9dd-d9eef745960d"
   },
   "outputs": [
    {
     "data": {
      "image/png": "[encoded data removed]",
      "text/plain": [
       "<Figure size 432x288 with 1 Axes>"
      ]
     },
     "metadata": {
      "needs_background": "light"
     },
     "output_type": "display_data"
    },
    {
     "data": {
      "image/png": "[encoded data removed]",
      "text/plain": [
       "<Figure size 432x288 with 2 Axes>"
      ]
     },
     "metadata": {
      "needs_background": "light"
     },
     "output_type": "display_data"
    }
   ],
   "source": [
    "cam = np.maximum(cam, 0)\n",
    "cam = (cam - cam.min()) / (cam.max() - cam.min())\n",
    "\n",
    "plt.plot(cam) \n",
    "plt.show()\n",
    "\n",
    "cam_image = [cam,cam,cam,cam,cam,\n",
    "            cam,cam,cam,cam,cam,\n",
    "             cam,cam,cam,cam,cam]\n",
    "plt.imshow(cam_image) \n",
    "plt.colorbar()\n",
    "plt.show()\n",
    "\n",
    "# b =  signal.resample(a[0,:,0], 128)\n",
    "# b.shape\n",
    "\n",
    "# plt.plot(b)\n",
    "# plt.plot(cam, c = 'red')"
   ]
  },
  {
   "cell_type": "code",
   "execution_count": null,
   "metadata": {
    "id": "QkeHCSQ6rzIS",
    "outputId": "c42c6b49-e3a9-4f48-b790-98d9046bcbc5"
   },
   "outputs": [
    {
     "data": {
      "text/plain": [
       "(1, 3815, 1)"
      ]
     },
     "execution_count": 71,
     "metadata": {},
     "output_type": "execute_result"
    }
   ],
   "source": [
    "a.shape"
   ]
  },
  {
   "cell_type": "code",
   "execution_count": null,
   "metadata": {
    "id": "mcjNIm04rzIS",
    "outputId": "ecc4a875-d12f-4b4f-e1e1-7ca7636de7b4"
   },
   "outputs": [
    {
     "data": {
      "text/plain": [
       "[<matplotlib.lines.Line2D at 0x7f9a651827f0>]"
      ]
     },
     "execution_count": 72,
     "metadata": {},
     "output_type": "execute_result"
    },
    {
     "data": {
      "image/png": "[encoded data removed]",
      "text/plain": [
       "<Figure size 432x288 with 1 Axes>"
      ]
     },
     "metadata": {
      "needs_background": "light"
     },
     "output_type": "display_data"
    }
   ],
   "source": [
    "from scipy import signal\n",
    "f = signal.resample(cam, 3815)\n",
    "# plt.plot(a[0,:,0])\n",
    "plt.plot(f, c = 'red')"
   ]
  },
  {
   "cell_type": "code",
   "execution_count": null,
   "metadata": {
    "id": "2MDmLX8grzIS",
    "outputId": "8e0cf749-f427-4073-b870-7251b779777d"
   },
   "outputs": [
    {
     "data": {
      "text/plain": [
       "[<matplotlib.lines.Line2D at 0x7f9a65164ef0>]"
      ]
     },
     "execution_count": 73,
     "metadata": {},
     "output_type": "execute_result"
    },
    {
     "data": {
      "image/png": "[encoded data removed]",
      "text/plain": [
       "<Figure size 432x288 with 1 Axes>"
      ]
     },
     "metadata": {
      "needs_background": "light"
     },
     "output_type": "display_data"
    }
   ],
   "source": [
    "from scipy import signal\n",
    "f = signal.resample(cam, 3815)\n",
    "\n",
    "# plt.plot(f, c = 'red')\n",
    "\n",
    "row = tbl.loc[IIDD,:]\n",
    "row[row < 0] = 0\n",
    "row = (row - np.min(row))/(np.max(row)-np.min(row))\n",
    "row = np.expand_dims(row, axis = -1)\n",
    "\n",
    "plt.plot(row, c = 'green')"
   ]
  },
  {
   "cell_type": "code",
   "execution_count": null,
   "metadata": {
    "id": "wX31SqRarzIT",
    "outputId": "99a6147e-515a-4839-a21d-8f5af6345bfa"
   },
   "outputs": [
    {
     "data": {
      "text/plain": [
       "(1, 3815, 1)"
      ]
     },
     "execution_count": 81,
     "metadata": {},
     "output_type": "execute_result"
    }
   ],
   "source": [
    "a.shape"
   ]
  },
  {
   "cell_type": "code",
   "execution_count": null,
   "metadata": {
    "id": "SXgY-A2urzIT",
    "outputId": "365521ea-3f58-42cd-e101-35fa905b31a4"
   },
   "outputs": [
    {
     "data": {
      "text/plain": [
       "[<matplotlib.lines.Line2D at 0x7f9a62c7c128>]"
      ]
     },
     "execution_count": 87,
     "metadata": {},
     "output_type": "execute_result"
    },
    {
     "data": {
      "image/png": "[encoded data removed]",
      "text/plain": [
       "<Figure size 864x864 with 3 Axes>"
      ]
     },
     "metadata": {
      "needs_background": "light"
     },
     "output_type": "display_data"
    }
   ],
   "source": [
    "xx = [i for i in range(281, 281+3815)]\n",
    "\n",
    "plt.figure(figsize = (12,12))\n",
    "plt.subplot(3,1,1)\n",
    "plt.plot(xx,row, c = 'green')\n",
    "\n",
    "plt.subplot(3,1,2)\n",
    "plt.plot(xx, a[0,:,0], c = 'blue')\n",
    "\n",
    "plt.subplot(3,1,3)\n",
    "plt.plot(cam, c = 'red')"
   ]
  },
  {
   "cell_type": "markdown",
   "metadata": {
    "id": "xvugSgqKrzIT"
   },
   "source": [
    "# Mistakes"
   ]
  },
  {
   "cell_type": "code",
   "execution_count": null,
   "metadata": {
    "id": "TYE6TEr3rzIU"
   },
   "outputs": [],
   "source": [
    "predicted = pd.DataFrame(data=result[:,:], index=y_test.index, columns=y_test.columns)  # 1st row as the column names"
   ]
  },
  {
   "cell_type": "code",
   "execution_count": null,
   "metadata": {
    "id": "rfXZu5k-rzIU",
    "outputId": "c076972a-6e6e-4e14-e686-8036b9a39af2"
   },
   "outputs": [
    {
     "data": {
      "text/plain": [
       "ID\n",
       "4679     True\n",
       "2805     True\n",
       "1683     True\n",
       "862      True\n",
       "14444    True\n",
       "         ... \n",
       "15494    True\n",
       "10083    True\n",
       "8183     True\n",
       "14155    True\n",
       "6339     True\n",
       "Name: Emerald green, Length: 3245, dtype: bool"
      ]
     },
     "execution_count": 79,
     "metadata": {},
     "output_type": "execute_result"
    }
   ],
   "source": [
    "y_test['Emerald green'] == result[:,2]"
   ]
  },
  {
   "cell_type": "code",
   "execution_count": null,
   "metadata": {
    "id": "uf61YB0rrzIU"
   },
   "outputs": [],
   "source": [
    "cobalt_blue = y_test['Emerald green'] == result[:,2]"
   ]
  },
  {
   "cell_type": "code",
   "execution_count": null,
   "metadata": {
    "id": "VcuVs3gnrzIU",
    "outputId": "18aa1a1c-7c40-45d3-a86b-0f37eaa2c297"
   },
   "outputs": [
    {
     "data": {
      "text/html": [
       "<div>\n",
       "<style scoped>\n",
       "    .dataframe tbody tr th:only-of-type {\n",
       "        vertical-align: middle;\n",
       "    }\n",
       "\n",
       "    .dataframe tbody tr th {\n",
       "        vertical-align: top;\n",
       "    }\n",
       "\n",
       "    .dataframe thead th {\n",
       "        text-align: right;\n",
       "    }\n",
       "</style>\n",
       "<table border=\"1\" class=\"dataframe\">\n",
       "  <thead>\n",
       "    <tr style=\"text-align: right;\">\n",
       "      <th></th>\n",
       "      <th>Cadmium yellow</th>\n",
       "      <th>Cobalt blue</th>\n",
       "      <th>Emerald green</th>\n",
       "      <th>Iron oxide</th>\n",
       "      <th>Prussian blue</th>\n",
       "      <th>SnO1</th>\n",
       "      <th>Ultramarine blue</th>\n",
       "      <th>Vermilion</th>\n",
       "      <th>ZnO</th>\n",
       "      <th>Chromate</th>\n",
       "      <th>Lead</th>\n",
       "    </tr>\n",
       "    <tr>\n",
       "      <th>ID</th>\n",
       "      <th></th>\n",
       "      <th></th>\n",
       "      <th></th>\n",
       "      <th></th>\n",
       "      <th></th>\n",
       "      <th></th>\n",
       "      <th></th>\n",
       "      <th></th>\n",
       "      <th></th>\n",
       "      <th></th>\n",
       "      <th></th>\n",
       "    </tr>\n",
       "  </thead>\n",
       "  <tbody>\n",
       "    <tr>\n",
       "      <th>7747</th>\n",
       "      <td>0.0</td>\n",
       "      <td>0.0</td>\n",
       "      <td>1.0</td>\n",
       "      <td>0.0</td>\n",
       "      <td>0.0</td>\n",
       "      <td>0.0</td>\n",
       "      <td>0.0</td>\n",
       "      <td>1.0</td>\n",
       "      <td>1.0</td>\n",
       "      <td>0.0</td>\n",
       "      <td>0.0</td>\n",
       "    </tr>\n",
       "    <tr>\n",
       "      <th>7283</th>\n",
       "      <td>0.0</td>\n",
       "      <td>0.0</td>\n",
       "      <td>0.0</td>\n",
       "      <td>0.0</td>\n",
       "      <td>0.0</td>\n",
       "      <td>0.0</td>\n",
       "      <td>0.0</td>\n",
       "      <td>1.0</td>\n",
       "      <td>0.0</td>\n",
       "      <td>0.0</td>\n",
       "      <td>0.0</td>\n",
       "    </tr>\n",
       "    <tr>\n",
       "      <th>5561</th>\n",
       "      <td>0.0</td>\n",
       "      <td>0.0</td>\n",
       "      <td>0.0</td>\n",
       "      <td>0.0</td>\n",
       "      <td>0.0</td>\n",
       "      <td>1.0</td>\n",
       "      <td>0.0</td>\n",
       "      <td>0.0</td>\n",
       "      <td>0.0</td>\n",
       "      <td>0.0</td>\n",
       "      <td>0.0</td>\n",
       "    </tr>\n",
       "    <tr>\n",
       "      <th>9886</th>\n",
       "      <td>0.0</td>\n",
       "      <td>0.0</td>\n",
       "      <td>0.0</td>\n",
       "      <td>0.0</td>\n",
       "      <td>0.0</td>\n",
       "      <td>0.0</td>\n",
       "      <td>0.0</td>\n",
       "      <td>0.0</td>\n",
       "      <td>0.0</td>\n",
       "      <td>1.0</td>\n",
       "      <td>0.0</td>\n",
       "    </tr>\n",
       "    <tr>\n",
       "      <th>5562</th>\n",
       "      <td>0.0</td>\n",
       "      <td>0.0</td>\n",
       "      <td>0.0</td>\n",
       "      <td>0.0</td>\n",
       "      <td>0.0</td>\n",
       "      <td>1.0</td>\n",
       "      <td>0.0</td>\n",
       "      <td>0.0</td>\n",
       "      <td>0.0</td>\n",
       "      <td>0.0</td>\n",
       "      <td>0.0</td>\n",
       "    </tr>\n",
       "    <tr>\n",
       "      <th>5556</th>\n",
       "      <td>0.0</td>\n",
       "      <td>0.0</td>\n",
       "      <td>0.0</td>\n",
       "      <td>0.0</td>\n",
       "      <td>0.0</td>\n",
       "      <td>1.0</td>\n",
       "      <td>0.0</td>\n",
       "      <td>0.0</td>\n",
       "      <td>0.0</td>\n",
       "      <td>0.0</td>\n",
       "      <td>0.0</td>\n",
       "    </tr>\n",
       "    <tr>\n",
       "      <th>9864</th>\n",
       "      <td>0.0</td>\n",
       "      <td>0.0</td>\n",
       "      <td>0.0</td>\n",
       "      <td>0.0</td>\n",
       "      <td>1.0</td>\n",
       "      <td>0.0</td>\n",
       "      <td>0.0</td>\n",
       "      <td>0.0</td>\n",
       "      <td>0.0</td>\n",
       "      <td>1.0</td>\n",
       "      <td>0.0</td>\n",
       "    </tr>\n",
       "    <tr>\n",
       "      <th>3804</th>\n",
       "      <td>0.0</td>\n",
       "      <td>0.0</td>\n",
       "      <td>0.0</td>\n",
       "      <td>0.0</td>\n",
       "      <td>0.0</td>\n",
       "      <td>0.0</td>\n",
       "      <td>0.0</td>\n",
       "      <td>0.0</td>\n",
       "      <td>0.0</td>\n",
       "      <td>0.0</td>\n",
       "      <td>1.0</td>\n",
       "    </tr>\n",
       "    <tr>\n",
       "      <th>9875</th>\n",
       "      <td>0.0</td>\n",
       "      <td>0.0</td>\n",
       "      <td>0.0</td>\n",
       "      <td>0.0</td>\n",
       "      <td>0.0</td>\n",
       "      <td>0.0</td>\n",
       "      <td>0.0</td>\n",
       "      <td>0.0</td>\n",
       "      <td>0.0</td>\n",
       "      <td>1.0</td>\n",
       "      <td>0.0</td>\n",
       "    </tr>\n",
       "    <tr>\n",
       "      <th>10648</th>\n",
       "      <td>0.0</td>\n",
       "      <td>0.0</td>\n",
       "      <td>1.0</td>\n",
       "      <td>0.0</td>\n",
       "      <td>0.0</td>\n",
       "      <td>0.0</td>\n",
       "      <td>0.0</td>\n",
       "      <td>0.0</td>\n",
       "      <td>1.0</td>\n",
       "      <td>1.0</td>\n",
       "      <td>0.0</td>\n",
       "    </tr>\n",
       "    <tr>\n",
       "      <th>8624</th>\n",
       "      <td>0.0</td>\n",
       "      <td>0.0</td>\n",
       "      <td>0.0</td>\n",
       "      <td>0.0</td>\n",
       "      <td>0.0</td>\n",
       "      <td>0.0</td>\n",
       "      <td>0.0</td>\n",
       "      <td>0.0</td>\n",
       "      <td>0.0</td>\n",
       "      <td>1.0</td>\n",
       "      <td>0.0</td>\n",
       "    </tr>\n",
       "    <tr>\n",
       "      <th>8620</th>\n",
       "      <td>0.0</td>\n",
       "      <td>0.0</td>\n",
       "      <td>0.0</td>\n",
       "      <td>0.0</td>\n",
       "      <td>0.0</td>\n",
       "      <td>0.0</td>\n",
       "      <td>0.0</td>\n",
       "      <td>0.0</td>\n",
       "      <td>0.0</td>\n",
       "      <td>1.0</td>\n",
       "      <td>0.0</td>\n",
       "    </tr>\n",
       "    <tr>\n",
       "      <th>3827</th>\n",
       "      <td>0.0</td>\n",
       "      <td>0.0</td>\n",
       "      <td>0.0</td>\n",
       "      <td>0.0</td>\n",
       "      <td>0.0</td>\n",
       "      <td>0.0</td>\n",
       "      <td>0.0</td>\n",
       "      <td>0.0</td>\n",
       "      <td>0.0</td>\n",
       "      <td>0.0</td>\n",
       "      <td>1.0</td>\n",
       "    </tr>\n",
       "    <tr>\n",
       "      <th>379</th>\n",
       "      <td>1.0</td>\n",
       "      <td>0.0</td>\n",
       "      <td>0.0</td>\n",
       "      <td>0.0</td>\n",
       "      <td>0.0</td>\n",
       "      <td>0.0</td>\n",
       "      <td>0.0</td>\n",
       "      <td>0.0</td>\n",
       "      <td>0.0</td>\n",
       "      <td>0.0</td>\n",
       "      <td>0.0</td>\n",
       "    </tr>\n",
       "    <tr>\n",
       "      <th>7278</th>\n",
       "      <td>0.0</td>\n",
       "      <td>0.0</td>\n",
       "      <td>0.0</td>\n",
       "      <td>0.0</td>\n",
       "      <td>0.0</td>\n",
       "      <td>0.0</td>\n",
       "      <td>0.0</td>\n",
       "      <td>1.0</td>\n",
       "      <td>0.0</td>\n",
       "      <td>0.0</td>\n",
       "      <td>0.0</td>\n",
       "    </tr>\n",
       "    <tr>\n",
       "      <th>3837</th>\n",
       "      <td>0.0</td>\n",
       "      <td>0.0</td>\n",
       "      <td>0.0</td>\n",
       "      <td>0.0</td>\n",
       "      <td>0.0</td>\n",
       "      <td>0.0</td>\n",
       "      <td>0.0</td>\n",
       "      <td>0.0</td>\n",
       "      <td>0.0</td>\n",
       "      <td>0.0</td>\n",
       "      <td>1.0</td>\n",
       "    </tr>\n",
       "    <tr>\n",
       "      <th>5564</th>\n",
       "      <td>0.0</td>\n",
       "      <td>0.0</td>\n",
       "      <td>0.0</td>\n",
       "      <td>0.0</td>\n",
       "      <td>0.0</td>\n",
       "      <td>1.0</td>\n",
       "      <td>0.0</td>\n",
       "      <td>0.0</td>\n",
       "      <td>0.0</td>\n",
       "      <td>0.0</td>\n",
       "      <td>0.0</td>\n",
       "    </tr>\n",
       "    <tr>\n",
       "      <th>373</th>\n",
       "      <td>1.0</td>\n",
       "      <td>0.0</td>\n",
       "      <td>0.0</td>\n",
       "      <td>0.0</td>\n",
       "      <td>0.0</td>\n",
       "      <td>0.0</td>\n",
       "      <td>0.0</td>\n",
       "      <td>0.0</td>\n",
       "      <td>0.0</td>\n",
       "      <td>0.0</td>\n",
       "      <td>0.0</td>\n",
       "    </tr>\n",
       "    <tr>\n",
       "      <th>13037</th>\n",
       "      <td>0.0</td>\n",
       "      <td>0.0</td>\n",
       "      <td>0.0</td>\n",
       "      <td>0.0</td>\n",
       "      <td>0.0</td>\n",
       "      <td>0.0</td>\n",
       "      <td>0.0</td>\n",
       "      <td>0.0</td>\n",
       "      <td>0.0</td>\n",
       "      <td>0.0</td>\n",
       "      <td>1.0</td>\n",
       "    </tr>\n",
       "    <tr>\n",
       "      <th>13033</th>\n",
       "      <td>0.0</td>\n",
       "      <td>0.0</td>\n",
       "      <td>0.0</td>\n",
       "      <td>0.0</td>\n",
       "      <td>0.0</td>\n",
       "      <td>0.0</td>\n",
       "      <td>0.0</td>\n",
       "      <td>0.0</td>\n",
       "      <td>0.0</td>\n",
       "      <td>0.0</td>\n",
       "      <td>1.0</td>\n",
       "    </tr>\n",
       "    <tr>\n",
       "      <th>3833</th>\n",
       "      <td>0.0</td>\n",
       "      <td>0.0</td>\n",
       "      <td>0.0</td>\n",
       "      <td>0.0</td>\n",
       "      <td>0.0</td>\n",
       "      <td>0.0</td>\n",
       "      <td>0.0</td>\n",
       "      <td>0.0</td>\n",
       "      <td>0.0</td>\n",
       "      <td>0.0</td>\n",
       "      <td>1.0</td>\n",
       "    </tr>\n",
       "    <tr>\n",
       "      <th>13008</th>\n",
       "      <td>0.0</td>\n",
       "      <td>0.0</td>\n",
       "      <td>0.0</td>\n",
       "      <td>0.0</td>\n",
       "      <td>0.0</td>\n",
       "      <td>0.0</td>\n",
       "      <td>0.0</td>\n",
       "      <td>0.0</td>\n",
       "      <td>0.0</td>\n",
       "      <td>0.0</td>\n",
       "      <td>1.0</td>\n",
       "    </tr>\n",
       "    <tr>\n",
       "      <th>7289</th>\n",
       "      <td>0.0</td>\n",
       "      <td>0.0</td>\n",
       "      <td>0.0</td>\n",
       "      <td>1.0</td>\n",
       "      <td>0.0</td>\n",
       "      <td>0.0</td>\n",
       "      <td>0.0</td>\n",
       "      <td>1.0</td>\n",
       "      <td>0.0</td>\n",
       "      <td>0.0</td>\n",
       "      <td>0.0</td>\n",
       "    </tr>\n",
       "    <tr>\n",
       "      <th>5566</th>\n",
       "      <td>0.0</td>\n",
       "      <td>0.0</td>\n",
       "      <td>0.0</td>\n",
       "      <td>0.0</td>\n",
       "      <td>0.0</td>\n",
       "      <td>1.0</td>\n",
       "      <td>0.0</td>\n",
       "      <td>0.0</td>\n",
       "      <td>0.0</td>\n",
       "      <td>0.0</td>\n",
       "      <td>0.0</td>\n",
       "    </tr>\n",
       "    <tr>\n",
       "      <th>381</th>\n",
       "      <td>1.0</td>\n",
       "      <td>0.0</td>\n",
       "      <td>0.0</td>\n",
       "      <td>0.0</td>\n",
       "      <td>0.0</td>\n",
       "      <td>0.0</td>\n",
       "      <td>0.0</td>\n",
       "      <td>0.0</td>\n",
       "      <td>0.0</td>\n",
       "      <td>0.0</td>\n",
       "      <td>0.0</td>\n",
       "    </tr>\n",
       "    <tr>\n",
       "      <th>5563</th>\n",
       "      <td>0.0</td>\n",
       "      <td>0.0</td>\n",
       "      <td>0.0</td>\n",
       "      <td>0.0</td>\n",
       "      <td>0.0</td>\n",
       "      <td>1.0</td>\n",
       "      <td>0.0</td>\n",
       "      <td>0.0</td>\n",
       "      <td>0.0</td>\n",
       "      <td>0.0</td>\n",
       "      <td>0.0</td>\n",
       "    </tr>\n",
       "    <tr>\n",
       "      <th>3813</th>\n",
       "      <td>0.0</td>\n",
       "      <td>0.0</td>\n",
       "      <td>0.0</td>\n",
       "      <td>0.0</td>\n",
       "      <td>0.0</td>\n",
       "      <td>0.0</td>\n",
       "      <td>0.0</td>\n",
       "      <td>0.0</td>\n",
       "      <td>0.0</td>\n",
       "      <td>0.0</td>\n",
       "      <td>1.0</td>\n",
       "    </tr>\n",
       "    <tr>\n",
       "      <th>8759</th>\n",
       "      <td>0.0</td>\n",
       "      <td>0.0</td>\n",
       "      <td>1.0</td>\n",
       "      <td>0.0</td>\n",
       "      <td>0.0</td>\n",
       "      <td>0.0</td>\n",
       "      <td>0.0</td>\n",
       "      <td>0.0</td>\n",
       "      <td>0.0</td>\n",
       "      <td>1.0</td>\n",
       "      <td>0.0</td>\n",
       "    </tr>\n",
       "    <tr>\n",
       "      <th>13045</th>\n",
       "      <td>0.0</td>\n",
       "      <td>0.0</td>\n",
       "      <td>0.0</td>\n",
       "      <td>0.0</td>\n",
       "      <td>0.0</td>\n",
       "      <td>0.0</td>\n",
       "      <td>0.0</td>\n",
       "      <td>0.0</td>\n",
       "      <td>0.0</td>\n",
       "      <td>0.0</td>\n",
       "      <td>1.0</td>\n",
       "    </tr>\n",
       "    <tr>\n",
       "      <th>9880</th>\n",
       "      <td>0.0</td>\n",
       "      <td>0.0</td>\n",
       "      <td>0.0</td>\n",
       "      <td>0.0</td>\n",
       "      <td>0.0</td>\n",
       "      <td>0.0</td>\n",
       "      <td>0.0</td>\n",
       "      <td>0.0</td>\n",
       "      <td>0.0</td>\n",
       "      <td>1.0</td>\n",
       "      <td>0.0</td>\n",
       "    </tr>\n",
       "    <tr>\n",
       "      <th>13016</th>\n",
       "      <td>0.0</td>\n",
       "      <td>0.0</td>\n",
       "      <td>0.0</td>\n",
       "      <td>0.0</td>\n",
       "      <td>0.0</td>\n",
       "      <td>0.0</td>\n",
       "      <td>0.0</td>\n",
       "      <td>0.0</td>\n",
       "      <td>0.0</td>\n",
       "      <td>0.0</td>\n",
       "      <td>1.0</td>\n",
       "    </tr>\n",
       "    <tr>\n",
       "      <th>8593</th>\n",
       "      <td>0.0</td>\n",
       "      <td>0.0</td>\n",
       "      <td>0.0</td>\n",
       "      <td>0.0</td>\n",
       "      <td>0.0</td>\n",
       "      <td>0.0</td>\n",
       "      <td>0.0</td>\n",
       "      <td>0.0</td>\n",
       "      <td>0.0</td>\n",
       "      <td>1.0</td>\n",
       "      <td>0.0</td>\n",
       "    </tr>\n",
       "    <tr>\n",
       "      <th>13021</th>\n",
       "      <td>0.0</td>\n",
       "      <td>0.0</td>\n",
       "      <td>0.0</td>\n",
       "      <td>0.0</td>\n",
       "      <td>0.0</td>\n",
       "      <td>0.0</td>\n",
       "      <td>0.0</td>\n",
       "      <td>0.0</td>\n",
       "      <td>0.0</td>\n",
       "      <td>0.0</td>\n",
       "      <td>1.0</td>\n",
       "    </tr>\n",
       "    <tr>\n",
       "      <th>14854</th>\n",
       "      <td>0.0</td>\n",
       "      <td>0.0</td>\n",
       "      <td>1.0</td>\n",
       "      <td>0.0</td>\n",
       "      <td>0.0</td>\n",
       "      <td>0.0</td>\n",
       "      <td>0.0</td>\n",
       "      <td>1.0</td>\n",
       "      <td>0.0</td>\n",
       "      <td>0.0</td>\n",
       "      <td>0.0</td>\n",
       "    </tr>\n",
       "    <tr>\n",
       "      <th>3821</th>\n",
       "      <td>0.0</td>\n",
       "      <td>0.0</td>\n",
       "      <td>0.0</td>\n",
       "      <td>0.0</td>\n",
       "      <td>0.0</td>\n",
       "      <td>0.0</td>\n",
       "      <td>0.0</td>\n",
       "      <td>0.0</td>\n",
       "      <td>0.0</td>\n",
       "      <td>0.0</td>\n",
       "      <td>1.0</td>\n",
       "    </tr>\n",
       "    <tr>\n",
       "      <th>13017</th>\n",
       "      <td>0.0</td>\n",
       "      <td>0.0</td>\n",
       "      <td>0.0</td>\n",
       "      <td>0.0</td>\n",
       "      <td>0.0</td>\n",
       "      <td>0.0</td>\n",
       "      <td>0.0</td>\n",
       "      <td>0.0</td>\n",
       "      <td>0.0</td>\n",
       "      <td>0.0</td>\n",
       "      <td>1.0</td>\n",
       "    </tr>\n",
       "    <tr>\n",
       "      <th>8639</th>\n",
       "      <td>0.0</td>\n",
       "      <td>0.0</td>\n",
       "      <td>0.0</td>\n",
       "      <td>0.0</td>\n",
       "      <td>0.0</td>\n",
       "      <td>0.0</td>\n",
       "      <td>0.0</td>\n",
       "      <td>0.0</td>\n",
       "      <td>1.0</td>\n",
       "      <td>1.0</td>\n",
       "      <td>0.0</td>\n",
       "    </tr>\n",
       "    <tr>\n",
       "      <th>8606</th>\n",
       "      <td>0.0</td>\n",
       "      <td>0.0</td>\n",
       "      <td>0.0</td>\n",
       "      <td>0.0</td>\n",
       "      <td>0.0</td>\n",
       "      <td>0.0</td>\n",
       "      <td>0.0</td>\n",
       "      <td>0.0</td>\n",
       "      <td>0.0</td>\n",
       "      <td>1.0</td>\n",
       "      <td>0.0</td>\n",
       "    </tr>\n",
       "    <tr>\n",
       "      <th>13044</th>\n",
       "      <td>0.0</td>\n",
       "      <td>0.0</td>\n",
       "      <td>0.0</td>\n",
       "      <td>0.0</td>\n",
       "      <td>0.0</td>\n",
       "      <td>0.0</td>\n",
       "      <td>0.0</td>\n",
       "      <td>0.0</td>\n",
       "      <td>1.0</td>\n",
       "      <td>0.0</td>\n",
       "      <td>1.0</td>\n",
       "    </tr>\n",
       "  </tbody>\n",
       "</table>\n",
       "</div>"
      ],
      "text/plain": [
       "       Cadmium yellow  Cobalt blue  Emerald green  Iron oxide  Prussian blue  \\\n",
       "ID                                                                             \n",
       "7747              0.0          0.0            1.0         0.0            0.0   \n",
       "7283              0.0          0.0            0.0         0.0            0.0   \n",
       "5561              0.0          0.0            0.0         0.0            0.0   \n",
       "9886              0.0          0.0            0.0         0.0            0.0   \n",
       "5562              0.0          0.0            0.0         0.0            0.0   \n",
       "5556              0.0          0.0            0.0         0.0            0.0   \n",
       "9864              0.0          0.0            0.0         0.0            1.0   \n",
       "3804              0.0          0.0            0.0         0.0            0.0   \n",
       "9875              0.0          0.0            0.0         0.0            0.0   \n",
       "10648             0.0          0.0            1.0         0.0            0.0   \n",
       "8624              0.0          0.0            0.0         0.0            0.0   \n",
       "8620              0.0          0.0            0.0         0.0            0.0   \n",
       "3827              0.0          0.0            0.0         0.0            0.0   \n",
       "379               1.0          0.0            0.0         0.0            0.0   \n",
       "7278              0.0          0.0            0.0         0.0            0.0   \n",
       "3837              0.0          0.0            0.0         0.0            0.0   \n",
       "5564              0.0          0.0            0.0         0.0            0.0   \n",
       "373               1.0          0.0            0.0         0.0            0.0   \n",
       "13037             0.0          0.0            0.0         0.0            0.0   \n",
       "13033             0.0          0.0            0.0         0.0            0.0   \n",
       "3833              0.0          0.0            0.0         0.0            0.0   \n",
       "13008             0.0          0.0            0.0         0.0            0.0   \n",
       "7289              0.0          0.0            0.0         1.0            0.0   \n",
       "5566              0.0          0.0            0.0         0.0            0.0   \n",
       "381               1.0          0.0            0.0         0.0            0.0   \n",
       "5563              0.0          0.0            0.0         0.0            0.0   \n",
       "3813              0.0          0.0            0.0         0.0            0.0   \n",
       "8759              0.0          0.0            1.0         0.0            0.0   \n",
       "13045             0.0          0.0            0.0         0.0            0.0   \n",
       "9880              0.0          0.0            0.0         0.0            0.0   \n",
       "13016             0.0          0.0            0.0         0.0            0.0   \n",
       "8593              0.0          0.0            0.0         0.0            0.0   \n",
       "13021             0.0          0.0            0.0         0.0            0.0   \n",
       "14854             0.0          0.0            1.0         0.0            0.0   \n",
       "3821              0.0          0.0            0.0         0.0            0.0   \n",
       "13017             0.0          0.0            0.0         0.0            0.0   \n",
       "8639              0.0          0.0            0.0         0.0            0.0   \n",
       "8606              0.0          0.0            0.0         0.0            0.0   \n",
       "13044             0.0          0.0            0.0         0.0            0.0   \n",
       "\n",
       "       SnO1  Ultramarine blue  Vermilion  ZnO  Chromate  Lead  \n",
       "ID                                                             \n",
       "7747    0.0               0.0        1.0  1.0       0.0   0.0  \n",
       "7283    0.0               0.0        1.0  0.0       0.0   0.0  \n",
       "5561    1.0               0.0        0.0  0.0       0.0   0.0  \n",
       "9886    0.0               0.0        0.0  0.0       1.0   0.0  \n",
       "5562    1.0               0.0        0.0  0.0       0.0   0.0  \n",
       "5556    1.0               0.0        0.0  0.0       0.0   0.0  \n",
       "9864    0.0               0.0        0.0  0.0       1.0   0.0  \n",
       "3804    0.0               0.0        0.0  0.0       0.0   1.0  \n",
       "9875    0.0               0.0        0.0  0.0       1.0   0.0  \n",
       "10648   0.0               0.0        0.0  1.0       1.0   0.0  \n",
       "8624    0.0               0.0        0.0  0.0       1.0   0.0  \n",
       "8620    0.0               0.0        0.0  0.0       1.0   0.0  \n",
       "3827    0.0               0.0        0.0  0.0       0.0   1.0  \n",
       "379     0.0               0.0        0.0  0.0       0.0   0.0  \n",
       "7278    0.0               0.0        1.0  0.0       0.0   0.0  \n",
       "3837    0.0               0.0        0.0  0.0       0.0   1.0  \n",
       "5564    1.0               0.0        0.0  0.0       0.0   0.0  \n",
       "373     0.0               0.0        0.0  0.0       0.0   0.0  \n",
       "13037   0.0               0.0        0.0  0.0       0.0   1.0  \n",
       "13033   0.0               0.0        0.0  0.0       0.0   1.0  \n",
       "3833    0.0               0.0        0.0  0.0       0.0   1.0  \n",
       "13008   0.0               0.0        0.0  0.0       0.0   1.0  \n",
       "7289    0.0               0.0        1.0  0.0       0.0   0.0  \n",
       "5566    1.0               0.0        0.0  0.0       0.0   0.0  \n",
       "381     0.0               0.0        0.0  0.0       0.0   0.0  \n",
       "5563    1.0               0.0        0.0  0.0       0.0   0.0  \n",
       "3813    0.0               0.0        0.0  0.0       0.0   1.0  \n",
       "8759    0.0               0.0        0.0  0.0       1.0   0.0  \n",
       "13045   0.0               0.0        0.0  0.0       0.0   1.0  \n",
       "9880    0.0               0.0        0.0  0.0       1.0   0.0  \n",
       "13016   0.0               0.0        0.0  0.0       0.0   1.0  \n",
       "8593    0.0               0.0        0.0  0.0       1.0   0.0  \n",
       "13021   0.0               0.0        0.0  0.0       0.0   1.0  \n",
       "14854   0.0               0.0        1.0  0.0       0.0   0.0  \n",
       "3821    0.0               0.0        0.0  0.0       0.0   1.0  \n",
       "13017   0.0               0.0        0.0  0.0       0.0   1.0  \n",
       "8639    0.0               0.0        0.0  1.0       1.0   0.0  \n",
       "8606    0.0               0.0        0.0  0.0       1.0   0.0  \n",
       "13044   0.0               0.0        0.0  1.0       0.0   1.0  "
      ]
     },
     "execution_count": 84,
     "metadata": {},
     "output_type": "execute_result"
    }
   ],
   "source": [
    "temp = predicted[cobalt_blue == False]\n",
    "temp\n",
    "# temp[temp['Cobalt blue'] == True]"
   ]
  },
  {
   "cell_type": "code",
   "execution_count": null,
   "metadata": {
    "id": "AGZfrFazrzIU",
    "outputId": "c0001499-993f-49f4-caf4-3294daa015fd"
   },
   "outputs": [
    {
     "data": {
      "text/html": [
       "<div>\n",
       "<style scoped>\n",
       "    .dataframe tbody tr th:only-of-type {\n",
       "        vertical-align: middle;\n",
       "    }\n",
       "\n",
       "    .dataframe tbody tr th {\n",
       "        vertical-align: top;\n",
       "    }\n",
       "\n",
       "    .dataframe thead th {\n",
       "        text-align: right;\n",
       "    }\n",
       "</style>\n",
       "<table border=\"1\" class=\"dataframe\">\n",
       "  <thead>\n",
       "    <tr style=\"text-align: right;\">\n",
       "      <th></th>\n",
       "      <th>Cadmium yellow</th>\n",
       "      <th>Cobalt blue</th>\n",
       "      <th>Emerald green</th>\n",
       "      <th>Iron oxide</th>\n",
       "      <th>Prussian blue</th>\n",
       "      <th>SnO1</th>\n",
       "      <th>Ultramarine blue</th>\n",
       "      <th>Vermilion</th>\n",
       "      <th>ZnO</th>\n",
       "      <th>Chromate</th>\n",
       "      <th>Lead</th>\n",
       "    </tr>\n",
       "    <tr>\n",
       "      <th>ID</th>\n",
       "      <th></th>\n",
       "      <th></th>\n",
       "      <th></th>\n",
       "      <th></th>\n",
       "      <th></th>\n",
       "      <th></th>\n",
       "      <th></th>\n",
       "      <th></th>\n",
       "      <th></th>\n",
       "      <th></th>\n",
       "      <th></th>\n",
       "    </tr>\n",
       "  </thead>\n",
       "  <tbody>\n",
       "    <tr>\n",
       "      <th>7747</th>\n",
       "      <td>0</td>\n",
       "      <td>0</td>\n",
       "      <td>0</td>\n",
       "      <td>0</td>\n",
       "      <td>0</td>\n",
       "      <td>0</td>\n",
       "      <td>0</td>\n",
       "      <td>1</td>\n",
       "      <td>1</td>\n",
       "      <td>0</td>\n",
       "      <td>0</td>\n",
       "    </tr>\n",
       "    <tr>\n",
       "      <th>7283</th>\n",
       "      <td>0</td>\n",
       "      <td>0</td>\n",
       "      <td>1</td>\n",
       "      <td>0</td>\n",
       "      <td>0</td>\n",
       "      <td>0</td>\n",
       "      <td>0</td>\n",
       "      <td>1</td>\n",
       "      <td>0</td>\n",
       "      <td>0</td>\n",
       "      <td>0</td>\n",
       "    </tr>\n",
       "    <tr>\n",
       "      <th>5561</th>\n",
       "      <td>0</td>\n",
       "      <td>0</td>\n",
       "      <td>1</td>\n",
       "      <td>0</td>\n",
       "      <td>0</td>\n",
       "      <td>1</td>\n",
       "      <td>0</td>\n",
       "      <td>0</td>\n",
       "      <td>0</td>\n",
       "      <td>0</td>\n",
       "      <td>0</td>\n",
       "    </tr>\n",
       "    <tr>\n",
       "      <th>9886</th>\n",
       "      <td>0</td>\n",
       "      <td>0</td>\n",
       "      <td>1</td>\n",
       "      <td>0</td>\n",
       "      <td>0</td>\n",
       "      <td>0</td>\n",
       "      <td>0</td>\n",
       "      <td>0</td>\n",
       "      <td>0</td>\n",
       "      <td>1</td>\n",
       "      <td>0</td>\n",
       "    </tr>\n",
       "    <tr>\n",
       "      <th>5562</th>\n",
       "      <td>0</td>\n",
       "      <td>0</td>\n",
       "      <td>1</td>\n",
       "      <td>0</td>\n",
       "      <td>0</td>\n",
       "      <td>1</td>\n",
       "      <td>0</td>\n",
       "      <td>0</td>\n",
       "      <td>0</td>\n",
       "      <td>0</td>\n",
       "      <td>0</td>\n",
       "    </tr>\n",
       "    <tr>\n",
       "      <th>5556</th>\n",
       "      <td>0</td>\n",
       "      <td>0</td>\n",
       "      <td>1</td>\n",
       "      <td>0</td>\n",
       "      <td>0</td>\n",
       "      <td>1</td>\n",
       "      <td>0</td>\n",
       "      <td>0</td>\n",
       "      <td>0</td>\n",
       "      <td>0</td>\n",
       "      <td>0</td>\n",
       "    </tr>\n",
       "    <tr>\n",
       "      <th>9864</th>\n",
       "      <td>0</td>\n",
       "      <td>0</td>\n",
       "      <td>1</td>\n",
       "      <td>0</td>\n",
       "      <td>0</td>\n",
       "      <td>0</td>\n",
       "      <td>0</td>\n",
       "      <td>0</td>\n",
       "      <td>0</td>\n",
       "      <td>1</td>\n",
       "      <td>0</td>\n",
       "    </tr>\n",
       "    <tr>\n",
       "      <th>3804</th>\n",
       "      <td>0</td>\n",
       "      <td>0</td>\n",
       "      <td>1</td>\n",
       "      <td>0</td>\n",
       "      <td>0</td>\n",
       "      <td>0</td>\n",
       "      <td>0</td>\n",
       "      <td>0</td>\n",
       "      <td>0</td>\n",
       "      <td>0</td>\n",
       "      <td>1</td>\n",
       "    </tr>\n",
       "    <tr>\n",
       "      <th>9875</th>\n",
       "      <td>0</td>\n",
       "      <td>0</td>\n",
       "      <td>1</td>\n",
       "      <td>0</td>\n",
       "      <td>0</td>\n",
       "      <td>0</td>\n",
       "      <td>0</td>\n",
       "      <td>0</td>\n",
       "      <td>0</td>\n",
       "      <td>1</td>\n",
       "      <td>0</td>\n",
       "    </tr>\n",
       "    <tr>\n",
       "      <th>10648</th>\n",
       "      <td>0</td>\n",
       "      <td>0</td>\n",
       "      <td>0</td>\n",
       "      <td>0</td>\n",
       "      <td>0</td>\n",
       "      <td>0</td>\n",
       "      <td>0</td>\n",
       "      <td>0</td>\n",
       "      <td>1</td>\n",
       "      <td>1</td>\n",
       "      <td>0</td>\n",
       "    </tr>\n",
       "    <tr>\n",
       "      <th>8624</th>\n",
       "      <td>0</td>\n",
       "      <td>0</td>\n",
       "      <td>1</td>\n",
       "      <td>0</td>\n",
       "      <td>0</td>\n",
       "      <td>0</td>\n",
       "      <td>0</td>\n",
       "      <td>0</td>\n",
       "      <td>0</td>\n",
       "      <td>1</td>\n",
       "      <td>0</td>\n",
       "    </tr>\n",
       "    <tr>\n",
       "      <th>8620</th>\n",
       "      <td>0</td>\n",
       "      <td>0</td>\n",
       "      <td>1</td>\n",
       "      <td>0</td>\n",
       "      <td>0</td>\n",
       "      <td>0</td>\n",
       "      <td>0</td>\n",
       "      <td>0</td>\n",
       "      <td>0</td>\n",
       "      <td>1</td>\n",
       "      <td>0</td>\n",
       "    </tr>\n",
       "    <tr>\n",
       "      <th>3827</th>\n",
       "      <td>0</td>\n",
       "      <td>0</td>\n",
       "      <td>1</td>\n",
       "      <td>0</td>\n",
       "      <td>0</td>\n",
       "      <td>0</td>\n",
       "      <td>0</td>\n",
       "      <td>0</td>\n",
       "      <td>0</td>\n",
       "      <td>0</td>\n",
       "      <td>1</td>\n",
       "    </tr>\n",
       "    <tr>\n",
       "      <th>379</th>\n",
       "      <td>1</td>\n",
       "      <td>0</td>\n",
       "      <td>1</td>\n",
       "      <td>0</td>\n",
       "      <td>0</td>\n",
       "      <td>0</td>\n",
       "      <td>0</td>\n",
       "      <td>0</td>\n",
       "      <td>0</td>\n",
       "      <td>0</td>\n",
       "      <td>0</td>\n",
       "    </tr>\n",
       "    <tr>\n",
       "      <th>7278</th>\n",
       "      <td>0</td>\n",
       "      <td>0</td>\n",
       "      <td>1</td>\n",
       "      <td>0</td>\n",
       "      <td>0</td>\n",
       "      <td>0</td>\n",
       "      <td>0</td>\n",
       "      <td>1</td>\n",
       "      <td>0</td>\n",
       "      <td>0</td>\n",
       "      <td>0</td>\n",
       "    </tr>\n",
       "    <tr>\n",
       "      <th>3837</th>\n",
       "      <td>0</td>\n",
       "      <td>0</td>\n",
       "      <td>1</td>\n",
       "      <td>0</td>\n",
       "      <td>0</td>\n",
       "      <td>0</td>\n",
       "      <td>0</td>\n",
       "      <td>0</td>\n",
       "      <td>0</td>\n",
       "      <td>0</td>\n",
       "      <td>1</td>\n",
       "    </tr>\n",
       "    <tr>\n",
       "      <th>5564</th>\n",
       "      <td>0</td>\n",
       "      <td>0</td>\n",
       "      <td>1</td>\n",
       "      <td>0</td>\n",
       "      <td>0</td>\n",
       "      <td>1</td>\n",
       "      <td>0</td>\n",
       "      <td>0</td>\n",
       "      <td>0</td>\n",
       "      <td>0</td>\n",
       "      <td>0</td>\n",
       "    </tr>\n",
       "    <tr>\n",
       "      <th>373</th>\n",
       "      <td>1</td>\n",
       "      <td>0</td>\n",
       "      <td>1</td>\n",
       "      <td>0</td>\n",
       "      <td>0</td>\n",
       "      <td>0</td>\n",
       "      <td>0</td>\n",
       "      <td>0</td>\n",
       "      <td>0</td>\n",
       "      <td>0</td>\n",
       "      <td>0</td>\n",
       "    </tr>\n",
       "    <tr>\n",
       "      <th>13037</th>\n",
       "      <td>0</td>\n",
       "      <td>0</td>\n",
       "      <td>1</td>\n",
       "      <td>0</td>\n",
       "      <td>0</td>\n",
       "      <td>0</td>\n",
       "      <td>0</td>\n",
       "      <td>0</td>\n",
       "      <td>0</td>\n",
       "      <td>0</td>\n",
       "      <td>1</td>\n",
       "    </tr>\n",
       "    <tr>\n",
       "      <th>13033</th>\n",
       "      <td>0</td>\n",
       "      <td>0</td>\n",
       "      <td>1</td>\n",
       "      <td>0</td>\n",
       "      <td>0</td>\n",
       "      <td>0</td>\n",
       "      <td>0</td>\n",
       "      <td>0</td>\n",
       "      <td>0</td>\n",
       "      <td>0</td>\n",
       "      <td>1</td>\n",
       "    </tr>\n",
       "    <tr>\n",
       "      <th>3833</th>\n",
       "      <td>0</td>\n",
       "      <td>0</td>\n",
       "      <td>1</td>\n",
       "      <td>0</td>\n",
       "      <td>0</td>\n",
       "      <td>0</td>\n",
       "      <td>0</td>\n",
       "      <td>0</td>\n",
       "      <td>0</td>\n",
       "      <td>0</td>\n",
       "      <td>1</td>\n",
       "    </tr>\n",
       "    <tr>\n",
       "      <th>13008</th>\n",
       "      <td>0</td>\n",
       "      <td>0</td>\n",
       "      <td>1</td>\n",
       "      <td>0</td>\n",
       "      <td>0</td>\n",
       "      <td>0</td>\n",
       "      <td>0</td>\n",
       "      <td>0</td>\n",
       "      <td>0</td>\n",
       "      <td>0</td>\n",
       "      <td>1</td>\n",
       "    </tr>\n",
       "    <tr>\n",
       "      <th>7289</th>\n",
       "      <td>0</td>\n",
       "      <td>0</td>\n",
       "      <td>1</td>\n",
       "      <td>0</td>\n",
       "      <td>0</td>\n",
       "      <td>0</td>\n",
       "      <td>0</td>\n",
       "      <td>1</td>\n",
       "      <td>0</td>\n",
       "      <td>0</td>\n",
       "      <td>0</td>\n",
       "    </tr>\n",
       "    <tr>\n",
       "      <th>5566</th>\n",
       "      <td>0</td>\n",
       "      <td>0</td>\n",
       "      <td>1</td>\n",
       "      <td>0</td>\n",
       "      <td>0</td>\n",
       "      <td>1</td>\n",
       "      <td>0</td>\n",
       "      <td>0</td>\n",
       "      <td>0</td>\n",
       "      <td>0</td>\n",
       "      <td>0</td>\n",
       "    </tr>\n",
       "    <tr>\n",
       "      <th>381</th>\n",
       "      <td>1</td>\n",
       "      <td>0</td>\n",
       "      <td>1</td>\n",
       "      <td>0</td>\n",
       "      <td>0</td>\n",
       "      <td>0</td>\n",
       "      <td>0</td>\n",
       "      <td>0</td>\n",
       "      <td>0</td>\n",
       "      <td>0</td>\n",
       "      <td>0</td>\n",
       "    </tr>\n",
       "    <tr>\n",
       "      <th>5563</th>\n",
       "      <td>0</td>\n",
       "      <td>0</td>\n",
       "      <td>1</td>\n",
       "      <td>0</td>\n",
       "      <td>0</td>\n",
       "      <td>1</td>\n",
       "      <td>0</td>\n",
       "      <td>0</td>\n",
       "      <td>0</td>\n",
       "      <td>0</td>\n",
       "      <td>0</td>\n",
       "    </tr>\n",
       "    <tr>\n",
       "      <th>3813</th>\n",
       "      <td>0</td>\n",
       "      <td>0</td>\n",
       "      <td>1</td>\n",
       "      <td>0</td>\n",
       "      <td>0</td>\n",
       "      <td>0</td>\n",
       "      <td>0</td>\n",
       "      <td>0</td>\n",
       "      <td>0</td>\n",
       "      <td>0</td>\n",
       "      <td>1</td>\n",
       "    </tr>\n",
       "    <tr>\n",
       "      <th>8759</th>\n",
       "      <td>0</td>\n",
       "      <td>0</td>\n",
       "      <td>0</td>\n",
       "      <td>0</td>\n",
       "      <td>0</td>\n",
       "      <td>0</td>\n",
       "      <td>0</td>\n",
       "      <td>0</td>\n",
       "      <td>0</td>\n",
       "      <td>1</td>\n",
       "      <td>1</td>\n",
       "    </tr>\n",
       "    <tr>\n",
       "      <th>13045</th>\n",
       "      <td>0</td>\n",
       "      <td>0</td>\n",
       "      <td>1</td>\n",
       "      <td>0</td>\n",
       "      <td>0</td>\n",
       "      <td>0</td>\n",
       "      <td>0</td>\n",
       "      <td>0</td>\n",
       "      <td>0</td>\n",
       "      <td>0</td>\n",
       "      <td>1</td>\n",
       "    </tr>\n",
       "    <tr>\n",
       "      <th>9880</th>\n",
       "      <td>0</td>\n",
       "      <td>0</td>\n",
       "      <td>1</td>\n",
       "      <td>0</td>\n",
       "      <td>0</td>\n",
       "      <td>0</td>\n",
       "      <td>0</td>\n",
       "      <td>0</td>\n",
       "      <td>0</td>\n",
       "      <td>1</td>\n",
       "      <td>0</td>\n",
       "    </tr>\n",
       "    <tr>\n",
       "      <th>13016</th>\n",
       "      <td>0</td>\n",
       "      <td>0</td>\n",
       "      <td>1</td>\n",
       "      <td>0</td>\n",
       "      <td>0</td>\n",
       "      <td>0</td>\n",
       "      <td>0</td>\n",
       "      <td>0</td>\n",
       "      <td>0</td>\n",
       "      <td>0</td>\n",
       "      <td>1</td>\n",
       "    </tr>\n",
       "    <tr>\n",
       "      <th>8593</th>\n",
       "      <td>0</td>\n",
       "      <td>0</td>\n",
       "      <td>1</td>\n",
       "      <td>0</td>\n",
       "      <td>0</td>\n",
       "      <td>0</td>\n",
       "      <td>0</td>\n",
       "      <td>0</td>\n",
       "      <td>0</td>\n",
       "      <td>1</td>\n",
       "      <td>0</td>\n",
       "    </tr>\n",
       "    <tr>\n",
       "      <th>13021</th>\n",
       "      <td>0</td>\n",
       "      <td>0</td>\n",
       "      <td>1</td>\n",
       "      <td>0</td>\n",
       "      <td>0</td>\n",
       "      <td>0</td>\n",
       "      <td>0</td>\n",
       "      <td>0</td>\n",
       "      <td>0</td>\n",
       "      <td>0</td>\n",
       "      <td>1</td>\n",
       "    </tr>\n",
       "    <tr>\n",
       "      <th>14854</th>\n",
       "      <td>0</td>\n",
       "      <td>0</td>\n",
       "      <td>0</td>\n",
       "      <td>0</td>\n",
       "      <td>1</td>\n",
       "      <td>0</td>\n",
       "      <td>0</td>\n",
       "      <td>1</td>\n",
       "      <td>0</td>\n",
       "      <td>0</td>\n",
       "      <td>0</td>\n",
       "    </tr>\n",
       "    <tr>\n",
       "      <th>3821</th>\n",
       "      <td>0</td>\n",
       "      <td>0</td>\n",
       "      <td>1</td>\n",
       "      <td>0</td>\n",
       "      <td>0</td>\n",
       "      <td>0</td>\n",
       "      <td>0</td>\n",
       "      <td>0</td>\n",
       "      <td>0</td>\n",
       "      <td>0</td>\n",
       "      <td>1</td>\n",
       "    </tr>\n",
       "    <tr>\n",
       "      <th>13017</th>\n",
       "      <td>0</td>\n",
       "      <td>0</td>\n",
       "      <td>1</td>\n",
       "      <td>0</td>\n",
       "      <td>0</td>\n",
       "      <td>0</td>\n",
       "      <td>0</td>\n",
       "      <td>0</td>\n",
       "      <td>0</td>\n",
       "      <td>0</td>\n",
       "      <td>1</td>\n",
       "    </tr>\n",
       "    <tr>\n",
       "      <th>8639</th>\n",
       "      <td>0</td>\n",
       "      <td>0</td>\n",
       "      <td>1</td>\n",
       "      <td>0</td>\n",
       "      <td>0</td>\n",
       "      <td>0</td>\n",
       "      <td>0</td>\n",
       "      <td>0</td>\n",
       "      <td>0</td>\n",
       "      <td>1</td>\n",
       "      <td>0</td>\n",
       "    </tr>\n",
       "    <tr>\n",
       "      <th>8606</th>\n",
       "      <td>0</td>\n",
       "      <td>0</td>\n",
       "      <td>1</td>\n",
       "      <td>0</td>\n",
       "      <td>0</td>\n",
       "      <td>0</td>\n",
       "      <td>0</td>\n",
       "      <td>0</td>\n",
       "      <td>0</td>\n",
       "      <td>1</td>\n",
       "      <td>0</td>\n",
       "    </tr>\n",
       "    <tr>\n",
       "      <th>13044</th>\n",
       "      <td>0</td>\n",
       "      <td>0</td>\n",
       "      <td>1</td>\n",
       "      <td>0</td>\n",
       "      <td>0</td>\n",
       "      <td>0</td>\n",
       "      <td>0</td>\n",
       "      <td>0</td>\n",
       "      <td>0</td>\n",
       "      <td>0</td>\n",
       "      <td>1</td>\n",
       "    </tr>\n",
       "  </tbody>\n",
       "</table>\n",
       "</div>"
      ],
      "text/plain": [
       "       Cadmium yellow  Cobalt blue  Emerald green  Iron oxide  Prussian blue  \\\n",
       "ID                                                                             \n",
       "7747                0            0              0           0              0   \n",
       "7283                0            0              1           0              0   \n",
       "5561                0            0              1           0              0   \n",
       "9886                0            0              1           0              0   \n",
       "5562                0            0              1           0              0   \n",
       "5556                0            0              1           0              0   \n",
       "9864                0            0              1           0              0   \n",
       "3804                0            0              1           0              0   \n",
       "9875                0            0              1           0              0   \n",
       "10648               0            0              0           0              0   \n",
       "8624                0            0              1           0              0   \n",
       "8620                0            0              1           0              0   \n",
       "3827                0            0              1           0              0   \n",
       "379                 1            0              1           0              0   \n",
       "7278                0            0              1           0              0   \n",
       "3837                0            0              1           0              0   \n",
       "5564                0            0              1           0              0   \n",
       "373                 1            0              1           0              0   \n",
       "13037               0            0              1           0              0   \n",
       "13033               0            0              1           0              0   \n",
       "3833                0            0              1           0              0   \n",
       "13008               0            0              1           0              0   \n",
       "7289                0            0              1           0              0   \n",
       "5566                0            0              1           0              0   \n",
       "381                 1            0              1           0              0   \n",
       "5563                0            0              1           0              0   \n",
       "3813                0            0              1           0              0   \n",
       "8759                0            0              0           0              0   \n",
       "13045               0            0              1           0              0   \n",
       "9880                0            0              1           0              0   \n",
       "13016               0            0              1           0              0   \n",
       "8593                0            0              1           0              0   \n",
       "13021               0            0              1           0              0   \n",
       "14854               0            0              0           0              1   \n",
       "3821                0            0              1           0              0   \n",
       "13017               0            0              1           0              0   \n",
       "8639                0            0              1           0              0   \n",
       "8606                0            0              1           0              0   \n",
       "13044               0            0              1           0              0   \n",
       "\n",
       "       SnO1  Ultramarine blue  Vermilion  ZnO  Chromate  Lead  \n",
       "ID                                                             \n",
       "7747      0                 0          1    1         0     0  \n",
       "7283      0                 0          1    0         0     0  \n",
       "5561      1                 0          0    0         0     0  \n",
       "9886      0                 0          0    0         1     0  \n",
       "5562      1                 0          0    0         0     0  \n",
       "5556      1                 0          0    0         0     0  \n",
       "9864      0                 0          0    0         1     0  \n",
       "3804      0                 0          0    0         0     1  \n",
       "9875      0                 0          0    0         1     0  \n",
       "10648     0                 0          0    1         1     0  \n",
       "8624      0                 0          0    0         1     0  \n",
       "8620      0                 0          0    0         1     0  \n",
       "3827      0                 0          0    0         0     1  \n",
       "379       0                 0          0    0         0     0  \n",
       "7278      0                 0          1    0         0     0  \n",
       "3837      0                 0          0    0         0     1  \n",
       "5564      1                 0          0    0         0     0  \n",
       "373       0                 0          0    0         0     0  \n",
       "13037     0                 0          0    0         0     1  \n",
       "13033     0                 0          0    0         0     1  \n",
       "3833      0                 0          0    0         0     1  \n",
       "13008     0                 0          0    0         0     1  \n",
       "7289      0                 0          1    0         0     0  \n",
       "5566      1                 0          0    0         0     0  \n",
       "381       0                 0          0    0         0     0  \n",
       "5563      1                 0          0    0         0     0  \n",
       "3813      0                 0          0    0         0     1  \n",
       "8759      0                 0          0    0         1     1  \n",
       "13045     0                 0          0    0         0     1  \n",
       "9880      0                 0          0    0         1     0  \n",
       "13016     0                 0          0    0         0     1  \n",
       "8593      0                 0          0    0         1     0  \n",
       "13021     0                 0          0    0         0     1  \n",
       "14854     0                 0          1    0         0     0  \n",
       "3821      0                 0          0    0         0     1  \n",
       "13017     0                 0          0    0         0     1  \n",
       "8639      0                 0          0    0         1     0  \n",
       "8606      0                 0          0    0         1     0  \n",
       "13044     0                 0          0    0         0     1  "
      ]
     },
     "execution_count": 85,
     "metadata": {},
     "output_type": "execute_result"
    }
   ],
   "source": [
    "y_test[cobalt_blue == False]"
   ]
  },
  {
   "cell_type": "markdown",
   "metadata": {
    "id": "OAR7p79urzIV"
   },
   "source": [
    "# Plot Confusion Matrix"
   ]
  },
  {
   "cell_type": "code",
   "execution_count": null,
   "metadata": {
    "id": "8YcBNwJrrzIV"
   },
   "outputs": [],
   "source": [
    "from sklearn.metrics import multilabel_confusion_matrix, ConfusionMatrixDisplay\n",
    "\n",
    "cm = multilabel_confusion_matrix(y_test, result)"
   ]
  },
  {
   "cell_type": "code",
   "execution_count": null,
   "metadata": {
    "id": "tJ-idZanrzIV",
    "outputId": "fc20e7c3-846a-4883-e981-4bc3d0ec9f11"
   },
   "outputs": [
    {
     "data": {
      "text/plain": [
       "Index(['Cadmium yellow', 'Cobalt blue', 'Emerald green', 'Iron oxide',\n",
       "       'Prussian blue', 'SnO1', 'Ultramarine blue', 'Vermilion', 'ZnO',\n",
       "       'Chromate', 'Lead'],\n",
       "      dtype='object')"
      ]
     },
     "execution_count": 31,
     "metadata": {},
     "output_type": "execute_result"
    }
   ],
   "source": [
    "gt.columns"
   ]
  },
  {
   "cell_type": "code",
   "execution_count": null,
   "metadata": {
    "id": "iE5c_TKSrzIV",
    "outputId": "2cfd057a-34e6-40ac-d61c-98e263f923c8"
   },
   "outputs": [
    {
     "data": {
      "text/plain": [
       "(11, 2, 2)"
      ]
     },
     "execution_count": 32,
     "metadata": {},
     "output_type": "execute_result"
    }
   ],
   "source": [
    "cm.shape"
   ]
  },
  {
   "cell_type": "code",
   "execution_count": null,
   "metadata": {
    "id": "79N2ShEKrzIW",
    "outputId": "1c518ac3-42e2-46a1-dccf-6e853360812e"
   },
   "outputs": [
    {
     "data": {
      "image/png": "[encoded data removed]",
      "text/plain": [
       "<Figure size 1296x864 with 13 Axes>"
      ]
     },
     "metadata": {
      "needs_background": "light"
     },
     "output_type": "display_data"
    }
   ],
   "source": [
    "f, axes = plt.subplots(3, 4, figsize=(18, 12))\n",
    "axes = axes.ravel()\n",
    "for i in range(11):\n",
    "    disp = ConfusionMatrixDisplay(cm[i,:,:],\n",
    "                                  display_labels=[0, gt.columns[i]])\n",
    "    disp.plot(ax=axes[i], values_format= '.4g')\n",
    "    disp.ax_.set_title('{}'.format(gt.columns[i]))\n",
    "    disp.ax_.set_xlabel('')\n",
    "    disp.ax_.set_ylabel('')\n",
    "    disp.im_.colorbar.remove()\n",
    "#     disp.plot()\n",
    "\n",
    "plt.subplots_adjust(wspace=0.5, hspace=0.01)\n",
    "f.colorbar(disp.im_, ax = axes)\n",
    "plt.show()"
   ]
  }
 ],
 "metadata": {
  "colab": {
   "collapsed_sections": [
    "tHAdRMEqus83",
    "72F082QbrzIM",
    "xvugSgqKrzIT",
    "OAR7p79urzIV"
   ],
   "name": "Stage1_Model_on_simulation.ipynb",
   "provenance": []
  },
  "kernelspec": {
   "display_name": "Python 3",
   "language": "python",
   "name": "python3"
  },
  "language_info": {
   "codemirror_mode": {
    "name": "ipython",
    "version": 3
   },
   "file_extension": ".py",
   "mimetype": "text/x-python",
   "name": "python",
   "nbconvert_exporter": "python",
   "pygments_lexer": "ipython3",
   "version": "3.9.0"
  }
 },
 "nbformat": 4,
 "nbformat_minor": 4
}

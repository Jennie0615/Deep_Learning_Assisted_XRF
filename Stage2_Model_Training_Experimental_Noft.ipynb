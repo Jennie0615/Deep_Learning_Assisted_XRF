{
 "cells": [
  {
   "cell_type": "markdown",
   "metadata": {
    "id": "-DS-tM9o_1fd"
   },
   "source": [
    "# Model Training without fine-tuning"
   ]
  },
  {
   "cell_type": "code",
   "execution_count": null,
   "metadata": {
    "id": "9qrxSqvorW4F"
   },
   "outputs": [],
   "source": [
    "# import packages\n",
    "import numpy as np\n",
    "import pandas as pd\n",
    "import os\n",
    "import matplotlib.pyplot as plt\n",
    "\n",
    "import tensorflow.keras as keras\n",
    "from tensorflow.keras.utils import to_categorical\n",
    "from tensorflow.keras.models import Model\n",
    "from tensorflow.keras.layers import Input\n",
    "from tensorflow.keras.layers import Dense, BatchNormalization\n",
    "from tensorflow.keras.layers import Flatten, Add, ReLU\n",
    "from tensorflow.keras.layers import Dropout\n",
    "from tensorflow.keras.layers import Conv1D\n",
    "from tensorflow.keras.layers import MaxPooling1D\n",
    "from tensorflow.keras.layers import concatenate\n",
    "from tensorflow.python.keras.utils.data_utils import Sequence"
   ]
  },
  {
   "cell_type": "code",
   "execution_count": null,
   "metadata": {
    "id": "xmAMYBYJrW4I",
    "outputId": "dde98640-eb3b-427d-b2a2-55de9d302e9b"
   },
   "outputs": [
    {
     "name": "stdout",
     "output_type": "stream",
     "text": [
      "(6604, 3815)\n"
     ]
    }
   ],
   "source": [
    "# read the experimental dataset\n",
    "feature_path='.../test_spectra_sheet_raw.csv'\n",
    "tbl = pd.read_csv(feature_path)\n",
    "tbl = tbl.set_index('ID')\n",
    "print(tbl.shape)"
   ]
  },
  {
   "cell_type": "code",
   "execution_count": null,
   "metadata": {
    "id": "WSNLne3VrW4J",
    "outputId": "88b42a29-6cc9-4fdd-ca3c-65735ed2b819"
   },
   "outputs": [
    {
     "data": {
      "text/html": [
       "<div>\n",
       "<style scoped>\n",
       "    .dataframe tbody tr th:only-of-type {\n",
       "        vertical-align: middle;\n",
       "    }\n",
       "\n",
       "    .dataframe tbody tr th {\n",
       "        vertical-align: top;\n",
       "    }\n",
       "\n",
       "    .dataframe thead th {\n",
       "        text-align: right;\n",
       "    }\n",
       "</style>\n",
       "<table border=\"1\" class=\"dataframe\">\n",
       "  <thead>\n",
       "    <tr style=\"text-align: right;\">\n",
       "      <th></th>\n",
       "      <th>feature_281</th>\n",
       "      <th>feature_282</th>\n",
       "      <th>feature_283</th>\n",
       "      <th>feature_284</th>\n",
       "      <th>feature_285</th>\n",
       "      <th>feature_286</th>\n",
       "      <th>feature_287</th>\n",
       "      <th>feature_288</th>\n",
       "      <th>feature_289</th>\n",
       "      <th>feature_290</th>\n",
       "      <th>...</th>\n",
       "      <th>feature_4086</th>\n",
       "      <th>feature_4087</th>\n",
       "      <th>feature_4088</th>\n",
       "      <th>feature_4089</th>\n",
       "      <th>feature_4090</th>\n",
       "      <th>feature_4091</th>\n",
       "      <th>feature_4092</th>\n",
       "      <th>feature_4093</th>\n",
       "      <th>feature_4094</th>\n",
       "      <th>feature_4095</th>\n",
       "    </tr>\n",
       "    <tr>\n",
       "      <th>ID</th>\n",
       "      <th></th>\n",
       "      <th></th>\n",
       "      <th></th>\n",
       "      <th></th>\n",
       "      <th></th>\n",
       "      <th></th>\n",
       "      <th></th>\n",
       "      <th></th>\n",
       "      <th></th>\n",
       "      <th></th>\n",
       "      <th></th>\n",
       "      <th></th>\n",
       "      <th></th>\n",
       "      <th></th>\n",
       "      <th></th>\n",
       "      <th></th>\n",
       "      <th></th>\n",
       "      <th></th>\n",
       "      <th></th>\n",
       "      <th></th>\n",
       "      <th></th>\n",
       "    </tr>\n",
       "  </thead>\n",
       "  <tbody>\n",
       "    <tr>\n",
       "      <th>0</th>\n",
       "      <td>1</td>\n",
       "      <td>1</td>\n",
       "      <td>1</td>\n",
       "      <td>1</td>\n",
       "      <td>1</td>\n",
       "      <td>1</td>\n",
       "      <td>1</td>\n",
       "      <td>1</td>\n",
       "      <td>1</td>\n",
       "      <td>3</td>\n",
       "      <td>...</td>\n",
       "      <td>0</td>\n",
       "      <td>0</td>\n",
       "      <td>0</td>\n",
       "      <td>0</td>\n",
       "      <td>0</td>\n",
       "      <td>0</td>\n",
       "      <td>0</td>\n",
       "      <td>0</td>\n",
       "      <td>0</td>\n",
       "      <td>0</td>\n",
       "    </tr>\n",
       "    <tr>\n",
       "      <th>1</th>\n",
       "      <td>2</td>\n",
       "      <td>0</td>\n",
       "      <td>2</td>\n",
       "      <td>1</td>\n",
       "      <td>0</td>\n",
       "      <td>3</td>\n",
       "      <td>0</td>\n",
       "      <td>1</td>\n",
       "      <td>1</td>\n",
       "      <td>0</td>\n",
       "      <td>...</td>\n",
       "      <td>0</td>\n",
       "      <td>0</td>\n",
       "      <td>0</td>\n",
       "      <td>0</td>\n",
       "      <td>0</td>\n",
       "      <td>0</td>\n",
       "      <td>0</td>\n",
       "      <td>0</td>\n",
       "      <td>0</td>\n",
       "      <td>0</td>\n",
       "    </tr>\n",
       "    <tr>\n",
       "      <th>2</th>\n",
       "      <td>2</td>\n",
       "      <td>2</td>\n",
       "      <td>2</td>\n",
       "      <td>3</td>\n",
       "      <td>0</td>\n",
       "      <td>1</td>\n",
       "      <td>3</td>\n",
       "      <td>1</td>\n",
       "      <td>0</td>\n",
       "      <td>2</td>\n",
       "      <td>...</td>\n",
       "      <td>0</td>\n",
       "      <td>0</td>\n",
       "      <td>0</td>\n",
       "      <td>0</td>\n",
       "      <td>0</td>\n",
       "      <td>0</td>\n",
       "      <td>0</td>\n",
       "      <td>0</td>\n",
       "      <td>0</td>\n",
       "      <td>0</td>\n",
       "    </tr>\n",
       "    <tr>\n",
       "      <th>3</th>\n",
       "      <td>1</td>\n",
       "      <td>1</td>\n",
       "      <td>1</td>\n",
       "      <td>2</td>\n",
       "      <td>2</td>\n",
       "      <td>2</td>\n",
       "      <td>0</td>\n",
       "      <td>0</td>\n",
       "      <td>0</td>\n",
       "      <td>2</td>\n",
       "      <td>...</td>\n",
       "      <td>0</td>\n",
       "      <td>0</td>\n",
       "      <td>0</td>\n",
       "      <td>0</td>\n",
       "      <td>0</td>\n",
       "      <td>0</td>\n",
       "      <td>0</td>\n",
       "      <td>0</td>\n",
       "      <td>0</td>\n",
       "      <td>0</td>\n",
       "    </tr>\n",
       "    <tr>\n",
       "      <th>4</th>\n",
       "      <td>0</td>\n",
       "      <td>2</td>\n",
       "      <td>0</td>\n",
       "      <td>1</td>\n",
       "      <td>1</td>\n",
       "      <td>1</td>\n",
       "      <td>0</td>\n",
       "      <td>0</td>\n",
       "      <td>0</td>\n",
       "      <td>2</td>\n",
       "      <td>...</td>\n",
       "      <td>0</td>\n",
       "      <td>0</td>\n",
       "      <td>0</td>\n",
       "      <td>0</td>\n",
       "      <td>0</td>\n",
       "      <td>0</td>\n",
       "      <td>0</td>\n",
       "      <td>0</td>\n",
       "      <td>0</td>\n",
       "      <td>0</td>\n",
       "    </tr>\n",
       "  </tbody>\n",
       "</table>\n",
       "<p>5 rows × 3815 columns</p>\n",
       "</div>"
      ],
      "text/plain": [
       "    feature_281  feature_282  feature_283  feature_284  feature_285  \\\n",
       "ID                                                                    \n",
       "0             1            1            1            1            1   \n",
       "1             2            0            2            1            0   \n",
       "2             2            2            2            3            0   \n",
       "3             1            1            1            2            2   \n",
       "4             0            2            0            1            1   \n",
       "\n",
       "    feature_286  feature_287  feature_288  feature_289  feature_290  ...  \\\n",
       "ID                                                                   ...   \n",
       "0             1            1            1            1            3  ...   \n",
       "1             3            0            1            1            0  ...   \n",
       "2             1            3            1            0            2  ...   \n",
       "3             2            0            0            0            2  ...   \n",
       "4             1            0            0            0            2  ...   \n",
       "\n",
       "    feature_4086  feature_4087  feature_4088  feature_4089  feature_4090  \\\n",
       "ID                                                                         \n",
       "0              0             0             0             0             0   \n",
       "1              0             0             0             0             0   \n",
       "2              0             0             0             0             0   \n",
       "3              0             0             0             0             0   \n",
       "4              0             0             0             0             0   \n",
       "\n",
       "    feature_4091  feature_4092  feature_4093  feature_4094  feature_4095  \n",
       "ID                                                                        \n",
       "0              0             0             0             0             0  \n",
       "1              0             0             0             0             0  \n",
       "2              0             0             0             0             0  \n",
       "3              0             0             0             0             0  \n",
       "4              0             0             0             0             0  \n",
       "\n",
       "[5 rows x 3815 columns]"
      ]
     },
     "execution_count": 72,
     "metadata": {},
     "output_type": "execute_result"
    }
   ],
   "source": [
    "tbl.head(5)"
   ]
  },
  {
   "cell_type": "code",
   "execution_count": null,
   "metadata": {
    "id": "36ulsojKrW4K",
    "outputId": "5a4f00bb-81c5-4d67-b57a-62ef0a8d9698"
   },
   "outputs": [
    {
     "data": {
      "text/plain": [
       "(3815, 1)"
      ]
     },
     "execution_count": 73,
     "metadata": {},
     "output_type": "execute_result"
    },
    {
     "data": {
      "image/png": "[encoded data removed]",
      "text/plain": [
       "<Figure size 432x288 with 1 Axes>"
      ]
     },
     "metadata": {
      "needs_background": "light"
     },
     "output_type": "display_data"
    }
   ],
   "source": [
    "def read_features(ID, desired_size = (3815,1), alpha = 0.5):\n",
    "    try:    \n",
    "        if alpha < 0.3:\n",
    "            row = tbl.loc[ID,:]\n",
    "            row[row < 5] = 0\n",
    "            row = np.log1p(np.log1p(np.sqrt(row)))\n",
    "#             row = np.log1p(row)\n",
    "            row = np.expand_dims(row, axis = -1)            \n",
    "        else:  \n",
    "            row = tbl.loc[ID,:]\n",
    "            row[row < 5] = 0\n",
    "            row = np.log1p(np.log1p(np.sqrt(row)))\n",
    "#             row = np.log1p(row)\n",
    "            row = np.expand_dims(row, axis = -1)\n",
    "    except:\n",
    "        row = np.zeros(desired_size)        \n",
    "    return row\n",
    "\n",
    "a = read_features(30, (3815,1), 0.8)\n",
    "plt.plot(a)\n",
    "a.shape"
   ]
  },
  {
   "cell_type": "code",
   "execution_count": null,
   "metadata": {
    "id": "asQ_s-jQrW4M",
    "outputId": "6754f562-3dab-4fea-d0a3-6125c53d7824"
   },
   "outputs": [
    {
     "data": {
      "text/plain": [
       "(6604, 13)"
      ]
     },
     "execution_count": 76,
     "metadata": {},
     "output_type": "execute_result"
    }
   ],
   "source": [
    "gt_path='.../test_label_13.csv'\n",
    "gt = pd.read_csv(gt_path)\n",
    "gt = gt.set_index('ID')\n",
    "gt.shape"
   ]
  },
  {
   "cell_type": "code",
   "execution_count": null,
   "metadata": {
    "id": "Dl0nJ3TzrW4N",
    "outputId": "4a7344e4-95e3-43cb-86cc-0cca6620cfd1"
   },
   "outputs": [
    {
     "data": {
      "text/plain": [
       "(13,)"
      ]
     },
     "execution_count": 77,
     "metadata": {},
     "output_type": "execute_result"
    }
   ],
   "source": [
    "def read_gt(ID, desired_size = (13,1)):\n",
    "    try:\n",
    "        row = gt.loc[ID,:]\n",
    "#         row = np.expand_dim(row, axis = -1)\n",
    "    except:\n",
    "        row = np.zeros(desired_size)  \n",
    "    \n",
    "    return row\n",
    "a = read_gt(4242, (13,1))\n",
    "a.shape"
   ]
  },
  {
   "cell_type": "code",
   "execution_count": null,
   "metadata": {
    "id": "m4M6kzf_rW4P"
   },
   "outputs": [],
   "source": [
    "class DataGenerator(Sequence):\n",
    "    'Generates data for Keras'\n",
    "    def __init__(self, list_IDs, batch_size=64, dim=tbl.shape[1], n_channels=1,\n",
    "                     augment =False, shuffle=True):\n",
    "        'Initialization'\n",
    "        self.dim = dim\n",
    "        self.batch_size = batch_size\n",
    "        self.list_IDs = list_IDs\n",
    "        self.n_channels = n_channels\n",
    "        self.shuffle = shuffle\n",
    "        self.augment = augment\n",
    "        self.on_epoch_end()\n",
    "        \n",
    "    def __len__(self):\n",
    "        'Denotes the number of batches per epoch'\n",
    "        return int(np.floor(len(self.list_IDs) / self.batch_size))\n",
    "    \n",
    "    def __getitem__(self, index):\n",
    "        'Generate one batch of data'\n",
    "        # Generate indexes of the batch\n",
    "        indexes = self.indexes[index*self.batch_size:(index+1)*self.batch_size]\n",
    "\n",
    "        # Find list of IDs\n",
    "        list_IDs_temp = [self.list_IDs[k] for k in indexes]\n",
    "\n",
    "        # Generate data\n",
    "        X, y = self.__data_generation(list_IDs_temp)\n",
    "\n",
    "        return X, y   \n",
    "    \n",
    "    def on_epoch_end(self):\n",
    "        'Updates indexes after each epoch'\n",
    "        self.indexes = np.arange(len(self.list_IDs))\n",
    "        if self.shuffle == True:\n",
    "            np.random.shuffle(self.indexes)\n",
    "            \n",
    "    def __data_generation(self, list_IDs_temp):\n",
    "        'Generates data containing batch_size samples' # X : (n_samples, *dim, n_channels)\n",
    "        # Initialization\n",
    "        X = np.empty((self.batch_size, self.dim, self.n_channels))\n",
    "        y = np.empty((self.batch_size, 13), dtype=np.float32)\n",
    "\n",
    "        # Generate data\n",
    "        for i, ID in enumerate(list_IDs_temp):\n",
    "            # Store sample\n",
    "            if self.augment:\n",
    "                alpha = np.random.uniform(0,1)\n",
    "            else:\n",
    "                alpha = 0.5\n",
    "            XXX = read_features(ID, alpha=alpha)\n",
    "            X[i,] = XXX\n",
    "\n",
    "            y[i,] = read_gt(ID)\n",
    "\n",
    "        return X, y"
   ]
  },
  {
   "cell_type": "code",
   "execution_count": null,
   "metadata": {
    "id": "EBtBhxv5rW4Q",
    "outputId": "a3f4d995-af52-41f3-8d76-6d526720d346"
   },
   "outputs": [
    {
     "name": "stdout",
     "output_type": "stream",
     "text": [
      "Model: \"sequential_9\"\n",
      "_________________________________________________________________\n",
      "Layer (type)                 Output Shape              Param #   \n",
      "=================================================================\n",
      "conv1d_54 (Conv1D)           (None, 3811, 64)          384       \n",
      "_________________________________________________________________\n",
      "batch_normalization_54 (Batc (None, 3811, 64)          256       \n",
      "_________________________________________________________________\n",
      "max_pooling1d_45 (MaxPooling (None, 1905, 64)          0         \n",
      "_________________________________________________________________\n",
      "conv1d_55 (Conv1D)           (None, 1903, 64)          12352     \n",
      "_________________________________________________________________\n",
      "batch_normalization_55 (Batc (None, 1903, 64)          256       \n",
      "_________________________________________________________________\n",
      "max_pooling1d_46 (MaxPooling (None, 951, 64)           0         \n",
      "_________________________________________________________________\n",
      "conv1d_56 (Conv1D)           (None, 949, 64)           12352     \n",
      "_________________________________________________________________\n",
      "batch_normalization_56 (Batc (None, 949, 64)           256       \n",
      "_________________________________________________________________\n",
      "max_pooling1d_47 (MaxPooling (None, 474, 64)           0         \n",
      "_________________________________________________________________\n",
      "conv1d_57 (Conv1D)           (None, 472, 64)           12352     \n",
      "_________________________________________________________________\n",
      "batch_normalization_57 (Batc (None, 472, 64)           256       \n",
      "_________________________________________________________________\n",
      "max_pooling1d_48 (MaxPooling (None, 236, 64)           0         \n",
      "_________________________________________________________________\n",
      "conv1d_58 (Conv1D)           (None, 234, 128)          24704     \n",
      "_________________________________________________________________\n",
      "batch_normalization_58 (Batc (None, 234, 128)          512       \n",
      "_________________________________________________________________\n",
      "max_pooling1d_49 (MaxPooling (None, 117, 128)          0         \n",
      "_________________________________________________________________\n",
      "conv1d_59 (Conv1D)           (None, 115, 128)          49280     \n",
      "_________________________________________________________________\n",
      "batch_normalization_59 (Batc (None, 115, 128)          512       \n",
      "_________________________________________________________________\n",
      "flatten_9 (Flatten)          (None, 14720)             0         \n",
      "_________________________________________________________________\n",
      "dropout_9 (Dropout)          (None, 14720)             0         \n",
      "_________________________________________________________________\n",
      "dense_output (Dense)         (None, 13)                191373    \n",
      "=================================================================\n",
      "Total params: 304,845\n",
      "Trainable params: 303,821\n",
      "Non-trainable params: 1,024\n",
      "_________________________________________________________________\n"
     ]
    }
   ],
   "source": [
    "model = keras.Sequential()\n",
    "model.add(Conv1D(filters=64, kernel_size=5, activation = 'relu',input_shape=(tbl.shape[1], 1)))\n",
    "model.add(BatchNormalization())\n",
    "model.add(MaxPooling1D(pool_size=2 ))\n",
    "model.add(Conv1D(filters=64, kernel_size=3, activation='relu'))\n",
    "model.add(BatchNormalization())\n",
    "model.add(MaxPooling1D(pool_size=2 ))\n",
    "model.add(Conv1D(filters=64, kernel_size=3, activation='relu'))\n",
    "model.add(BatchNormalization())\n",
    "model.add(MaxPooling1D(pool_size=2 ))\n",
    "model.add(Conv1D(filters=64, kernel_size=3, activation='relu'))\n",
    "model.add(BatchNormalization())\n",
    "model.add(MaxPooling1D(pool_size=2 ))\n",
    "model.add(Conv1D(filters=128, kernel_size=3, activation='relu'))\n",
    "model.add(BatchNormalization())\n",
    "model.add(MaxPooling1D(pool_size=2 ))\n",
    "model.add(Conv1D(filters=128, kernel_size=3, activation='relu'))\n",
    "model.add(BatchNormalization())\n",
    "model.add(Flatten())\n",
    "model.add(Dropout(0.25))\n",
    "# model.add(Dense(256, activation='relu'))\n",
    "model.add(Dense(13, activation=\"sigmoid\", name='dense_output'))\n",
    "\n",
    "model.summary()"
   ]
  },
  {
   "cell_type": "code",
   "execution_count": null,
   "metadata": {
    "id": "ZbGoKlydrW4Q"
   },
   "outputs": [],
   "source": [
    "model.load_weights('.../model/model_deeper_bg_13.hdf5') #_noise.hdf5"
   ]
  },
  {
   "cell_type": "code",
   "execution_count": null,
   "metadata": {
    "id": "9U4luILdrW4R",
    "outputId": "d6e9f6c5-32b6-4f92-dd3a-aa9f975fb8e2"
   },
   "outputs": [
    {
     "name": "stdout",
     "output_type": "stream",
     "text": [
      "(1320, 3815) (5284, 3815)\n"
     ]
    }
   ],
   "source": [
    "from sklearn.model_selection import train_test_split\n",
    "X_train, X_test, y_train, y_test = train_test_split(tbl, gt, test_size=0.80, random_state=42)\n",
    "\n",
    "print(X_train.shape, X_test.shape)"
   ]
  },
  {
   "cell_type": "code",
   "execution_count": null,
   "metadata": {
    "id": "D9YF7frKrW4R"
   },
   "outputs": [],
   "source": [
    "train_generator = DataGenerator(X_train.index, 1, X_train.shape[1], 1, shuffle=False)\n",
    "r_train = model.predict_generator(train_generator)"
   ]
  },
  {
   "cell_type": "code",
   "execution_count": null,
   "metadata": {
    "id": "j4AxgBh8rW4R"
   },
   "outputs": [],
   "source": [
    "test_generator = DataGenerator(X_test.index, 1, X_test.shape[1], 1, shuffle=False)\n",
    "r_test = model.predict_generator(test_generator)"
   ]
  },
  {
   "cell_type": "code",
   "execution_count": null,
   "metadata": {
    "id": "dmj0riTCrW4S",
    "outputId": "d0e7f489-8985-46cd-9da2-abed746dbf68"
   },
   "outputs": [
    {
     "data": {
      "text/plain": [
       "(13,)"
      ]
     },
     "execution_count": 91,
     "metadata": {},
     "output_type": "execute_result"
    }
   ],
   "source": [
    "classes = gt.columns\n",
    "classes.shape"
   ]
  },
  {
   "cell_type": "code",
   "execution_count": null,
   "metadata": {
    "id": "A86BmC2PrW4T"
   },
   "outputs": [],
   "source": [
    "Acc = []\n",
    "pre = []\n",
    "f1 = []\n",
    "recall = []"
   ]
  },
  {
   "cell_type": "code",
   "execution_count": 1,
   "metadata": {
    "id": "NWGnoVVqrW4U"
   },
   "outputs": [],
   "source": [
    "from sklearn.metrics import classification_report, confusion_matrix\n",
    "for i in range(13):\n",
    "    ex = classes[i]\n",
    "    result_test = (r_test > f1_max[i])*1.0  \n",
    "    print('{}_acc: {}'.format(ex, accuracy_score(result_test[:,i], y_test[classes[i]])))\n",
    "    Acc.append( accuracy_score(result_test[:,i], y_test[classes[i]]))\n",
    "    print('{}_preci: {}'.format(ex, precision_score(result_test[:,i], y_test[classes[i]])))\n",
    "    pre.append( precision_score(result_test[:,i], y_test[classes[i]]))\n",
    "    print('{}_f1: {}'.format(ex, f1_score(result_test[:,i], y_test[classes[i]])))\n",
    "    f1.append( f1_score(result_test[:,i], y_test[classes[i]]))\n",
    "    print('{}_recall: {}'.format(ex, recall_score(result_test[:,i], y_test[classes[i]])))\n",
    "    recall.append( recall_score(result_test[:,i], y_test[classes[i]]))\n",
    "    print(classification_report(y_test[classes[i]], result_test[:,i]))\n",
    "    print('************************************')"
   ]
  },
  {
   "cell_type": "code",
   "execution_count": null,
   "metadata": {
    "id": "fQMQq8HJrW4U"
   },
   "outputs": [],
   "source": [
    "# evaluate the results\n",
    "coms = gt.drop_duplicates()"
   ]
  },
  {
   "cell_type": "code",
   "execution_count": null,
   "metadata": {
    "id": "vq6JT-qDrW4U"
   },
   "outputs": [],
   "source": [
    "# all training and testing together\n",
    "t_generator = DataGenerator(tbl.index, 1, tbl.shape[1], 1, shuffle=False)\n",
    "r_train = model.predict_generator(t_generator)"
   ]
  },
  {
   "cell_type": "code",
   "execution_count": 2,
   "metadata": {
    "id": "vXvfk5EcrW4U"
   },
   "outputs": [],
   "source": [
    "from sklearn.metrics import classification_report, confusion_matrix\n",
    "for i in range(13):\n",
    "    ex = classes[i]\n",
    "    result_test = (r_train > f1_max[i])*1.0  \n",
    "    print('{}_acc: {}'.format(ex, accuracy_score(result_test[:,i], gt[classes[i]])))\n",
    "    Acc.append( accuracy_score(result_test[:,i], gt[classes[i]]))\n",
    "    print('{}_preci: {}'.format(ex, precision_score(result_test[:,i], gt[classes[i]])))\n",
    "    pre.append( precision_score(result_test[:,i], gt[classes[i]]))\n",
    "    print('{}_f1: {}'.format(ex, f1_score(result_test[:,i], gt[classes[i]])))\n",
    "    f1.append( f1_score(result_test[:,i], gt[classes[i]]))\n",
    "    print('{}_recall: {}'.format(ex, recall_score(result_test[:,i], gt[classes[i]])))\n",
    "    recall.append( recall_score(result_test[:,i], gt[classes[i]]))\n",
    "    print(classification_report(gt[classes[i]], result_test[:,i]))\n",
    "    print('************************************')"
   ]
  },
  {
   "cell_type": "code",
   "execution_count": null,
   "metadata": {
    "id": "dMokISxrrW4X",
    "outputId": "795729b0-ec92-4cde-e8c3-3723d7e24606"
   },
   "outputs": [
    {
     "data": {
      "text/plain": [
       "(6604, 11)"
      ]
     },
     "execution_count": 24,
     "metadata": {},
     "output_type": "execute_result"
    }
   ],
   "source": [
    "result = (r>0.05)*1.0                     \n",
    "result.shape"
   ]
  },
  {
   "cell_type": "code",
   "execution_count": null,
   "metadata": {
    "id": "J2VyKl5DrW4X",
    "outputId": "9a931b67-5a92-4902-fa69-9a55317ba08f"
   },
   "outputs": [
    {
     "data": {
      "text/plain": [
       "(6604, 11)"
      ]
     },
     "execution_count": 25,
     "metadata": {},
     "output_type": "execute_result"
    }
   ],
   "source": [
    "gt.shape"
   ]
  },
  {
   "cell_type": "code",
   "execution_count": 3,
   "metadata": {
    "id": "19uckWafrW4X"
   },
   "outputs": [],
   "source": [
    "from sklearn.metrics import classification_report, confusion_matrix\n",
    "print('Classification Report')\n",
    "print(classification_report(gt['Chromate'], result[:,-2]))"
   ]
  },
  {
   "cell_type": "code",
   "execution_count": null,
   "metadata": {
    "id": "eCb6iv7RrW4X",
    "outputId": "d98b248c-8a7c-419a-d6b6-026956cea341"
   },
   "outputs": [
    {
     "data": {
      "text/plain": [
       "(11,)"
      ]
     },
     "execution_count": 27,
     "metadata": {},
     "output_type": "execute_result"
    }
   ],
   "source": [
    "classes = gt.columns\n",
    "classes.shape"
   ]
  },
  {
   "cell_type": "code",
   "execution_count": null,
   "metadata": {
    "id": "QM4EkPborW4Y"
   },
   "outputs": [],
   "source": [
    "Acc = []\n",
    "pre = []\n",
    "f1 = []\n",
    "recall = []"
   ]
  },
  {
   "cell_type": "code",
   "execution_count": 4,
   "metadata": {
    "id": "4cgWRCTzrW4Y"
   },
   "outputs": [],
   "source": [
    "from sklearn.metrics import accuracy_score, precision_score, f1_score, recall_score\n",
    "\n",
    "for i in range(11):\n",
    "    ex = classes[i]\n",
    "    print('{}_acc: {}'.format(ex, accuracy_score(result[:,i], gt[classes[i]])))\n",
    "    Acc.append( accuracy_score(result[:,i], gt[classes[i]]))\n",
    "    print('{}_preci: {}'.format(ex, precision_score(result[:,i], gt[classes[i]])))\n",
    "    pre.append( precision_score(result[:,i], gt[classes[i]]))\n",
    "    print('{}_f1: {}'.format(ex, f1_score(result[:,i], gt[classes[i]])))\n",
    "    f1.append( f1_score(result[:,i], gt[classes[i]]))\n",
    "    print('{}_recall: {}'.format(ex, recall_score(result[:,i], gt[classes[i]])))\n",
    "    recall.append( recall_score(result[:,i], gt[classes[i]]))\n",
    "    print(classification_report(gt[classes[i]], result[:,i]))\n",
    "    print('************************************')"
   ]
  },
  {
   "cell_type": "markdown",
   "metadata": {
    "id": "5cXT6EobrW4Z"
   },
   "source": [
    "# Visualizations"
   ]
  },
  {
   "cell_type": "code",
   "execution_count": null,
   "metadata": {
    "id": "MLKV8h0QrW4a",
    "outputId": "59646676-83fe-4ca1-a64e-99484ca4f147"
   },
   "outputs": [
    {
     "data": {
      "image/png": "[encoded data removed]",
      "text/plain": [
       "<Figure size 432x288 with 1 Axes>"
      ]
     },
     "metadata": {
      "needs_background": "light"
     },
     "output_type": "display_data"
    }
   ],
   "source": [
    "IIDD = 999\n",
    "\n",
    "a = read_features(IIDD, (4096,1), 0.5)  # 8000\n",
    "plt.plot(a)\n",
    "a.shape\n",
    "a = np.expand_dims(a, axis = 0)"
   ]
  },
  {
   "cell_type": "code",
   "execution_count": null,
   "metadata": {
    "id": "IjIjb_oErW4b"
   },
   "outputs": [],
   "source": [
    "res_a = model.predict(a)"
   ]
  },
  {
   "cell_type": "code",
   "execution_count": null,
   "metadata": {
    "id": "IZcjwjsTrW4b",
    "outputId": "15b6711b-ff71-4bee-bd0b-040d62f59849"
   },
   "outputs": [
    {
     "data": {
      "text/plain": [
       "array([[3.4183264e-05, 9.9981350e-01, 2.1219254e-05, 1.2906492e-03,\n",
       "        2.3272336e-03, 2.0205975e-05, 1.4901161e-07, 6.7800283e-05,\n",
       "        9.3315521e-06, 9.3107885e-01, 5.4375295e-02]], dtype=float32)"
      ]
     },
     "execution_count": 33,
     "metadata": {},
     "output_type": "execute_result"
    }
   ],
   "source": [
    "res_a"
   ]
  },
  {
   "cell_type": "code",
   "execution_count": null,
   "metadata": {
    "id": "VqEAmOhtrW4b",
    "outputId": "2967d880-0d45-42f4-9743-1479890be22d"
   },
   "outputs": [
    {
     "data": {
      "text/plain": [
       "Cadmium yellow      0\n",
       "Cobalt blue         1\n",
       "Emerald green       0\n",
       "Iron oxide          0\n",
       "Prussian blue       0\n",
       "SnO1                0\n",
       "Ultramarine blue    0\n",
       "Vermilion           0\n",
       "ZnO                 0\n",
       "Chromate            1\n",
       "Lead                0\n",
       "Name: 999, dtype: int64"
      ]
     },
     "execution_count": 34,
     "metadata": {},
     "output_type": "execute_result"
    }
   ],
   "source": [
    "gt_a = read_gt(IIDD, (13,1))\n",
    "gt_a"
   ]
  },
  {
   "cell_type": "code",
   "execution_count": null,
   "metadata": {
    "id": "uolwF4O8rW4b",
    "outputId": "37960279-ce4b-471a-fd5c-d6d43b079bc4"
   },
   "outputs": [
    {
     "name": "stdout",
     "output_type": "stream",
     "text": [
      "1\n"
     ]
    }
   ],
   "source": [
    "target_class = np.argmax(res_a)\n",
    "# target_class = 6\n",
    "print(target_class)"
   ]
  },
  {
   "cell_type": "code",
   "execution_count": null,
   "metadata": {
    "id": "BTKbvIr8rW4c",
    "outputId": "7f71db74-652a-4c1d-fa0a-82211912ab08"
   },
   "outputs": [
    {
     "name": "stderr",
     "output_type": "stream",
     "text": [
      "WARNING: Logging before flag parsing goes to stderr.\n",
      "W1010 14:54:49.555972 140280867051328 base_layer.py:1814] Layer conv1d is casting an input tensor from dtype float64 to the layer's dtype of float32, which is new behavior in TensorFlow 2.  The layer has dtype float32 because it's dtype defaults to floatx.\n",
      "\n",
      "If you intended to run this layer in float32, you can safely ignore this warning. If in doubt, this warning is likely only an issue if you are porting a TensorFlow 1.X model to TensorFlow 2.\n",
      "\n",
      "To change all layers to have dtype float64 by default, call `tf.keras.backend.set_floatx('float64')`. To change just this layer, pass dtype='float64' to the layer constructor. If you are the author of this layer, you can disable autocasting by passing autocast=False to the base Layer constructor.\n",
      "\n"
     ]
    }
   ],
   "source": [
    "last_conv = model.get_layer('conv1d_5') \n",
    "grad_model = tf.keras.models.Model([model.inputs], [last_conv.output, model.output])\n",
    "\n",
    "with tf.GradientTape() as tape:\n",
    "    conv_outputs, predictions = grad_model(a)\n",
    "    #get activations maps + predictions from last conv layer\n",
    "    loss = predictions[:, target_class] \n",
    "    # the variable loss gets the probability of belonging to the defined class (the predicted class on the model output)"
   ]
  },
  {
   "cell_type": "code",
   "execution_count": null,
   "metadata": {
    "id": "iCPGmoUsrW4c",
    "outputId": "8e593594-0d73-452d-a025-a863f9013860"
   },
   "outputs": [
    {
     "name": "stdout",
     "output_type": "stream",
     "text": [
      "grads shape: (1, 115, 128)\n",
      "Model output (loss for the target class): (1,)\n",
      "Output froom lat conv layer (1, 115, 128)\n"
     ]
    }
   ],
   "source": [
    "output = conv_outputs[0] #activations maps from last conv layer\n",
    "grads = tape.gradient(loss, conv_outputs) #function to obtain gradients from last conv layer\n",
    "\n",
    "print(\"grads shape:\", grads.shape)\n",
    "print(\"Model output (loss for the target class):\", loss.shape)\n",
    "print(\"Output froom lat conv layer\", conv_outputs.shape)"
   ]
  },
  {
   "cell_type": "code",
   "execution_count": null,
   "metadata": {
    "id": "oyUp7YKLrW4c",
    "outputId": "f3899883-3a86-4128-fe69-d4eb6679db5f"
   },
   "outputs": [
    {
     "name": "stdout",
     "output_type": "stream",
     "text": [
      "(1, 115, 128)\n"
     ]
    },
    {
     "data": {
      "text/plain": [
       "<matplotlib.colorbar.Colorbar at 0x7f95680c64a8>"
      ]
     },
     "execution_count": 39,
     "metadata": {},
     "output_type": "execute_result"
    },
    {
     "data": {
      "image/png": "[encoded data removed]",
      "text/plain": [
       "<Figure size 432x288 with 2 Axes>"
      ]
     },
     "metadata": {
      "needs_background": "light"
     },
     "output_type": "display_data"
    }
   ],
   "source": [
    "# Apply guided backpropagation\n",
    "guided_grads = tf.cast(output > 0, 'float32') * tf.cast(grads > 0, 'float32') * grads\n",
    "\n",
    "print(guided_grads.shape)\n",
    "guide_grads_example = guided_grads[:,0,:]\n",
    "# print(guide_grads_example.shape)\n",
    "guide_grads_example = np.squeeze(guide_grads_example, 0)\n",
    "# plt.plot(np.squeeze(guide_grads_example, 0)) \n",
    "plt.show() \n",
    "\n",
    "guided_grads_image = [guide_grads_example,guide_grads_example,guide_grads_example, guide_grads_example,guide_grads_example,\n",
    "                        guide_grads_example,guide_grads_example,guide_grads_example, guide_grads_example,guide_grads_example,\n",
    "                        guide_grads_example,guide_grads_example,guide_grads_example, guide_grads_example,guide_grads_example]\n",
    "plt.imshow(guided_grads_image) # vmin=-1, vmax=1) #cmap='gray\n",
    "plt.colorbar()"
   ]
  },
  {
   "cell_type": "code",
   "execution_count": null,
   "metadata": {
    "id": "YBZLDKuArW4d",
    "outputId": "817f0aa0-9914-4dc6-ac6e-e2271baf9c81"
   },
   "outputs": [
    {
     "name": "stdout",
     "output_type": "stream",
     "text": [
      "min 5.007614e-08\n",
      "max 3.1187792e-06\n"
     ]
    },
    {
     "data": {
      "text/plain": [
       "<tf.Tensor: id=7216787, shape=(128,), dtype=float32, numpy=\n",
       "array([4.9864786e-07, 3.5013048e-07, 3.2603003e-07, 3.1187792e-06,\n",
       "       3.3758730e-07, 1.2311391e-07, 1.2057940e-06, 2.8222752e-07,\n",
       "       4.4143786e-07, 1.2784071e-06, 2.5266577e-06, 4.1653215e-07,\n",
       "       2.0722698e-06, 2.7749634e-06, 2.2880085e-06, 5.7447681e-07,\n",
       "       1.5671886e-06, 2.0134191e-06, 1.2079389e-06, 1.5740779e-06,\n",
       "       1.3533223e-06, 2.2936972e-06, 1.6290826e-06, 4.4328462e-07,\n",
       "       1.6236883e-06, 4.1790068e-07, 4.2872412e-07, 4.0273059e-07,\n",
       "       1.2660421e-07, 6.5051017e-07, 9.8813109e-07, 1.7455010e-06,\n",
       "       1.8569689e-06, 1.6642780e-06, 3.2992958e-07, 2.5294635e-06,\n",
       "       8.9993136e-07, 1.8977787e-06, 3.6397950e-07, 3.1205232e-07,\n",
       "       4.9701117e-07, 1.6564221e-06, 2.6670634e-06, 4.5250630e-07,\n",
       "       2.2240590e-06, 1.2891524e-06, 3.6597345e-07, 1.8575265e-06,\n",
       "       3.1087885e-07, 1.3830788e-06, 7.7100435e-07, 7.0738139e-07,\n",
       "       2.4724427e-06, 5.2528446e-07, 4.2561857e-07, 1.9521940e-06,\n",
       "       1.4294790e-06, 1.0566330e-06, 2.0201035e-06, 1.6788245e-07,\n",
       "       5.9594117e-07, 2.5507240e-06, 1.3750054e-06, 2.7009123e-06,\n",
       "       6.9865439e-07, 1.1176332e-06, 1.4905421e-06, 1.0735362e-06,\n",
       "       6.3785961e-07, 2.3911110e-07, 6.3580529e-07, 2.3156961e-06,\n",
       "       1.7455443e-06, 2.8877089e-06, 1.9084207e-06, 2.2521849e-06,\n",
       "       1.6428165e-06, 1.0655431e-06, 1.3567075e-06, 3.6312957e-07,\n",
       "       2.1149300e-07, 1.2994096e-06, 1.7791837e-06, 3.5749679e-07,\n",
       "       1.9949666e-06, 4.8152322e-07, 1.5628648e-06, 1.3383661e-06,\n",
       "       4.2254788e-07, 7.1465956e-07, 3.7479472e-07, 1.4111523e-06,\n",
       "       1.8734158e-06, 1.3604173e-06, 1.7745425e-06, 4.0673578e-07,\n",
       "       5.2170026e-07, 1.0888573e-06, 6.1895923e-07, 5.0076139e-08,\n",
       "       1.5871772e-06, 5.9609289e-07, 4.1001704e-07, 2.5199009e-07,\n",
       "       1.8497059e-06, 1.2973213e-06, 2.4132846e-06, 3.3677566e-07,\n",
       "       1.3242075e-06, 1.9748002e-06, 9.0218128e-07, 2.0520704e-06,\n",
       "       1.4753242e-06, 1.6919161e-06, 5.2306115e-07, 3.2013619e-07,\n",
       "       1.0606331e-06, 3.1829288e-07, 2.1043218e-06, 5.2487940e-07,\n",
       "       2.6675963e-07, 1.9295223e-06, 2.3073352e-07, 2.1552794e-06,\n",
       "       1.0562865e-06, 1.7738175e-06, 8.5902718e-07, 1.4555741e-06],\n",
       "      dtype=float32)>"
      ]
     },
     "execution_count": 40,
     "metadata": {},
     "output_type": "execute_result"
    }
   ],
   "source": [
    "weights = tf.reduce_mean(guided_grads, axis=(0,1))\n",
    "#print(\"weights shape\", weights.shape) \n",
    "print(\"min\", np.min(weights))\n",
    "print(\"max\", np.max(weights))\n",
    "\n",
    "#plt.plot(weights) \n",
    "#plt.show() \n",
    "\n",
    "#Weight of each filter in the conv layer \n",
    "weights"
   ]
  },
  {
   "cell_type": "code",
   "execution_count": null,
   "metadata": {
    "id": "CsbKGNkyrW4d",
    "outputId": "f61cd480-14b4-42e6-bdff-9a38cc3f1455"
   },
   "outputs": [
    {
     "name": "stdout",
     "output_type": "stream",
     "text": [
      "min 1.000030380779208\n",
      "max 1.000111846042273\n"
     ]
    },
    {
     "data": {
      "image/png": "[encoded data removed]",
      "text/plain": [
       "<Figure size 432x288 with 1 Axes>"
      ]
     },
     "metadata": {
      "needs_background": "light"
     },
     "output_type": "display_data"
    },
    {
     "data": {
      "text/plain": [
       "<matplotlib.colorbar.Colorbar at 0x7f95680463c8>"
      ]
     },
     "execution_count": 41,
     "metadata": {},
     "output_type": "execute_result"
    },
    {
     "data": {
      "image/png": "[encoded data removed]",
      "text/plain": [
       "<Figure size 432x288 with 2 Axes>"
      ]
     },
     "metadata": {
      "needs_background": "light"
     },
     "output_type": "display_data"
    }
   ],
   "source": [
    "cam = np.zeros(output.shape[0], dtype = np.float128)\n",
    "cam\n",
    "# print(cam.shape)\n",
    "for i, w in enumerate(weights):\n",
    "#     print(w)\n",
    "    cam += w * output[:, i]\n",
    "#     print(cam)\n",
    "    \n",
    "print(\"min\", np.min(cam) + 1.0)\n",
    "print(\"max\", np.max(cam) + 1.0)\n",
    "\n",
    "plt.plot(cam) \n",
    "plt.show() \n",
    "\n",
    "cam_image = [cam,cam,cam,cam,cam,\n",
    "            cam,cam,cam,cam,cam,\n",
    "             cam,cam,cam,cam,cam]\n",
    "plt.imshow(cam_image) # vmin=-1, vmax=1) #cmap='gray\n",
    "plt.colorbar()"
   ]
  },
  {
   "cell_type": "code",
   "execution_count": null,
   "metadata": {
    "id": "JvuGwcCGrW4d",
    "outputId": "93be1882-ec38-4089-d646-ee007a8d9caf"
   },
   "outputs": [
    {
     "data": {
      "image/png": "[encoded data removed]",
      "text/plain": [
       "<Figure size 432x288 with 1 Axes>"
      ]
     },
     "metadata": {
      "needs_background": "light"
     },
     "output_type": "display_data"
    },
    {
     "data": {
      "image/png": "[encoded data removed]",
      "text/plain": [
       "<Figure size 432x288 with 2 Axes>"
      ]
     },
     "metadata": {
      "needs_background": "light"
     },
     "output_type": "display_data"
    }
   ],
   "source": [
    "cam = np.maximum(cam, 0)\n",
    "cam = (cam - cam.min()) / (cam.max() - cam.min())\n",
    "\n",
    "plt.plot(cam) \n",
    "plt.show()\n",
    "\n",
    "cam_image = [cam,cam,cam,cam,cam,\n",
    "            cam,cam,cam,cam,cam,\n",
    "             cam,cam,cam,cam,cam]\n",
    "plt.imshow(cam_image) \n",
    "plt.colorbar()\n",
    "plt.show()\n",
    "\n",
    "# b =  signal.resample(a[0,:,0], 128)\n",
    "# b.shape\n",
    "\n",
    "# plt.plot(b)\n",
    "# plt.plot(cam, c = 'red')"
   ]
  },
  {
   "cell_type": "code",
   "execution_count": null,
   "metadata": {
    "id": "sodFn-mwrW4d",
    "outputId": "2635055c-3d85-4136-94f9-e22a01f8af9d"
   },
   "outputs": [
    {
     "data": {
      "text/plain": [
       "(1, 3815, 1)"
      ]
     },
     "execution_count": 43,
     "metadata": {},
     "output_type": "execute_result"
    }
   ],
   "source": [
    "a.shape"
   ]
  },
  {
   "cell_type": "code",
   "execution_count": null,
   "metadata": {
    "id": "T-fjjHodrW4e",
    "outputId": "cbd29f17-cf51-4e26-b9ec-eb3250fe3558"
   },
   "outputs": [
    {
     "data": {
      "text/plain": [
       "[<matplotlib.lines.Line2D at 0x7f956a8c0390>]"
      ]
     },
     "execution_count": 44,
     "metadata": {},
     "output_type": "execute_result"
    },
    {
     "data": {
      "image/png": "[encoded data removed]",
      "text/plain": [
       "<Figure size 432x288 with 1 Axes>"
      ]
     },
     "metadata": {
      "needs_background": "light"
     },
     "output_type": "display_data"
    }
   ],
   "source": [
    "from scipy import signal\n",
    "f = signal.resample(cam, 4096)\n",
    "plt.plot(a[0,:,0])\n",
    "plt.plot(f, c = 'red')"
   ]
  },
  {
   "cell_type": "code",
   "execution_count": null,
   "metadata": {
    "id": "mcdko-x9rW4e",
    "outputId": "f0929d7b-1e5d-4137-9213-dc7031096fd1"
   },
   "outputs": [
    {
     "data": {
      "text/plain": [
       "[<matplotlib.lines.Line2D at 0x7f94954a31d0>]"
      ]
     },
     "execution_count": 45,
     "metadata": {},
     "output_type": "execute_result"
    },
    {
     "data": {
      "image/png": "[encoded data removed]",
      "text/plain": [
       "<Figure size 432x288 with 1 Axes>"
      ]
     },
     "metadata": {
      "needs_background": "light"
     },
     "output_type": "display_data"
    }
   ],
   "source": [
    "from scipy import signal\n",
    "f = signal.resample(cam, 4096)\n",
    "plt.plot(a[0,:,0])\n",
    "plt.plot(f, c = 'red')"
   ]
  },
  {
   "cell_type": "code",
   "execution_count": null,
   "metadata": {
    "id": "KtxONIkkrW4e",
    "outputId": "1f6bb99f-9000-4d90-8976-cbbaf4d6b39c"
   },
   "outputs": [
    {
     "data": {
      "text/plain": [
       "TensorShape([128])"
      ]
     },
     "execution_count": 39,
     "metadata": {},
     "output_type": "execute_result"
    }
   ],
   "source": [
    "# # try\n",
    "# pooled_grads = tf.reduce_mean(grads, axis = (0, 1))\n",
    "# pooled_grads.shape\n",
    "\n",
    "# conv_outputs_reduce = conv_outputs[0]\n",
    "# heatmap = conv_outputs_reduce @ pooled_grads[..., tf.newaxis]\n",
    "# heatmap = tf.squeeze(heatmap)\n",
    "# heatmap = tf.maximum(heatmap, 0) / tf.math.reduce_max(heatmap)\n",
    "\n",
    "# print(heatmap.shape)\n",
    "# # heatmap = tf.squeeze(heatmap)\n",
    "\n",
    "# Activation_map_image = [heatmap, heatmap, heatmap, heatmap, heatmap, heatmap, heatmap,\n",
    "#                        heatmap, heatmap,heatmap, heatmap, heatmap, heatmap, heatmap, heatmap]\n",
    "# plt.imshow(Activation_map_image) # vmin=-1, vmax=1) #cmap='gray\n",
    "# plt.colorbar()\n",
    "\n",
    "# from scipy import signal\n",
    "# b =  signal.resample(a[0,:,0], 128)\n",
    "# b.shape\n",
    "\n",
    "# plt.plot(b)\n",
    "# plt.plot(heatmap, c = 'red')"
   ]
  },
  {
   "cell_type": "markdown",
   "metadata": {
    "id": "Abb_46c7rW4f"
   },
   "source": [
    "# Mistakes"
   ]
  },
  {
   "cell_type": "code",
   "execution_count": null,
   "metadata": {
    "id": "vzQa2JmtrW4f"
   },
   "outputs": [],
   "source": [
    "predicted = pd.DataFrame(data=result[:,:], index=y_test.index, columns=y_test.columns)  # 1st row as the column names"
   ]
  },
  {
   "cell_type": "code",
   "execution_count": null,
   "metadata": {
    "id": "OJqcjUOurW4f",
    "outputId": "f1798da2-087f-4dd0-bb02-42227e772d29"
   },
   "outputs": [
    {
     "data": {
      "text/plain": [
       "ID\n",
       "4679     True\n",
       "2805     True\n",
       "1683     True\n",
       "862      True\n",
       "14444    True\n",
       "         ... \n",
       "15494    True\n",
       "10083    True\n",
       "8183     True\n",
       "14155    True\n",
       "6339     True\n",
       "Name: Emerald green, Length: 3245, dtype: bool"
      ]
     },
     "execution_count": 79,
     "metadata": {},
     "output_type": "execute_result"
    }
   ],
   "source": [
    "y_test['Emerald green'] == result[:,2]"
   ]
  },
  {
   "cell_type": "code",
   "execution_count": null,
   "metadata": {
    "id": "_gQ-iD7OrW4g"
   },
   "outputs": [],
   "source": [
    "cobalt_blue = y_test['Emerald green'] == result[:,2]"
   ]
  },
  {
   "cell_type": "code",
   "execution_count": null,
   "metadata": {
    "id": "UrpglsB0rW4g",
    "outputId": "85aaab88-8f19-4974-f1e6-13c86e41c83d"
   },
   "outputs": [
    {
     "data": {
      "text/html": [
       "<div>\n",
       "<style scoped>\n",
       "    .dataframe tbody tr th:only-of-type {\n",
       "        vertical-align: middle;\n",
       "    }\n",
       "\n",
       "    .dataframe tbody tr th {\n",
       "        vertical-align: top;\n",
       "    }\n",
       "\n",
       "    .dataframe thead th {\n",
       "        text-align: right;\n",
       "    }\n",
       "</style>\n",
       "<table border=\"1\" class=\"dataframe\">\n",
       "  <thead>\n",
       "    <tr style=\"text-align: right;\">\n",
       "      <th></th>\n",
       "      <th>Cadmium yellow</th>\n",
       "      <th>Cobalt blue</th>\n",
       "      <th>Emerald green</th>\n",
       "      <th>Iron oxide</th>\n",
       "      <th>Prussian blue</th>\n",
       "      <th>SnO1</th>\n",
       "      <th>Ultramarine blue</th>\n",
       "      <th>Vermilion</th>\n",
       "      <th>ZnO</th>\n",
       "      <th>Chromate</th>\n",
       "      <th>Lead</th>\n",
       "    </tr>\n",
       "    <tr>\n",
       "      <th>ID</th>\n",
       "      <th></th>\n",
       "      <th></th>\n",
       "      <th></th>\n",
       "      <th></th>\n",
       "      <th></th>\n",
       "      <th></th>\n",
       "      <th></th>\n",
       "      <th></th>\n",
       "      <th></th>\n",
       "      <th></th>\n",
       "      <th></th>\n",
       "    </tr>\n",
       "  </thead>\n",
       "  <tbody>\n",
       "    <tr>\n",
       "      <th>7747</th>\n",
       "      <td>0.0</td>\n",
       "      <td>0.0</td>\n",
       "      <td>1.0</td>\n",
       "      <td>0.0</td>\n",
       "      <td>0.0</td>\n",
       "      <td>0.0</td>\n",
       "      <td>0.0</td>\n",
       "      <td>1.0</td>\n",
       "      <td>1.0</td>\n",
       "      <td>0.0</td>\n",
       "      <td>0.0</td>\n",
       "    </tr>\n",
       "    <tr>\n",
       "      <th>7283</th>\n",
       "      <td>0.0</td>\n",
       "      <td>0.0</td>\n",
       "      <td>0.0</td>\n",
       "      <td>0.0</td>\n",
       "      <td>0.0</td>\n",
       "      <td>0.0</td>\n",
       "      <td>0.0</td>\n",
       "      <td>1.0</td>\n",
       "      <td>0.0</td>\n",
       "      <td>0.0</td>\n",
       "      <td>0.0</td>\n",
       "    </tr>\n",
       "    <tr>\n",
       "      <th>5561</th>\n",
       "      <td>0.0</td>\n",
       "      <td>0.0</td>\n",
       "      <td>0.0</td>\n",
       "      <td>0.0</td>\n",
       "      <td>0.0</td>\n",
       "      <td>1.0</td>\n",
       "      <td>0.0</td>\n",
       "      <td>0.0</td>\n",
       "      <td>0.0</td>\n",
       "      <td>0.0</td>\n",
       "      <td>0.0</td>\n",
       "    </tr>\n",
       "    <tr>\n",
       "      <th>9886</th>\n",
       "      <td>0.0</td>\n",
       "      <td>0.0</td>\n",
       "      <td>0.0</td>\n",
       "      <td>0.0</td>\n",
       "      <td>0.0</td>\n",
       "      <td>0.0</td>\n",
       "      <td>0.0</td>\n",
       "      <td>0.0</td>\n",
       "      <td>0.0</td>\n",
       "      <td>1.0</td>\n",
       "      <td>0.0</td>\n",
       "    </tr>\n",
       "    <tr>\n",
       "      <th>5562</th>\n",
       "      <td>0.0</td>\n",
       "      <td>0.0</td>\n",
       "      <td>0.0</td>\n",
       "      <td>0.0</td>\n",
       "      <td>0.0</td>\n",
       "      <td>1.0</td>\n",
       "      <td>0.0</td>\n",
       "      <td>0.0</td>\n",
       "      <td>0.0</td>\n",
       "      <td>0.0</td>\n",
       "      <td>0.0</td>\n",
       "    </tr>\n",
       "    <tr>\n",
       "      <th>5556</th>\n",
       "      <td>0.0</td>\n",
       "      <td>0.0</td>\n",
       "      <td>0.0</td>\n",
       "      <td>0.0</td>\n",
       "      <td>0.0</td>\n",
       "      <td>1.0</td>\n",
       "      <td>0.0</td>\n",
       "      <td>0.0</td>\n",
       "      <td>0.0</td>\n",
       "      <td>0.0</td>\n",
       "      <td>0.0</td>\n",
       "    </tr>\n",
       "    <tr>\n",
       "      <th>9864</th>\n",
       "      <td>0.0</td>\n",
       "      <td>0.0</td>\n",
       "      <td>0.0</td>\n",
       "      <td>0.0</td>\n",
       "      <td>1.0</td>\n",
       "      <td>0.0</td>\n",
       "      <td>0.0</td>\n",
       "      <td>0.0</td>\n",
       "      <td>0.0</td>\n",
       "      <td>1.0</td>\n",
       "      <td>0.0</td>\n",
       "    </tr>\n",
       "    <tr>\n",
       "      <th>3804</th>\n",
       "      <td>0.0</td>\n",
       "      <td>0.0</td>\n",
       "      <td>0.0</td>\n",
       "      <td>0.0</td>\n",
       "      <td>0.0</td>\n",
       "      <td>0.0</td>\n",
       "      <td>0.0</td>\n",
       "      <td>0.0</td>\n",
       "      <td>0.0</td>\n",
       "      <td>0.0</td>\n",
       "      <td>1.0</td>\n",
       "    </tr>\n",
       "    <tr>\n",
       "      <th>9875</th>\n",
       "      <td>0.0</td>\n",
       "      <td>0.0</td>\n",
       "      <td>0.0</td>\n",
       "      <td>0.0</td>\n",
       "      <td>0.0</td>\n",
       "      <td>0.0</td>\n",
       "      <td>0.0</td>\n",
       "      <td>0.0</td>\n",
       "      <td>0.0</td>\n",
       "      <td>1.0</td>\n",
       "      <td>0.0</td>\n",
       "    </tr>\n",
       "    <tr>\n",
       "      <th>10648</th>\n",
       "      <td>0.0</td>\n",
       "      <td>0.0</td>\n",
       "      <td>1.0</td>\n",
       "      <td>0.0</td>\n",
       "      <td>0.0</td>\n",
       "      <td>0.0</td>\n",
       "      <td>0.0</td>\n",
       "      <td>0.0</td>\n",
       "      <td>1.0</td>\n",
       "      <td>1.0</td>\n",
       "      <td>0.0</td>\n",
       "    </tr>\n",
       "    <tr>\n",
       "      <th>8624</th>\n",
       "      <td>0.0</td>\n",
       "      <td>0.0</td>\n",
       "      <td>0.0</td>\n",
       "      <td>0.0</td>\n",
       "      <td>0.0</td>\n",
       "      <td>0.0</td>\n",
       "      <td>0.0</td>\n",
       "      <td>0.0</td>\n",
       "      <td>0.0</td>\n",
       "      <td>1.0</td>\n",
       "      <td>0.0</td>\n",
       "    </tr>\n",
       "    <tr>\n",
       "      <th>8620</th>\n",
       "      <td>0.0</td>\n",
       "      <td>0.0</td>\n",
       "      <td>0.0</td>\n",
       "      <td>0.0</td>\n",
       "      <td>0.0</td>\n",
       "      <td>0.0</td>\n",
       "      <td>0.0</td>\n",
       "      <td>0.0</td>\n",
       "      <td>0.0</td>\n",
       "      <td>1.0</td>\n",
       "      <td>0.0</td>\n",
       "    </tr>\n",
       "    <tr>\n",
       "      <th>3827</th>\n",
       "      <td>0.0</td>\n",
       "      <td>0.0</td>\n",
       "      <td>0.0</td>\n",
       "      <td>0.0</td>\n",
       "      <td>0.0</td>\n",
       "      <td>0.0</td>\n",
       "      <td>0.0</td>\n",
       "      <td>0.0</td>\n",
       "      <td>0.0</td>\n",
       "      <td>0.0</td>\n",
       "      <td>1.0</td>\n",
       "    </tr>\n",
       "    <tr>\n",
       "      <th>379</th>\n",
       "      <td>1.0</td>\n",
       "      <td>0.0</td>\n",
       "      <td>0.0</td>\n",
       "      <td>0.0</td>\n",
       "      <td>0.0</td>\n",
       "      <td>0.0</td>\n",
       "      <td>0.0</td>\n",
       "      <td>0.0</td>\n",
       "      <td>0.0</td>\n",
       "      <td>0.0</td>\n",
       "      <td>0.0</td>\n",
       "    </tr>\n",
       "    <tr>\n",
       "      <th>7278</th>\n",
       "      <td>0.0</td>\n",
       "      <td>0.0</td>\n",
       "      <td>0.0</td>\n",
       "      <td>0.0</td>\n",
       "      <td>0.0</td>\n",
       "      <td>0.0</td>\n",
       "      <td>0.0</td>\n",
       "      <td>1.0</td>\n",
       "      <td>0.0</td>\n",
       "      <td>0.0</td>\n",
       "      <td>0.0</td>\n",
       "    </tr>\n",
       "    <tr>\n",
       "      <th>3837</th>\n",
       "      <td>0.0</td>\n",
       "      <td>0.0</td>\n",
       "      <td>0.0</td>\n",
       "      <td>0.0</td>\n",
       "      <td>0.0</td>\n",
       "      <td>0.0</td>\n",
       "      <td>0.0</td>\n",
       "      <td>0.0</td>\n",
       "      <td>0.0</td>\n",
       "      <td>0.0</td>\n",
       "      <td>1.0</td>\n",
       "    </tr>\n",
       "    <tr>\n",
       "      <th>5564</th>\n",
       "      <td>0.0</td>\n",
       "      <td>0.0</td>\n",
       "      <td>0.0</td>\n",
       "      <td>0.0</td>\n",
       "      <td>0.0</td>\n",
       "      <td>1.0</td>\n",
       "      <td>0.0</td>\n",
       "      <td>0.0</td>\n",
       "      <td>0.0</td>\n",
       "      <td>0.0</td>\n",
       "      <td>0.0</td>\n",
       "    </tr>\n",
       "    <tr>\n",
       "      <th>373</th>\n",
       "      <td>1.0</td>\n",
       "      <td>0.0</td>\n",
       "      <td>0.0</td>\n",
       "      <td>0.0</td>\n",
       "      <td>0.0</td>\n",
       "      <td>0.0</td>\n",
       "      <td>0.0</td>\n",
       "      <td>0.0</td>\n",
       "      <td>0.0</td>\n",
       "      <td>0.0</td>\n",
       "      <td>0.0</td>\n",
       "    </tr>\n",
       "    <tr>\n",
       "      <th>13037</th>\n",
       "      <td>0.0</td>\n",
       "      <td>0.0</td>\n",
       "      <td>0.0</td>\n",
       "      <td>0.0</td>\n",
       "      <td>0.0</td>\n",
       "      <td>0.0</td>\n",
       "      <td>0.0</td>\n",
       "      <td>0.0</td>\n",
       "      <td>0.0</td>\n",
       "      <td>0.0</td>\n",
       "      <td>1.0</td>\n",
       "    </tr>\n",
       "    <tr>\n",
       "      <th>13033</th>\n",
       "      <td>0.0</td>\n",
       "      <td>0.0</td>\n",
       "      <td>0.0</td>\n",
       "      <td>0.0</td>\n",
       "      <td>0.0</td>\n",
       "      <td>0.0</td>\n",
       "      <td>0.0</td>\n",
       "      <td>0.0</td>\n",
       "      <td>0.0</td>\n",
       "      <td>0.0</td>\n",
       "      <td>1.0</td>\n",
       "    </tr>\n",
       "    <tr>\n",
       "      <th>3833</th>\n",
       "      <td>0.0</td>\n",
       "      <td>0.0</td>\n",
       "      <td>0.0</td>\n",
       "      <td>0.0</td>\n",
       "      <td>0.0</td>\n",
       "      <td>0.0</td>\n",
       "      <td>0.0</td>\n",
       "      <td>0.0</td>\n",
       "      <td>0.0</td>\n",
       "      <td>0.0</td>\n",
       "      <td>1.0</td>\n",
       "    </tr>\n",
       "    <tr>\n",
       "      <th>13008</th>\n",
       "      <td>0.0</td>\n",
       "      <td>0.0</td>\n",
       "      <td>0.0</td>\n",
       "      <td>0.0</td>\n",
       "      <td>0.0</td>\n",
       "      <td>0.0</td>\n",
       "      <td>0.0</td>\n",
       "      <td>0.0</td>\n",
       "      <td>0.0</td>\n",
       "      <td>0.0</td>\n",
       "      <td>1.0</td>\n",
       "    </tr>\n",
       "    <tr>\n",
       "      <th>7289</th>\n",
       "      <td>0.0</td>\n",
       "      <td>0.0</td>\n",
       "      <td>0.0</td>\n",
       "      <td>1.0</td>\n",
       "      <td>0.0</td>\n",
       "      <td>0.0</td>\n",
       "      <td>0.0</td>\n",
       "      <td>1.0</td>\n",
       "      <td>0.0</td>\n",
       "      <td>0.0</td>\n",
       "      <td>0.0</td>\n",
       "    </tr>\n",
       "    <tr>\n",
       "      <th>5566</th>\n",
       "      <td>0.0</td>\n",
       "      <td>0.0</td>\n",
       "      <td>0.0</td>\n",
       "      <td>0.0</td>\n",
       "      <td>0.0</td>\n",
       "      <td>1.0</td>\n",
       "      <td>0.0</td>\n",
       "      <td>0.0</td>\n",
       "      <td>0.0</td>\n",
       "      <td>0.0</td>\n",
       "      <td>0.0</td>\n",
       "    </tr>\n",
       "    <tr>\n",
       "      <th>381</th>\n",
       "      <td>1.0</td>\n",
       "      <td>0.0</td>\n",
       "      <td>0.0</td>\n",
       "      <td>0.0</td>\n",
       "      <td>0.0</td>\n",
       "      <td>0.0</td>\n",
       "      <td>0.0</td>\n",
       "      <td>0.0</td>\n",
       "      <td>0.0</td>\n",
       "      <td>0.0</td>\n",
       "      <td>0.0</td>\n",
       "    </tr>\n",
       "    <tr>\n",
       "      <th>5563</th>\n",
       "      <td>0.0</td>\n",
       "      <td>0.0</td>\n",
       "      <td>0.0</td>\n",
       "      <td>0.0</td>\n",
       "      <td>0.0</td>\n",
       "      <td>1.0</td>\n",
       "      <td>0.0</td>\n",
       "      <td>0.0</td>\n",
       "      <td>0.0</td>\n",
       "      <td>0.0</td>\n",
       "      <td>0.0</td>\n",
       "    </tr>\n",
       "    <tr>\n",
       "      <th>3813</th>\n",
       "      <td>0.0</td>\n",
       "      <td>0.0</td>\n",
       "      <td>0.0</td>\n",
       "      <td>0.0</td>\n",
       "      <td>0.0</td>\n",
       "      <td>0.0</td>\n",
       "      <td>0.0</td>\n",
       "      <td>0.0</td>\n",
       "      <td>0.0</td>\n",
       "      <td>0.0</td>\n",
       "      <td>1.0</td>\n",
       "    </tr>\n",
       "    <tr>\n",
       "      <th>8759</th>\n",
       "      <td>0.0</td>\n",
       "      <td>0.0</td>\n",
       "      <td>1.0</td>\n",
       "      <td>0.0</td>\n",
       "      <td>0.0</td>\n",
       "      <td>0.0</td>\n",
       "      <td>0.0</td>\n",
       "      <td>0.0</td>\n",
       "      <td>0.0</td>\n",
       "      <td>1.0</td>\n",
       "      <td>0.0</td>\n",
       "    </tr>\n",
       "    <tr>\n",
       "      <th>13045</th>\n",
       "      <td>0.0</td>\n",
       "      <td>0.0</td>\n",
       "      <td>0.0</td>\n",
       "      <td>0.0</td>\n",
       "      <td>0.0</td>\n",
       "      <td>0.0</td>\n",
       "      <td>0.0</td>\n",
       "      <td>0.0</td>\n",
       "      <td>0.0</td>\n",
       "      <td>0.0</td>\n",
       "      <td>1.0</td>\n",
       "    </tr>\n",
       "    <tr>\n",
       "      <th>9880</th>\n",
       "      <td>0.0</td>\n",
       "      <td>0.0</td>\n",
       "      <td>0.0</td>\n",
       "      <td>0.0</td>\n",
       "      <td>0.0</td>\n",
       "      <td>0.0</td>\n",
       "      <td>0.0</td>\n",
       "      <td>0.0</td>\n",
       "      <td>0.0</td>\n",
       "      <td>1.0</td>\n",
       "      <td>0.0</td>\n",
       "    </tr>\n",
       "    <tr>\n",
       "      <th>13016</th>\n",
       "      <td>0.0</td>\n",
       "      <td>0.0</td>\n",
       "      <td>0.0</td>\n",
       "      <td>0.0</td>\n",
       "      <td>0.0</td>\n",
       "      <td>0.0</td>\n",
       "      <td>0.0</td>\n",
       "      <td>0.0</td>\n",
       "      <td>0.0</td>\n",
       "      <td>0.0</td>\n",
       "      <td>1.0</td>\n",
       "    </tr>\n",
       "    <tr>\n",
       "      <th>8593</th>\n",
       "      <td>0.0</td>\n",
       "      <td>0.0</td>\n",
       "      <td>0.0</td>\n",
       "      <td>0.0</td>\n",
       "      <td>0.0</td>\n",
       "      <td>0.0</td>\n",
       "      <td>0.0</td>\n",
       "      <td>0.0</td>\n",
       "      <td>0.0</td>\n",
       "      <td>1.0</td>\n",
       "      <td>0.0</td>\n",
       "    </tr>\n",
       "    <tr>\n",
       "      <th>13021</th>\n",
       "      <td>0.0</td>\n",
       "      <td>0.0</td>\n",
       "      <td>0.0</td>\n",
       "      <td>0.0</td>\n",
       "      <td>0.0</td>\n",
       "      <td>0.0</td>\n",
       "      <td>0.0</td>\n",
       "      <td>0.0</td>\n",
       "      <td>0.0</td>\n",
       "      <td>0.0</td>\n",
       "      <td>1.0</td>\n",
       "    </tr>\n",
       "    <tr>\n",
       "      <th>14854</th>\n",
       "      <td>0.0</td>\n",
       "      <td>0.0</td>\n",
       "      <td>1.0</td>\n",
       "      <td>0.0</td>\n",
       "      <td>0.0</td>\n",
       "      <td>0.0</td>\n",
       "      <td>0.0</td>\n",
       "      <td>1.0</td>\n",
       "      <td>0.0</td>\n",
       "      <td>0.0</td>\n",
       "      <td>0.0</td>\n",
       "    </tr>\n",
       "    <tr>\n",
       "      <th>3821</th>\n",
       "      <td>0.0</td>\n",
       "      <td>0.0</td>\n",
       "      <td>0.0</td>\n",
       "      <td>0.0</td>\n",
       "      <td>0.0</td>\n",
       "      <td>0.0</td>\n",
       "      <td>0.0</td>\n",
       "      <td>0.0</td>\n",
       "      <td>0.0</td>\n",
       "      <td>0.0</td>\n",
       "      <td>1.0</td>\n",
       "    </tr>\n",
       "    <tr>\n",
       "      <th>13017</th>\n",
       "      <td>0.0</td>\n",
       "      <td>0.0</td>\n",
       "      <td>0.0</td>\n",
       "      <td>0.0</td>\n",
       "      <td>0.0</td>\n",
       "      <td>0.0</td>\n",
       "      <td>0.0</td>\n",
       "      <td>0.0</td>\n",
       "      <td>0.0</td>\n",
       "      <td>0.0</td>\n",
       "      <td>1.0</td>\n",
       "    </tr>\n",
       "    <tr>\n",
       "      <th>8639</th>\n",
       "      <td>0.0</td>\n",
       "      <td>0.0</td>\n",
       "      <td>0.0</td>\n",
       "      <td>0.0</td>\n",
       "      <td>0.0</td>\n",
       "      <td>0.0</td>\n",
       "      <td>0.0</td>\n",
       "      <td>0.0</td>\n",
       "      <td>1.0</td>\n",
       "      <td>1.0</td>\n",
       "      <td>0.0</td>\n",
       "    </tr>\n",
       "    <tr>\n",
       "      <th>8606</th>\n",
       "      <td>0.0</td>\n",
       "      <td>0.0</td>\n",
       "      <td>0.0</td>\n",
       "      <td>0.0</td>\n",
       "      <td>0.0</td>\n",
       "      <td>0.0</td>\n",
       "      <td>0.0</td>\n",
       "      <td>0.0</td>\n",
       "      <td>0.0</td>\n",
       "      <td>1.0</td>\n",
       "      <td>0.0</td>\n",
       "    </tr>\n",
       "    <tr>\n",
       "      <th>13044</th>\n",
       "      <td>0.0</td>\n",
       "      <td>0.0</td>\n",
       "      <td>0.0</td>\n",
       "      <td>0.0</td>\n",
       "      <td>0.0</td>\n",
       "      <td>0.0</td>\n",
       "      <td>0.0</td>\n",
       "      <td>0.0</td>\n",
       "      <td>1.0</td>\n",
       "      <td>0.0</td>\n",
       "      <td>1.0</td>\n",
       "    </tr>\n",
       "  </tbody>\n",
       "</table>\n",
       "</div>"
      ],
      "text/plain": [
       "       Cadmium yellow  Cobalt blue  Emerald green  Iron oxide  Prussian blue  \\\n",
       "ID                                                                             \n",
       "7747              0.0          0.0            1.0         0.0            0.0   \n",
       "7283              0.0          0.0            0.0         0.0            0.0   \n",
       "5561              0.0          0.0            0.0         0.0            0.0   \n",
       "9886              0.0          0.0            0.0         0.0            0.0   \n",
       "5562              0.0          0.0            0.0         0.0            0.0   \n",
       "5556              0.0          0.0            0.0         0.0            0.0   \n",
       "9864              0.0          0.0            0.0         0.0            1.0   \n",
       "3804              0.0          0.0            0.0         0.0            0.0   \n",
       "9875              0.0          0.0            0.0         0.0            0.0   \n",
       "10648             0.0          0.0            1.0         0.0            0.0   \n",
       "8624              0.0          0.0            0.0         0.0            0.0   \n",
       "8620              0.0          0.0            0.0         0.0            0.0   \n",
       "3827              0.0          0.0            0.0         0.0            0.0   \n",
       "379               1.0          0.0            0.0         0.0            0.0   \n",
       "7278              0.0          0.0            0.0         0.0            0.0   \n",
       "3837              0.0          0.0            0.0         0.0            0.0   \n",
       "5564              0.0          0.0            0.0         0.0            0.0   \n",
       "373               1.0          0.0            0.0         0.0            0.0   \n",
       "13037             0.0          0.0            0.0         0.0            0.0   \n",
       "13033             0.0          0.0            0.0         0.0            0.0   \n",
       "3833              0.0          0.0            0.0         0.0            0.0   \n",
       "13008             0.0          0.0            0.0         0.0            0.0   \n",
       "7289              0.0          0.0            0.0         1.0            0.0   \n",
       "5566              0.0          0.0            0.0         0.0            0.0   \n",
       "381               1.0          0.0            0.0         0.0            0.0   \n",
       "5563              0.0          0.0            0.0         0.0            0.0   \n",
       "3813              0.0          0.0            0.0         0.0            0.0   \n",
       "8759              0.0          0.0            1.0         0.0            0.0   \n",
       "13045             0.0          0.0            0.0         0.0            0.0   \n",
       "9880              0.0          0.0            0.0         0.0            0.0   \n",
       "13016             0.0          0.0            0.0         0.0            0.0   \n",
       "8593              0.0          0.0            0.0         0.0            0.0   \n",
       "13021             0.0          0.0            0.0         0.0            0.0   \n",
       "14854             0.0          0.0            1.0         0.0            0.0   \n",
       "3821              0.0          0.0            0.0         0.0            0.0   \n",
       "13017             0.0          0.0            0.0         0.0            0.0   \n",
       "8639              0.0          0.0            0.0         0.0            0.0   \n",
       "8606              0.0          0.0            0.0         0.0            0.0   \n",
       "13044             0.0          0.0            0.0         0.0            0.0   \n",
       "\n",
       "       SnO1  Ultramarine blue  Vermilion  ZnO  Chromate  Lead  \n",
       "ID                                                             \n",
       "7747    0.0               0.0        1.0  1.0       0.0   0.0  \n",
       "7283    0.0               0.0        1.0  0.0       0.0   0.0  \n",
       "5561    1.0               0.0        0.0  0.0       0.0   0.0  \n",
       "9886    0.0               0.0        0.0  0.0       1.0   0.0  \n",
       "5562    1.0               0.0        0.0  0.0       0.0   0.0  \n",
       "5556    1.0               0.0        0.0  0.0       0.0   0.0  \n",
       "9864    0.0               0.0        0.0  0.0       1.0   0.0  \n",
       "3804    0.0               0.0        0.0  0.0       0.0   1.0  \n",
       "9875    0.0               0.0        0.0  0.0       1.0   0.0  \n",
       "10648   0.0               0.0        0.0  1.0       1.0   0.0  \n",
       "8624    0.0               0.0        0.0  0.0       1.0   0.0  \n",
       "8620    0.0               0.0        0.0  0.0       1.0   0.0  \n",
       "3827    0.0               0.0        0.0  0.0       0.0   1.0  \n",
       "379     0.0               0.0        0.0  0.0       0.0   0.0  \n",
       "7278    0.0               0.0        1.0  0.0       0.0   0.0  \n",
       "3837    0.0               0.0        0.0  0.0       0.0   1.0  \n",
       "5564    1.0               0.0        0.0  0.0       0.0   0.0  \n",
       "373     0.0               0.0        0.0  0.0       0.0   0.0  \n",
       "13037   0.0               0.0        0.0  0.0       0.0   1.0  \n",
       "13033   0.0               0.0        0.0  0.0       0.0   1.0  \n",
       "3833    0.0               0.0        0.0  0.0       0.0   1.0  \n",
       "13008   0.0               0.0        0.0  0.0       0.0   1.0  \n",
       "7289    0.0               0.0        1.0  0.0       0.0   0.0  \n",
       "5566    1.0               0.0        0.0  0.0       0.0   0.0  \n",
       "381     0.0               0.0        0.0  0.0       0.0   0.0  \n",
       "5563    1.0               0.0        0.0  0.0       0.0   0.0  \n",
       "3813    0.0               0.0        0.0  0.0       0.0   1.0  \n",
       "8759    0.0               0.0        0.0  0.0       1.0   0.0  \n",
       "13045   0.0               0.0        0.0  0.0       0.0   1.0  \n",
       "9880    0.0               0.0        0.0  0.0       1.0   0.0  \n",
       "13016   0.0               0.0        0.0  0.0       0.0   1.0  \n",
       "8593    0.0               0.0        0.0  0.0       1.0   0.0  \n",
       "13021   0.0               0.0        0.0  0.0       0.0   1.0  \n",
       "14854   0.0               0.0        1.0  0.0       0.0   0.0  \n",
       "3821    0.0               0.0        0.0  0.0       0.0   1.0  \n",
       "13017   0.0               0.0        0.0  0.0       0.0   1.0  \n",
       "8639    0.0               0.0        0.0  1.0       1.0   0.0  \n",
       "8606    0.0               0.0        0.0  0.0       1.0   0.0  \n",
       "13044   0.0               0.0        0.0  1.0       0.0   1.0  "
      ]
     },
     "execution_count": 84,
     "metadata": {},
     "output_type": "execute_result"
    }
   ],
   "source": [
    "temp = predicted[cobalt_blue == False]\n",
    "temp\n",
    "# temp[temp['Cobalt blue'] == True]"
   ]
  },
  {
   "cell_type": "code",
   "execution_count": null,
   "metadata": {
    "id": "yvq2bwdGrW4g",
    "outputId": "bd5b8f76-4100-4ee5-a890-8cd8f49814a6"
   },
   "outputs": [
    {
     "data": {
      "text/html": [
       "<div>\n",
       "<style scoped>\n",
       "    .dataframe tbody tr th:only-of-type {\n",
       "        vertical-align: middle;\n",
       "    }\n",
       "\n",
       "    .dataframe tbody tr th {\n",
       "        vertical-align: top;\n",
       "    }\n",
       "\n",
       "    .dataframe thead th {\n",
       "        text-align: right;\n",
       "    }\n",
       "</style>\n",
       "<table border=\"1\" class=\"dataframe\">\n",
       "  <thead>\n",
       "    <tr style=\"text-align: right;\">\n",
       "      <th></th>\n",
       "      <th>Cadmium yellow</th>\n",
       "      <th>Cobalt blue</th>\n",
       "      <th>Emerald green</th>\n",
       "      <th>Iron oxide</th>\n",
       "      <th>Prussian blue</th>\n",
       "      <th>SnO1</th>\n",
       "      <th>Ultramarine blue</th>\n",
       "      <th>Vermilion</th>\n",
       "      <th>ZnO</th>\n",
       "      <th>Chromate</th>\n",
       "      <th>Lead</th>\n",
       "    </tr>\n",
       "    <tr>\n",
       "      <th>ID</th>\n",
       "      <th></th>\n",
       "      <th></th>\n",
       "      <th></th>\n",
       "      <th></th>\n",
       "      <th></th>\n",
       "      <th></th>\n",
       "      <th></th>\n",
       "      <th></th>\n",
       "      <th></th>\n",
       "      <th></th>\n",
       "      <th></th>\n",
       "    </tr>\n",
       "  </thead>\n",
       "  <tbody>\n",
       "    <tr>\n",
       "      <th>7747</th>\n",
       "      <td>0</td>\n",
       "      <td>0</td>\n",
       "      <td>0</td>\n",
       "      <td>0</td>\n",
       "      <td>0</td>\n",
       "      <td>0</td>\n",
       "      <td>0</td>\n",
       "      <td>1</td>\n",
       "      <td>1</td>\n",
       "      <td>0</td>\n",
       "      <td>0</td>\n",
       "    </tr>\n",
       "    <tr>\n",
       "      <th>7283</th>\n",
       "      <td>0</td>\n",
       "      <td>0</td>\n",
       "      <td>1</td>\n",
       "      <td>0</td>\n",
       "      <td>0</td>\n",
       "      <td>0</td>\n",
       "      <td>0</td>\n",
       "      <td>1</td>\n",
       "      <td>0</td>\n",
       "      <td>0</td>\n",
       "      <td>0</td>\n",
       "    </tr>\n",
       "    <tr>\n",
       "      <th>5561</th>\n",
       "      <td>0</td>\n",
       "      <td>0</td>\n",
       "      <td>1</td>\n",
       "      <td>0</td>\n",
       "      <td>0</td>\n",
       "      <td>1</td>\n",
       "      <td>0</td>\n",
       "      <td>0</td>\n",
       "      <td>0</td>\n",
       "      <td>0</td>\n",
       "      <td>0</td>\n",
       "    </tr>\n",
       "    <tr>\n",
       "      <th>9886</th>\n",
       "      <td>0</td>\n",
       "      <td>0</td>\n",
       "      <td>1</td>\n",
       "      <td>0</td>\n",
       "      <td>0</td>\n",
       "      <td>0</td>\n",
       "      <td>0</td>\n",
       "      <td>0</td>\n",
       "      <td>0</td>\n",
       "      <td>1</td>\n",
       "      <td>0</td>\n",
       "    </tr>\n",
       "    <tr>\n",
       "      <th>5562</th>\n",
       "      <td>0</td>\n",
       "      <td>0</td>\n",
       "      <td>1</td>\n",
       "      <td>0</td>\n",
       "      <td>0</td>\n",
       "      <td>1</td>\n",
       "      <td>0</td>\n",
       "      <td>0</td>\n",
       "      <td>0</td>\n",
       "      <td>0</td>\n",
       "      <td>0</td>\n",
       "    </tr>\n",
       "    <tr>\n",
       "      <th>5556</th>\n",
       "      <td>0</td>\n",
       "      <td>0</td>\n",
       "      <td>1</td>\n",
       "      <td>0</td>\n",
       "      <td>0</td>\n",
       "      <td>1</td>\n",
       "      <td>0</td>\n",
       "      <td>0</td>\n",
       "      <td>0</td>\n",
       "      <td>0</td>\n",
       "      <td>0</td>\n",
       "    </tr>\n",
       "    <tr>\n",
       "      <th>9864</th>\n",
       "      <td>0</td>\n",
       "      <td>0</td>\n",
       "      <td>1</td>\n",
       "      <td>0</td>\n",
       "      <td>0</td>\n",
       "      <td>0</td>\n",
       "      <td>0</td>\n",
       "      <td>0</td>\n",
       "      <td>0</td>\n",
       "      <td>1</td>\n",
       "      <td>0</td>\n",
       "    </tr>\n",
       "    <tr>\n",
       "      <th>3804</th>\n",
       "      <td>0</td>\n",
       "      <td>0</td>\n",
       "      <td>1</td>\n",
       "      <td>0</td>\n",
       "      <td>0</td>\n",
       "      <td>0</td>\n",
       "      <td>0</td>\n",
       "      <td>0</td>\n",
       "      <td>0</td>\n",
       "      <td>0</td>\n",
       "      <td>1</td>\n",
       "    </tr>\n",
       "    <tr>\n",
       "      <th>9875</th>\n",
       "      <td>0</td>\n",
       "      <td>0</td>\n",
       "      <td>1</td>\n",
       "      <td>0</td>\n",
       "      <td>0</td>\n",
       "      <td>0</td>\n",
       "      <td>0</td>\n",
       "      <td>0</td>\n",
       "      <td>0</td>\n",
       "      <td>1</td>\n",
       "      <td>0</td>\n",
       "    </tr>\n",
       "    <tr>\n",
       "      <th>10648</th>\n",
       "      <td>0</td>\n",
       "      <td>0</td>\n",
       "      <td>0</td>\n",
       "      <td>0</td>\n",
       "      <td>0</td>\n",
       "      <td>0</td>\n",
       "      <td>0</td>\n",
       "      <td>0</td>\n",
       "      <td>1</td>\n",
       "      <td>1</td>\n",
       "      <td>0</td>\n",
       "    </tr>\n",
       "    <tr>\n",
       "      <th>8624</th>\n",
       "      <td>0</td>\n",
       "      <td>0</td>\n",
       "      <td>1</td>\n",
       "      <td>0</td>\n",
       "      <td>0</td>\n",
       "      <td>0</td>\n",
       "      <td>0</td>\n",
       "      <td>0</td>\n",
       "      <td>0</td>\n",
       "      <td>1</td>\n",
       "      <td>0</td>\n",
       "    </tr>\n",
       "    <tr>\n",
       "      <th>8620</th>\n",
       "      <td>0</td>\n",
       "      <td>0</td>\n",
       "      <td>1</td>\n",
       "      <td>0</td>\n",
       "      <td>0</td>\n",
       "      <td>0</td>\n",
       "      <td>0</td>\n",
       "      <td>0</td>\n",
       "      <td>0</td>\n",
       "      <td>1</td>\n",
       "      <td>0</td>\n",
       "    </tr>\n",
       "    <tr>\n",
       "      <th>3827</th>\n",
       "      <td>0</td>\n",
       "      <td>0</td>\n",
       "      <td>1</td>\n",
       "      <td>0</td>\n",
       "      <td>0</td>\n",
       "      <td>0</td>\n",
       "      <td>0</td>\n",
       "      <td>0</td>\n",
       "      <td>0</td>\n",
       "      <td>0</td>\n",
       "      <td>1</td>\n",
       "    </tr>\n",
       "    <tr>\n",
       "      <th>379</th>\n",
       "      <td>1</td>\n",
       "      <td>0</td>\n",
       "      <td>1</td>\n",
       "      <td>0</td>\n",
       "      <td>0</td>\n",
       "      <td>0</td>\n",
       "      <td>0</td>\n",
       "      <td>0</td>\n",
       "      <td>0</td>\n",
       "      <td>0</td>\n",
       "      <td>0</td>\n",
       "    </tr>\n",
       "    <tr>\n",
       "      <th>7278</th>\n",
       "      <td>0</td>\n",
       "      <td>0</td>\n",
       "      <td>1</td>\n",
       "      <td>0</td>\n",
       "      <td>0</td>\n",
       "      <td>0</td>\n",
       "      <td>0</td>\n",
       "      <td>1</td>\n",
       "      <td>0</td>\n",
       "      <td>0</td>\n",
       "      <td>0</td>\n",
       "    </tr>\n",
       "    <tr>\n",
       "      <th>3837</th>\n",
       "      <td>0</td>\n",
       "      <td>0</td>\n",
       "      <td>1</td>\n",
       "      <td>0</td>\n",
       "      <td>0</td>\n",
       "      <td>0</td>\n",
       "      <td>0</td>\n",
       "      <td>0</td>\n",
       "      <td>0</td>\n",
       "      <td>0</td>\n",
       "      <td>1</td>\n",
       "    </tr>\n",
       "    <tr>\n",
       "      <th>5564</th>\n",
       "      <td>0</td>\n",
       "      <td>0</td>\n",
       "      <td>1</td>\n",
       "      <td>0</td>\n",
       "      <td>0</td>\n",
       "      <td>1</td>\n",
       "      <td>0</td>\n",
       "      <td>0</td>\n",
       "      <td>0</td>\n",
       "      <td>0</td>\n",
       "      <td>0</td>\n",
       "    </tr>\n",
       "    <tr>\n",
       "      <th>373</th>\n",
       "      <td>1</td>\n",
       "      <td>0</td>\n",
       "      <td>1</td>\n",
       "      <td>0</td>\n",
       "      <td>0</td>\n",
       "      <td>0</td>\n",
       "      <td>0</td>\n",
       "      <td>0</td>\n",
       "      <td>0</td>\n",
       "      <td>0</td>\n",
       "      <td>0</td>\n",
       "    </tr>\n",
       "    <tr>\n",
       "      <th>13037</th>\n",
       "      <td>0</td>\n",
       "      <td>0</td>\n",
       "      <td>1</td>\n",
       "      <td>0</td>\n",
       "      <td>0</td>\n",
       "      <td>0</td>\n",
       "      <td>0</td>\n",
       "      <td>0</td>\n",
       "      <td>0</td>\n",
       "      <td>0</td>\n",
       "      <td>1</td>\n",
       "    </tr>\n",
       "    <tr>\n",
       "      <th>13033</th>\n",
       "      <td>0</td>\n",
       "      <td>0</td>\n",
       "      <td>1</td>\n",
       "      <td>0</td>\n",
       "      <td>0</td>\n",
       "      <td>0</td>\n",
       "      <td>0</td>\n",
       "      <td>0</td>\n",
       "      <td>0</td>\n",
       "      <td>0</td>\n",
       "      <td>1</td>\n",
       "    </tr>\n",
       "    <tr>\n",
       "      <th>3833</th>\n",
       "      <td>0</td>\n",
       "      <td>0</td>\n",
       "      <td>1</td>\n",
       "      <td>0</td>\n",
       "      <td>0</td>\n",
       "      <td>0</td>\n",
       "      <td>0</td>\n",
       "      <td>0</td>\n",
       "      <td>0</td>\n",
       "      <td>0</td>\n",
       "      <td>1</td>\n",
       "    </tr>\n",
       "    <tr>\n",
       "      <th>13008</th>\n",
       "      <td>0</td>\n",
       "      <td>0</td>\n",
       "      <td>1</td>\n",
       "      <td>0</td>\n",
       "      <td>0</td>\n",
       "      <td>0</td>\n",
       "      <td>0</td>\n",
       "      <td>0</td>\n",
       "      <td>0</td>\n",
       "      <td>0</td>\n",
       "      <td>1</td>\n",
       "    </tr>\n",
       "    <tr>\n",
       "      <th>7289</th>\n",
       "      <td>0</td>\n",
       "      <td>0</td>\n",
       "      <td>1</td>\n",
       "      <td>0</td>\n",
       "      <td>0</td>\n",
       "      <td>0</td>\n",
       "      <td>0</td>\n",
       "      <td>1</td>\n",
       "      <td>0</td>\n",
       "      <td>0</td>\n",
       "      <td>0</td>\n",
       "    </tr>\n",
       "    <tr>\n",
       "      <th>5566</th>\n",
       "      <td>0</td>\n",
       "      <td>0</td>\n",
       "      <td>1</td>\n",
       "      <td>0</td>\n",
       "      <td>0</td>\n",
       "      <td>1</td>\n",
       "      <td>0</td>\n",
       "      <td>0</td>\n",
       "      <td>0</td>\n",
       "      <td>0</td>\n",
       "      <td>0</td>\n",
       "    </tr>\n",
       "    <tr>\n",
       "      <th>381</th>\n",
       "      <td>1</td>\n",
       "      <td>0</td>\n",
       "      <td>1</td>\n",
       "      <td>0</td>\n",
       "      <td>0</td>\n",
       "      <td>0</td>\n",
       "      <td>0</td>\n",
       "      <td>0</td>\n",
       "      <td>0</td>\n",
       "      <td>0</td>\n",
       "      <td>0</td>\n",
       "    </tr>\n",
       "    <tr>\n",
       "      <th>5563</th>\n",
       "      <td>0</td>\n",
       "      <td>0</td>\n",
       "      <td>1</td>\n",
       "      <td>0</td>\n",
       "      <td>0</td>\n",
       "      <td>1</td>\n",
       "      <td>0</td>\n",
       "      <td>0</td>\n",
       "      <td>0</td>\n",
       "      <td>0</td>\n",
       "      <td>0</td>\n",
       "    </tr>\n",
       "    <tr>\n",
       "      <th>3813</th>\n",
       "      <td>0</td>\n",
       "      <td>0</td>\n",
       "      <td>1</td>\n",
       "      <td>0</td>\n",
       "      <td>0</td>\n",
       "      <td>0</td>\n",
       "      <td>0</td>\n",
       "      <td>0</td>\n",
       "      <td>0</td>\n",
       "      <td>0</td>\n",
       "      <td>1</td>\n",
       "    </tr>\n",
       "    <tr>\n",
       "      <th>8759</th>\n",
       "      <td>0</td>\n",
       "      <td>0</td>\n",
       "      <td>0</td>\n",
       "      <td>0</td>\n",
       "      <td>0</td>\n",
       "      <td>0</td>\n",
       "      <td>0</td>\n",
       "      <td>0</td>\n",
       "      <td>0</td>\n",
       "      <td>1</td>\n",
       "      <td>1</td>\n",
       "    </tr>\n",
       "    <tr>\n",
       "      <th>13045</th>\n",
       "      <td>0</td>\n",
       "      <td>0</td>\n",
       "      <td>1</td>\n",
       "      <td>0</td>\n",
       "      <td>0</td>\n",
       "      <td>0</td>\n",
       "      <td>0</td>\n",
       "      <td>0</td>\n",
       "      <td>0</td>\n",
       "      <td>0</td>\n",
       "      <td>1</td>\n",
       "    </tr>\n",
       "    <tr>\n",
       "      <th>9880</th>\n",
       "      <td>0</td>\n",
       "      <td>0</td>\n",
       "      <td>1</td>\n",
       "      <td>0</td>\n",
       "      <td>0</td>\n",
       "      <td>0</td>\n",
       "      <td>0</td>\n",
       "      <td>0</td>\n",
       "      <td>0</td>\n",
       "      <td>1</td>\n",
       "      <td>0</td>\n",
       "    </tr>\n",
       "    <tr>\n",
       "      <th>13016</th>\n",
       "      <td>0</td>\n",
       "      <td>0</td>\n",
       "      <td>1</td>\n",
       "      <td>0</td>\n",
       "      <td>0</td>\n",
       "      <td>0</td>\n",
       "      <td>0</td>\n",
       "      <td>0</td>\n",
       "      <td>0</td>\n",
       "      <td>0</td>\n",
       "      <td>1</td>\n",
       "    </tr>\n",
       "    <tr>\n",
       "      <th>8593</th>\n",
       "      <td>0</td>\n",
       "      <td>0</td>\n",
       "      <td>1</td>\n",
       "      <td>0</td>\n",
       "      <td>0</td>\n",
       "      <td>0</td>\n",
       "      <td>0</td>\n",
       "      <td>0</td>\n",
       "      <td>0</td>\n",
       "      <td>1</td>\n",
       "      <td>0</td>\n",
       "    </tr>\n",
       "    <tr>\n",
       "      <th>13021</th>\n",
       "      <td>0</td>\n",
       "      <td>0</td>\n",
       "      <td>1</td>\n",
       "      <td>0</td>\n",
       "      <td>0</td>\n",
       "      <td>0</td>\n",
       "      <td>0</td>\n",
       "      <td>0</td>\n",
       "      <td>0</td>\n",
       "      <td>0</td>\n",
       "      <td>1</td>\n",
       "    </tr>\n",
       "    <tr>\n",
       "      <th>14854</th>\n",
       "      <td>0</td>\n",
       "      <td>0</td>\n",
       "      <td>0</td>\n",
       "      <td>0</td>\n",
       "      <td>1</td>\n",
       "      <td>0</td>\n",
       "      <td>0</td>\n",
       "      <td>1</td>\n",
       "      <td>0</td>\n",
       "      <td>0</td>\n",
       "      <td>0</td>\n",
       "    </tr>\n",
       "    <tr>\n",
       "      <th>3821</th>\n",
       "      <td>0</td>\n",
       "      <td>0</td>\n",
       "      <td>1</td>\n",
       "      <td>0</td>\n",
       "      <td>0</td>\n",
       "      <td>0</td>\n",
       "      <td>0</td>\n",
       "      <td>0</td>\n",
       "      <td>0</td>\n",
       "      <td>0</td>\n",
       "      <td>1</td>\n",
       "    </tr>\n",
       "    <tr>\n",
       "      <th>13017</th>\n",
       "      <td>0</td>\n",
       "      <td>0</td>\n",
       "      <td>1</td>\n",
       "      <td>0</td>\n",
       "      <td>0</td>\n",
       "      <td>0</td>\n",
       "      <td>0</td>\n",
       "      <td>0</td>\n",
       "      <td>0</td>\n",
       "      <td>0</td>\n",
       "      <td>1</td>\n",
       "    </tr>\n",
       "    <tr>\n",
       "      <th>8639</th>\n",
       "      <td>0</td>\n",
       "      <td>0</td>\n",
       "      <td>1</td>\n",
       "      <td>0</td>\n",
       "      <td>0</td>\n",
       "      <td>0</td>\n",
       "      <td>0</td>\n",
       "      <td>0</td>\n",
       "      <td>0</td>\n",
       "      <td>1</td>\n",
       "      <td>0</td>\n",
       "    </tr>\n",
       "    <tr>\n",
       "      <th>8606</th>\n",
       "      <td>0</td>\n",
       "      <td>0</td>\n",
       "      <td>1</td>\n",
       "      <td>0</td>\n",
       "      <td>0</td>\n",
       "      <td>0</td>\n",
       "      <td>0</td>\n",
       "      <td>0</td>\n",
       "      <td>0</td>\n",
       "      <td>1</td>\n",
       "      <td>0</td>\n",
       "    </tr>\n",
       "    <tr>\n",
       "      <th>13044</th>\n",
       "      <td>0</td>\n",
       "      <td>0</td>\n",
       "      <td>1</td>\n",
       "      <td>0</td>\n",
       "      <td>0</td>\n",
       "      <td>0</td>\n",
       "      <td>0</td>\n",
       "      <td>0</td>\n",
       "      <td>0</td>\n",
       "      <td>0</td>\n",
       "      <td>1</td>\n",
       "    </tr>\n",
       "  </tbody>\n",
       "</table>\n",
       "</div>"
      ],
      "text/plain": [
       "       Cadmium yellow  Cobalt blue  Emerald green  Iron oxide  Prussian blue  \\\n",
       "ID                                                                             \n",
       "7747                0            0              0           0              0   \n",
       "7283                0            0              1           0              0   \n",
       "5561                0            0              1           0              0   \n",
       "9886                0            0              1           0              0   \n",
       "5562                0            0              1           0              0   \n",
       "5556                0            0              1           0              0   \n",
       "9864                0            0              1           0              0   \n",
       "3804                0            0              1           0              0   \n",
       "9875                0            0              1           0              0   \n",
       "10648               0            0              0           0              0   \n",
       "8624                0            0              1           0              0   \n",
       "8620                0            0              1           0              0   \n",
       "3827                0            0              1           0              0   \n",
       "379                 1            0              1           0              0   \n",
       "7278                0            0              1           0              0   \n",
       "3837                0            0              1           0              0   \n",
       "5564                0            0              1           0              0   \n",
       "373                 1            0              1           0              0   \n",
       "13037               0            0              1           0              0   \n",
       "13033               0            0              1           0              0   \n",
       "3833                0            0              1           0              0   \n",
       "13008               0            0              1           0              0   \n",
       "7289                0            0              1           0              0   \n",
       "5566                0            0              1           0              0   \n",
       "381                 1            0              1           0              0   \n",
       "5563                0            0              1           0              0   \n",
       "3813                0            0              1           0              0   \n",
       "8759                0            0              0           0              0   \n",
       "13045               0            0              1           0              0   \n",
       "9880                0            0              1           0              0   \n",
       "13016               0            0              1           0              0   \n",
       "8593                0            0              1           0              0   \n",
       "13021               0            0              1           0              0   \n",
       "14854               0            0              0           0              1   \n",
       "3821                0            0              1           0              0   \n",
       "13017               0            0              1           0              0   \n",
       "8639                0            0              1           0              0   \n",
       "8606                0            0              1           0              0   \n",
       "13044               0            0              1           0              0   \n",
       "\n",
       "       SnO1  Ultramarine blue  Vermilion  ZnO  Chromate  Lead  \n",
       "ID                                                             \n",
       "7747      0                 0          1    1         0     0  \n",
       "7283      0                 0          1    0         0     0  \n",
       "5561      1                 0          0    0         0     0  \n",
       "9886      0                 0          0    0         1     0  \n",
       "5562      1                 0          0    0         0     0  \n",
       "5556      1                 0          0    0         0     0  \n",
       "9864      0                 0          0    0         1     0  \n",
       "3804      0                 0          0    0         0     1  \n",
       "9875      0                 0          0    0         1     0  \n",
       "10648     0                 0          0    1         1     0  \n",
       "8624      0                 0          0    0         1     0  \n",
       "8620      0                 0          0    0         1     0  \n",
       "3827      0                 0          0    0         0     1  \n",
       "379       0                 0          0    0         0     0  \n",
       "7278      0                 0          1    0         0     0  \n",
       "3837      0                 0          0    0         0     1  \n",
       "5564      1                 0          0    0         0     0  \n",
       "373       0                 0          0    0         0     0  \n",
       "13037     0                 0          0    0         0     1  \n",
       "13033     0                 0          0    0         0     1  \n",
       "3833      0                 0          0    0         0     1  \n",
       "13008     0                 0          0    0         0     1  \n",
       "7289      0                 0          1    0         0     0  \n",
       "5566      1                 0          0    0         0     0  \n",
       "381       0                 0          0    0         0     0  \n",
       "5563      1                 0          0    0         0     0  \n",
       "3813      0                 0          0    0         0     1  \n",
       "8759      0                 0          0    0         1     1  \n",
       "13045     0                 0          0    0         0     1  \n",
       "9880      0                 0          0    0         1     0  \n",
       "13016     0                 0          0    0         0     1  \n",
       "8593      0                 0          0    0         1     0  \n",
       "13021     0                 0          0    0         0     1  \n",
       "14854     0                 0          1    0         0     0  \n",
       "3821      0                 0          0    0         0     1  \n",
       "13017     0                 0          0    0         0     1  \n",
       "8639      0                 0          0    0         1     0  \n",
       "8606      0                 0          0    0         1     0  \n",
       "13044     0                 0          0    0         0     1  "
      ]
     },
     "execution_count": 85,
     "metadata": {},
     "output_type": "execute_result"
    }
   ],
   "source": [
    "y_test[cobalt_blue == False]"
   ]
  },
  {
   "cell_type": "markdown",
   "metadata": {
    "id": "_v8W5ymgrW4g"
   },
   "source": [
    "# Plot Confusion Matrix"
   ]
  },
  {
   "cell_type": "code",
   "execution_count": null,
   "metadata": {
    "id": "bIKpJ3GIrW4h"
   },
   "outputs": [],
   "source": [
    "from sklearn.metrics import multilabel_confusion_matrix, ConfusionMatrixDisplay\n",
    "\n",
    "cm = multilabel_confusion_matrix(y_test, result)"
   ]
  },
  {
   "cell_type": "code",
   "execution_count": null,
   "metadata": {
    "id": "roOlNactrW4h",
    "outputId": "06e8a42a-308d-4a37-ccdb-2c5e910f3987"
   },
   "outputs": [
    {
     "data": {
      "text/plain": [
       "Index(['Cadmium yellow', 'Cobalt blue', 'Emerald green', 'Iron oxide',\n",
       "       'Prussian blue', 'SnO1', 'Ultramarine blue', 'Vermilion', 'ZnO',\n",
       "       'Chromate', 'Lead'],\n",
       "      dtype='object')"
      ]
     },
     "execution_count": 31,
     "metadata": {},
     "output_type": "execute_result"
    }
   ],
   "source": [
    "gt.columns"
   ]
  },
  {
   "cell_type": "code",
   "execution_count": null,
   "metadata": {
    "id": "YE_Y79GwrW4h",
    "outputId": "0e7be439-ab6a-439e-fe33-73809eba2941"
   },
   "outputs": [
    {
     "data": {
      "text/plain": [
       "(11, 2, 2)"
      ]
     },
     "execution_count": 32,
     "metadata": {},
     "output_type": "execute_result"
    }
   ],
   "source": [
    "cm.shape"
   ]
  },
  {
   "cell_type": "code",
   "execution_count": null,
   "metadata": {
    "id": "ttEWKxPIrW4h",
    "outputId": "39cb7667-3872-4ab9-b426-006bc0cba5b4"
   },
   "outputs": [
    {
     "data": {
      "image/png": "[encoded data removed]",
      "text/plain": [
       "<Figure size 1296x864 with 13 Axes>"
      ]
     },
     "metadata": {
      "needs_background": "light"
     },
     "output_type": "display_data"
    }
   ],
   "source": [
    "f, axes = plt.subplots(3, 4, figsize=(18, 12))\n",
    "axes = axes.ravel()\n",
    "for i in range(13):\n",
    "    disp = ConfusionMatrixDisplay(cm[i,:,:],\n",
    "                                  display_labels=[0, gt.columns[i]])\n",
    "    disp.plot(ax=axes[i], values_format= '.4g')\n",
    "    disp.ax_.set_title('{}'.format(gt.columns[i]))\n",
    "    disp.ax_.set_xlabel('')\n",
    "    disp.ax_.set_ylabel('')\n",
    "    disp.im_.colorbar.remove()\n",
    "#     disp.plot()\n",
    "\n",
    "plt.subplots_adjust(wspace=0.5, hspace=0.01)\n",
    "f.colorbar(disp.im_, ax = axes)\n",
    "plt.show()"
   ]
  },
  {
   "cell_type": "code",
   "execution_count": null,
   "metadata": {
    "id": "E1RjvDrmrW4j"
   },
   "outputs": [],
   "source": []
  }
 ],
 "metadata": {
  "colab": {
   "collapsed_sections": [
    "-DS-tM9o_1fd",
    "5cXT6EobrW4Z",
    "Abb_46c7rW4f",
    "_v8W5ymgrW4g"
   ],
   "name": "Stage2_Model_on_Experimental_Noft.ipynb",
   "provenance": []
  },
  "kernelspec": {
   "display_name": "Python 3",
   "language": "python",
   "name": "python3"
  },
  "language_info": {
   "codemirror_mode": {
    "name": "ipython",
    "version": 3
   },
   "file_extension": ".py",
   "mimetype": "text/x-python",
   "name": "python",
   "nbconvert_exporter": "python",
   "pygments_lexer": "ipython3",
   "version": "3.9.0"
  }
 },
 "nbformat": 4,
 "nbformat_minor": 4
}

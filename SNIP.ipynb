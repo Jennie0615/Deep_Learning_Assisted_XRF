{
 "cells": [
  {
   "cell_type": "markdown",
   "metadata": {},
   "source": [
    "# Statistics-sensitive Non-linear Iterative Peak-clipping (SNIP)"
   ]
  },
  {
   "cell_type": "code",
   "execution_count": null,
   "metadata": {},
   "outputs": [],
   "source": [
    "using DelimitedFiles \n",
    "using Plots\n",
    "using HDF5\n",
    "using Gtk\n",
    "using Statistics"
   ]
  },
  {
   "cell_type": "markdown",
   "metadata": {},
   "source": [
    "### SNIP Function"
   ]
  },
  {
   "cell_type": "code",
   "execution_count": null,
   "metadata": {},
   "outputs": [],
   "source": [
    "function SNIP(d::AbstractMatrix)\n",
    "    M = 36 # distance of M\n",
    "    iter = 15; # number of iterations  \n",
    "\n",
    "    Mb = 14 # distance of M\n",
    "    iterb = 5\n",
    "\n",
    "    Mc = 7 # distance of M\n",
    "    iterc = 4\n",
    "\n",
    "    Md = 3 # distance of M\n",
    "    iterd = 2\n",
    "    \n",
    "    for j in 1:iter, i in M+1:4096-M\n",
    "            M1 = d[:,i-M]\n",
    "            M2 = d[:,i+M]\n",
    "            J = [(x+y)/2 for (x,y) in zip(M1, M2)]\n",
    "            d[:,i] = [x < y ? x : y for (x, y) in zip(J, d[:,i])]\n",
    "    end\n",
    "    for j in 1:iterb, i in Mb+1:4096-Mb\n",
    "            M1 = d[:,i-Mb]\n",
    "            M2 = d[:,i+Mb]\n",
    "            J = [(x+y)/2 for (x,y) in zip(M1, M2)]\n",
    "            d[:,i] = [x < y ? x : y for (x, y) in zip(J, d[:,i])]\n",
    "    end\n",
    "    for j in 1:iterc, i in Mc+1:4096-Mc\n",
    "            M1 = d[:,i-Mc]\n",
    "            M2 = d[:,i+Mc]\n",
    "            J = [(x+y)/2 for (x,y) in zip(M1, M2)]\n",
    "            d[:,i] = [x < y ? x : y for (x, y) in zip(J, d[:,i])]\n",
    "    end\n",
    "    for j in 1:iterd, i in Md+1:4096-Md\n",
    "            M1 = d[:,i-Md]\n",
    "            M2 = d[:,i+Md]\n",
    "            J = [(x+y)/2 for (x,y) in zip(M1, M2)]\n",
    "            d[:,i] = [x < y ? x : y for (x, y) in zip(J, d[:,i])]\n",
    "    end\n",
    "    return(d)\n",
    "end\n"
   ]
  },
  {
   "cell_type": "markdown",
   "metadata": {},
   "source": [
    "### Read in XRF data\n",
    "\n",
    "This can be from ascii, HDF5, tiff, etc. Here the dataset is ascii. "
   ]
  },
  {
   "cell_type": "code",
   "execution_count": null,
   "metadata": {},
   "outputs": [],
   "source": [
    "XRF_spectra = readdlm(\"spectra_sheet.csv\", ',', Float64);"
   ]
  },
  {
   "cell_type": "markdown",
   "metadata": {},
   "source": [
    "### Calculate Mean Spectra"
   ]
  },
  {
   "cell_type": "code",
   "execution_count": null,
   "metadata": {},
   "outputs": [],
   "source": [
    "XRF_mean = mean(XRF_spectra, dims=2)"
   ]
  },
  {
   "cell_type": "markdown",
   "metadata": {},
   "source": [
    "### Calculate Background"
   ]
  },
  {
   "cell_type": "code",
   "execution_count": null,
   "metadata": {},
   "outputs": [],
   "source": [
    "XRF_background = SNIP(XRF_mean);"
   ]
  },
  {
   "cell_type": "markdown",
   "metadata": {},
   "source": [
    "### Save Background Data"
   ]
  },
  {
   "cell_type": "code",
   "execution_count": null,
   "metadata": {},
   "outputs": [],
   "source": [
    "writedlm(\"XRFbackground.csv\", XRF_background, ',')"
   ]
  }
 ],
 "metadata": {
  "@webio": {
   "lastCommId": null,
   "lastKernelId": null
  },
  "kernelspec": {
   "display_name": "Julia 1.6.3",
   "language": "julia",
   "name": "julia-1.6"
  },
  "language_info": {
   "file_extension": ".jl",
   "mimetype": "application/julia",
   "name": "julia",
   "version": "1.6.3"
  }
 },
 "nbformat": 4,
 "nbformat_minor": 4
}
